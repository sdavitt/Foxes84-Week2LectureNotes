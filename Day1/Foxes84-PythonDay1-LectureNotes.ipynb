{
 "cells": [
  {
   "cell_type": "markdown",
   "metadata": {},
   "source": [
    "# Week 2 - Monday Lesson (variable assignment, loops, lists)"
   ]
  },
  {
   "cell_type": "markdown",
   "metadata": {},
   "source": [
    "## Tasks Today:\n",
    "\n",
    "1) Int & Float assignments <br>\n",
    " &nbsp;&nbsp;&nbsp;&nbsp; a) Assigning int <br>\n",
    " &nbsp;&nbsp;&nbsp;&nbsp; b) Assigning float <br>\n",
    " &nbsp;&nbsp;&nbsp;&nbsp; c) Performing Calculations on ints and floats <br>\n",
    " &nbsp;&nbsp;&nbsp;&nbsp;&nbsp;&nbsp;&nbsp;&nbsp; - Addition <br>\n",
    " &nbsp;&nbsp;&nbsp;&nbsp;&nbsp;&nbsp;&nbsp;&nbsp; - Subtraction <br>\n",
    " &nbsp;&nbsp;&nbsp;&nbsp;&nbsp;&nbsp;&nbsp;&nbsp; - Multiplication <br>\n",
    " &nbsp;&nbsp;&nbsp;&nbsp;&nbsp;&nbsp;&nbsp;&nbsp; - Division <br>\n",
    " &nbsp;&nbsp;&nbsp;&nbsp;&nbsp;&nbsp;&nbsp;&nbsp; - Floor Division <br>\n",
    " &nbsp;&nbsp;&nbsp;&nbsp;&nbsp;&nbsp;&nbsp;&nbsp; - Modulo <br>\n",
    " &nbsp;&nbsp;&nbsp;&nbsp;&nbsp;&nbsp;&nbsp;&nbsp; - Exponential <br>\n",
    "2) String Input-Output <br>\n",
    " &nbsp;&nbsp;&nbsp;&nbsp; a) String Assignment <br>\n",
    " &nbsp;&nbsp;&nbsp;&nbsp; b) print() <br>\n",
    " &nbsp;&nbsp;&nbsp;&nbsp; c) String Concatenation <br>\n",
    " &nbsp;&nbsp;&nbsp;&nbsp; d) Type Conversion <br>\n",
    " &nbsp;&nbsp;&nbsp;&nbsp; e) input() <br>\n",
    " &nbsp;&nbsp;&nbsp;&nbsp; f) format() <br>\n",
    "3) <b>In-Class Exercise #1</b> <br>\n",
    "4) If Statements <br>\n",
    " &nbsp;&nbsp;&nbsp;&nbsp; a) 'is' keyword <br>\n",
    " &nbsp;&nbsp;&nbsp;&nbsp; b) 'in' keyword <br>\n",
    " &nbsp;&nbsp;&nbsp;&nbsp; c) 'not in' keyword <br>\n",
    "5) <b>In-Class Exercise #2</b> <br>\n",
    "6) Elif Statements <br>\n",
    "7) Else Statements <br>\n",
    "8) <b>In-Class Exercise #3</b> <br>\n",
    "9) For Loops <br>\n",
    " &nbsp;&nbsp;&nbsp;&nbsp; a) Using 'in' keyword <br>\n",
    " &nbsp;&nbsp;&nbsp;&nbsp; b) Continue Statement <br>\n",
    " &nbsp;&nbsp;&nbsp;&nbsp; c) Break Statement <br>\n",
    " &nbsp;&nbsp;&nbsp;&nbsp; d) Pass Statement <br>\n",
    " &nbsp;&nbsp;&nbsp;&nbsp; e) Double For Loops <br>\n",
    "10) While Loops <br>\n",
    " &nbsp;&nbsp;&nbsp;&nbsp; a) Looping 'While True' <br>\n",
    " &nbsp;&nbsp;&nbsp;&nbsp; b) While and For Loops Used Together <br>\n",
    "11) Built-In Functions <br>\n",
    " &nbsp;&nbsp;&nbsp;&nbsp; a) range() <br>\n",
    " &nbsp;&nbsp;&nbsp;&nbsp; b) len() <br>\n",
    " &nbsp;&nbsp;&nbsp;&nbsp; c) help() <br>\n",
    " &nbsp;&nbsp;&nbsp;&nbsp; d) isinstance() <br>\n",
    " &nbsp;&nbsp;&nbsp;&nbsp; e) abs() <br>\n",
    "12) Try and Except <br>\n",
    "13) Lists <br>\n",
    " &nbsp;&nbsp;&nbsp;&nbsp; a) Declaring Lists <br>\n",
    " &nbsp;&nbsp;&nbsp;&nbsp; b) Indexing a List <br>\n",
    " &nbsp;&nbsp;&nbsp;&nbsp; c) .append() <br>\n",
    " &nbsp;&nbsp;&nbsp;&nbsp; d) .insert() <br>\n",
    " &nbsp;&nbsp;&nbsp;&nbsp; e) .pop() <br>\n",
    " &nbsp;&nbsp;&nbsp;&nbsp; f) .remove() <br>\n",
    " &nbsp;&nbsp;&nbsp;&nbsp; g) del() <br>\n",
    " &nbsp;&nbsp;&nbsp;&nbsp; h) Concatenating Two Lists <br>\n",
    " &nbsp;&nbsp;&nbsp;&nbsp; i) Lists Within Lists <br>\n",
    " &nbsp;&nbsp;&nbsp;&nbsp; j) Looping Through Lists <br>"
   ]
  },
  {
   "cell_type": "markdown",
   "metadata": {},
   "source": [
    "### Int & Float Assignments"
   ]
  },
  {
   "cell_type": "markdown",
   "metadata": {},
   "source": [
    "##### Assigning int"
   ]
  },
  {
   "cell_type": "code",
   "execution_count": 3,
   "metadata": {},
   "outputs": [
    {
     "data": {
      "text/plain": [
       "int"
      ]
     },
     "execution_count": 3,
     "metadata": {},
     "output_type": "execute_result"
    }
   ],
   "source": [
    "# variable assignment\n",
    "# syntax clue - single equals sign\n",
    "# lowercase_name = value\n",
    "bagel = 12\n",
    "\n",
    "# type() will tell us the variable type\n",
    "type(bagel)\n",
    "# type of bagel\n",
    "# the result of the type function called on the variable bagel"
   ]
  },
  {
   "cell_type": "markdown",
   "metadata": {},
   "source": [
    "##### Assinging float"
   ]
  },
  {
   "cell_type": "code",
   "execution_count": 4,
   "metadata": {},
   "outputs": [
    {
     "data": {
      "text/plain": [
       "float"
      ]
     },
     "execution_count": 4,
     "metadata": {},
     "output_type": "execute_result"
    }
   ],
   "source": [
    "myfloat = 3.141592\n",
    "# float is our decimal number\n",
    "type(myfloat)"
   ]
  },
  {
   "cell_type": "code",
   "execution_count": null,
   "metadata": {},
   "outputs": [],
   "source": [
    "# Mutability - can something be directly changed?\n",
    "# Every piece of data/data structure is either mutable or immutable\n",
    "# Either it can be directly changed or it cannot\n",
    "# Floats and integers are technically immutable\n",
    "# When we \"change\" a float or an integer, we are in fact just creating a new float or integer in place of the old one"
   ]
  },
  {
   "cell_type": "markdown",
   "metadata": {},
   "source": [
    "#### Performing Calculations on ints and floats"
   ]
  },
  {
   "cell_type": "markdown",
   "metadata": {},
   "source": [
    "##### Addition"
   ]
  },
  {
   "cell_type": "code",
   "execution_count": 10,
   "metadata": {},
   "outputs": [
    {
     "name": "stdout",
     "output_type": "stream",
     "text": [
      "15.141592\n"
     ]
    }
   ],
   "source": [
    "# depending on the data types of the inputs to this operation, the datatype of the output may change\n",
    "# int + int = int\n",
    "# int + float = float\n",
    "# float + float = float\n",
    "2 + 2 # addition of literal values\n",
    "myfloat + bagel # addition of variables\n",
    "bagel + 5.5 # addition of a variable and a literal value\n",
    "\n",
    "# variable assignment to the result of an operation\n",
    "mysum = bagel + myfloat\n",
    "print(mysum)"
   ]
  },
  {
   "cell_type": "markdown",
   "metadata": {},
   "source": [
    "##### Subtraction"
   ]
  },
  {
   "cell_type": "code",
   "execution_count": 13,
   "metadata": {},
   "outputs": [
    {
     "data": {
      "text/plain": [
       "0"
      ]
     },
     "execution_count": 13,
     "metadata": {},
     "output_type": "execute_result"
    }
   ],
   "source": [
    "mysum - bagel"
   ]
  },
  {
   "cell_type": "markdown",
   "metadata": {},
   "source": [
    "##### Multiplication"
   ]
  },
  {
   "cell_type": "code",
   "execution_count": 17,
   "metadata": {},
   "outputs": [
    {
     "data": {
      "text/plain": [
       "4.0"
      ]
     },
     "execution_count": 17,
     "metadata": {},
     "output_type": "execute_result"
    }
   ],
   "source": [
    "mysum * bagel\n",
    "2.0*2"
   ]
  },
  {
   "cell_type": "markdown",
   "metadata": {},
   "source": [
    "##### Division"
   ]
  },
  {
   "cell_type": "code",
   "execution_count": 20,
   "metadata": {},
   "outputs": [
    {
     "data": {
      "text/plain": [
       "3.142857142857143"
      ]
     },
     "execution_count": 20,
     "metadata": {},
     "output_type": "execute_result"
    }
   ],
   "source": [
    "# division always results in a float\n",
    "# normal division - /\n",
    "22/7"
   ]
  },
  {
   "cell_type": "markdown",
   "metadata": {},
   "source": [
    "##### Floor Division"
   ]
  },
  {
   "cell_type": "code",
   "execution_count": 21,
   "metadata": {},
   "outputs": [
    {
     "data": {
      "text/plain": [
       "3"
      ]
     },
     "execution_count": 21,
     "metadata": {},
     "output_type": "execute_result"
    }
   ],
   "source": [
    "# floor division gives us the result of division rounded down to the nearest integer\n",
    "# floor division results in an int\n",
    "# //\n",
    "22//7"
   ]
  },
  {
   "cell_type": "markdown",
   "metadata": {},
   "source": [
    "##### Modulo"
   ]
  },
  {
   "cell_type": "code",
   "execution_count": 26,
   "metadata": {},
   "outputs": [
    {
     "name": "stdout",
     "output_type": "stream",
     "text": [
      "5\n",
      "1\n"
     ]
    }
   ],
   "source": [
    "# remainder division\n",
    "# the other side of the coin to floor division\n",
    "# modulo results in an integer\n",
    "# %\n",
    "print(22%17)\n",
    "print(22%7)"
   ]
  },
  {
   "cell_type": "code",
   "execution_count": 32,
   "metadata": {},
   "outputs": [
    {
     "name": "stdout",
     "output_type": "stream",
     "text": [
      "False\n",
      "True\n"
     ]
    }
   ],
   "source": [
    "# you may encounter the scenario where two floats that should be equal are not\n",
    "# this is a result of float approximation required by computer hardware\n",
    "# we can work around it using rounding\n",
    "# https://docs.python.org/3/tutorial/floatingpoint.html\n",
    "print(.1 + .1 + .1 == .3)\n",
    "print(round(.1 + .1 + .1, 1) == round(.3, 1))"
   ]
  },
  {
   "cell_type": "markdown",
   "metadata": {},
   "source": [
    "##### Exponential"
   ]
  },
  {
   "cell_type": "code",
   "execution_count": 28,
   "metadata": {},
   "outputs": [
    {
     "data": {
      "text/plain": [
       "8.0"
      ]
     },
     "execution_count": 28,
     "metadata": {},
     "output_type": "execute_result"
    }
   ],
   "source": [
    "# the syntax is not what you would first guess\n",
    "# !!!! NOT ^ !!!!\n",
    "# value**power\n",
    "2.0**3"
   ]
  },
  {
   "cell_type": "markdown",
   "metadata": {},
   "source": [
    "### Strings"
   ]
  },
  {
   "cell_type": "markdown",
   "metadata": {},
   "source": [
    "##### String Assignment"
   ]
  },
  {
   "cell_type": "code",
   "execution_count": 33,
   "metadata": {},
   "outputs": [],
   "source": [
    "wordstring = 'fennec fox'\n",
    "emptystring = ''\n",
    "numberstring = '312314'\n",
    "weirdstring = '3@*)161al+++0___ 3m.@'\n",
    "\n",
    "# strings are immutable\n",
    "# we cannot directly change a string once it exists\n",
    "# we will frequently appear to do so\n",
    "# but we are actually creating an entirely new string each time we \"modify\" a string"
   ]
  },
  {
   "cell_type": "code",
   "execution_count": 38,
   "metadata": {},
   "outputs": [
    {
     "name": "stdout",
     "output_type": "stream",
     "text": [
      "fennec fox\n",
      "f\n",
      "e\n"
     ]
    },
    {
     "ename": "TypeError",
     "evalue": "'str' object does not support item assignment",
     "output_type": "error",
     "traceback": [
      "\u001b[1;31m---------------------------------------------------------------------------\u001b[0m",
      "\u001b[1;31mTypeError\u001b[0m                                 Traceback (most recent call last)",
      "\u001b[1;32m<ipython-input-38-a3a692d4ad7a>\u001b[0m in \u001b[0;36m<module>\u001b[1;34m\u001b[0m\n\u001b[0;32m      6\u001b[0m \u001b[0mprint\u001b[0m\u001b[1;33m(\u001b[0m\u001b[0mwordstring\u001b[0m\u001b[1;33m[\u001b[0m\u001b[1;36m7\u001b[0m\u001b[1;33m]\u001b[0m\u001b[1;33m)\u001b[0m\u001b[1;33m\u001b[0m\u001b[1;33m\u001b[0m\u001b[0m\n\u001b[0;32m      7\u001b[0m \u001b[0mprint\u001b[0m\u001b[1;33m(\u001b[0m\u001b[0mwordstring\u001b[0m\u001b[1;33m[\u001b[0m\u001b[1;36m1\u001b[0m\u001b[1;33m]\u001b[0m\u001b[1;33m)\u001b[0m\u001b[1;33m\u001b[0m\u001b[1;33m\u001b[0m\u001b[0m\n\u001b[1;32m----> 8\u001b[1;33m \u001b[0mwordstring\u001b[0m\u001b[1;33m[\u001b[0m\u001b[1;36m1\u001b[0m\u001b[1;33m]\u001b[0m \u001b[1;33m=\u001b[0m \u001b[1;34m'E'\u001b[0m \u001b[1;31m# won't work - strings are immutable\u001b[0m\u001b[1;33m\u001b[0m\u001b[1;33m\u001b[0m\u001b[0m\n\u001b[0m",
      "\u001b[1;31mTypeError\u001b[0m: 'str' object does not support item assignment"
     ]
    }
   ],
   "source": [
    "# strings are indexed just like lists\n",
    "# each character in a string has an associated index number beginning with 0 for the first character\n",
    "# I can access specific sections of a string (more on this later) with their indexes\n",
    "# name_of_string[index_number]\n",
    "print(wordstring)\n",
    "print(wordstring[7])\n",
    "print(wordstring[1])\n",
    "wordstring[1] = 'E' # won't work - strings are immutable"
   ]
  },
  {
   "cell_type": "markdown",
   "metadata": {},
   "source": [
    "##### print() <br>\n",
    "<p>Don't forget about end=' '</p>"
   ]
  },
  {
   "cell_type": "code",
   "execution_count": 41,
   "metadata": {},
   "outputs": [
    {
     "name": "stdout",
     "output_type": "stream",
     "text": [
      "fennec fox\n",
      "fennec fox 12\n",
      "fennec foxfennec fox 12\ta different end"
     ]
    }
   ],
   "source": [
    "# whatever input or pieces of input that you pass in and showing them in the terminal\n",
    "# print does not actively do anything\n",
    "print(wordstring)\n",
    "print(wordstring, bagel)\n",
    "\n",
    "# print() has an optional argument\n",
    "# end parameter\n",
    "# controls what the printed representation ends with (print shows things as strings)\n",
    "# by default end is '\\n' or a newline character\n",
    "print(wordstring, end='')\n",
    "print(wordstring, bagel, end='\\ta different end')"
   ]
  },
  {
   "cell_type": "markdown",
   "metadata": {},
   "source": [
    "##### String Concatenation"
   ]
  },
  {
   "cell_type": "code",
   "execution_count": 45,
   "metadata": {},
   "outputs": [
    {
     "name": "stdout",
     "output_type": "stream",
     "text": [
      "fennec\n",
      "fox\n",
      "fennec fox\n"
     ]
    }
   ],
   "source": [
    "# string addition\n",
    "strA = 'fennec'\n",
    "strB = 'fox'\n",
    "strC = strA + ' ' + strB # creates a new string\n",
    "print(strA)\n",
    "print(strB)\n",
    "print(strC)"
   ]
  },
  {
   "cell_type": "markdown",
   "metadata": {},
   "source": [
    "##### Type Conversion"
   ]
  },
  {
   "cell_type": "code",
   "execution_count": 54,
   "metadata": {},
   "outputs": [
    {
     "name": "stdout",
     "output_type": "stream",
     "text": [
      "3.14 <class 'str'>\n",
      "3.14 <class 'float'>\n",
      "56 <class 'int'>\n"
     ]
    }
   ],
   "source": [
    "# sometimes we'll want to convert numeric values to strings\n",
    "# or strings to numeric values\n",
    "# typecasting\n",
    "# str(), int(), float()\n",
    "aNum = 3.14\n",
    "strNum = str(aNum)\n",
    "print(strNum, type(strNum))\n",
    "\n",
    "print(float(strNum), type(float(strNum)))\n",
    "\n",
    "print(int('56'), type(int('56')))"
   ]
  },
  {
   "cell_type": "markdown",
   "metadata": {},
   "source": [
    "##### input()"
   ]
  },
  {
   "cell_type": "code",
   "execution_count": 59,
   "metadata": {},
   "outputs": [
    {
     "name": "stdout",
     "output_type": "stream",
     "text": [
      "What is your favorite soccer team?234576\n",
      "234576 <class 'str'>\n"
     ]
    }
   ],
   "source": [
    "# asks the user to provide some input in the terminal\n",
    "# returns whatever user input is given as a string\n",
    "# parameter: string to display to the user when input is requested\n",
    "# user response is the return value of the input function\n",
    "response = input('What is your favorite soccer team?')\n",
    "# value of variable set to input function call will be the user's response\n",
    "print(response, type(response))"
   ]
  },
  {
   "cell_type": "code",
   "execution_count": 67,
   "metadata": {},
   "outputs": [
    {
     "name": "stdout",
     "output_type": "stream",
     "text": [
      "What is the first number?2\n",
      "What is the second number?3\n",
      "5.0\n"
     ]
    }
   ],
   "source": [
    "# I want to ask the user for two numbers then add those two numbers\n",
    "num1 = input('What is the first number?')\n",
    "num2 = input('What is the second number?')\n",
    "# variable redefinition to typecast strings to ints\n",
    "num1 = float(num1)\n",
    "num2 = float(num2)\n",
    "print(num1 + num2)"
   ]
  },
  {
   "cell_type": "markdown",
   "metadata": {},
   "source": [
    "##### format()"
   ]
  },
  {
   "cell_type": "code",
   "execution_count": 81,
   "metadata": {},
   "outputs": [
    {
     "name": "stdout",
     "output_type": "stream",
     "text": [
      "The current myNum has value: 3.141592. Here's a literal number value 27. <class 'str'>\n",
      "The current myNum has value: 3.141592. Here's a literal number value 27.\n"
     ]
    }
   ],
   "source": [
    "# the format function and its more modern sibling the f-string\n",
    "    # allow us to place literal values and/or variable values that may not be strings into a string\n",
    "myNum = 3.141592\n",
    "formattedString = \"The current myNum has value: {value}. Here's a literal number value {other}.\".format(value=myNum, other=27)\n",
    "print(formattedString, type(formattedString))\n",
    "\n",
    "# f-strings are easier\n",
    "fString = f\"The current myNum has value: {myNum}. Here's a literal number value {27}.\"\n",
    "print(fString)"
   ]
  },
  {
   "cell_type": "markdown",
   "metadata": {},
   "source": [
    "# In-Class Exercise 1 <br>\n",
    "<p>Create a format statement that asks for color, year, make, model and prints out the results</p>"
   ]
  },
  {
   "cell_type": "code",
   "execution_count": 84,
   "metadata": {},
   "outputs": [
    {
     "name": "stdout",
     "output_type": "stream",
     "text": [
      "Tell me something about your car!\n",
      "What color is your car? red\n",
      "What year is your car? 2022\n",
      "What make is your car? Scuderia Ferrari\n",
      "What model is your car? SF2022\n",
      "Your car is a 2022 Scuderia Ferrari SF2022. It is painted red.\n"
     ]
    }
   ],
   "source": [
    "# Use the input() function to ask the user for a color, a year, a make, a model\n",
    "# and then use format() or an f-string to print out a string describing the car\n",
    "# output at the end should resemble: \"This is a 1986 Pontiac Fiero. It is lime green.\"\n",
    "print('Tell me something about your car!')\n",
    "c = input('What color is your car? ')\n",
    "y = input('What year is your car? ')\n",
    "b = input('What make is your car? ')\n",
    "m = input('What model is your car? ')\n",
    "print(f'Your car is a {y} {b} {m}. It is painted {c}.')"
   ]
  },
  {
   "cell_type": "code",
   "execution_count": 26,
   "metadata": {},
   "outputs": [
    {
     "data": {
      "text/plain": [
       "'Tach'"
      ]
     },
     "execution_count": 26,
     "metadata": {},
     "output_type": "execute_result"
    }
   ],
   "source": [
    "from random import choice\n",
    "students = ['Lamont', 'Elif', 'Jesus', 'Amir', 'Brandt', 'Tiger', 'Komal', 'Cameron', 'Kyle', 'Tach']\n",
    "choice(students)"
   ]
  },
  {
   "cell_type": "markdown",
   "metadata": {},
   "source": [
    "### If Statements"
   ]
  },
  {
   "cell_type": "code",
   "execution_count": 90,
   "metadata": {},
   "outputs": [
    {
     "name": "stdout",
     "output_type": "stream",
     "text": [
      "<class 'bool'> <class 'bool'>\n",
      "Not False is true.\n"
     ]
    }
   ],
   "source": [
    "# final main data type: boolean\n",
    "# boolean has two values: True or False\n",
    "# stored in the computer as binary values\n",
    "# True is 1\n",
    "# False is 0\n",
    "x = True\n",
    "y = False\n",
    "print(type(x), type(y))\n",
    "\n",
    "# every conditional statment must evaluate to a boolean value\n",
    "# regardless of complexity - if statements must evaluate down to a single boolean value\n",
    "if False:\n",
    "    print('True is true.')\n",
    "if not False: # not operator flips the conditional (makes False true, makes True false)\n",
    "    print('Not False is true.')\n",
    "    \n",
    "# if the conditional evaluates to true, the code inside the conditional block (if block, elif block) will run\n",
    "# if the conditional evaluates to false, the code inside the conditional block will not run\n",
    "\n",
    "# indentation in python controls code blocks\n",
    "# code blocks will always start with a colon in python"
   ]
  },
  {
   "cell_type": "code",
   "execution_count": 16,
   "metadata": {},
   "outputs": [
    {
     "name": "stdout",
     "output_type": "stream",
     "text": [
      "int 3 isnt equal to the string 3\n",
      "that is true\n",
      "hmm\n"
     ]
    }
   ],
   "source": [
    "# Available operators: Greater(>), Less(<),Equal(==)\n",
    "# Greater or Equal(>=), Less or Equal (<=)\n",
    "\n",
    "# == tests equality of value and type\n",
    "if not 3 == '3':\n",
    "    print('int 3 isnt equal to the string 3')\n",
    "\n",
    "if 3.14 == 6:\n",
    "    print('This will run')\n",
    "x = 5\n",
    "if x >= 3:\n",
    "    print('that is true')\n",
    "    \n",
    "# our basic operators may not work the exact way you expect with non-numerical values\n",
    "# outside of equality testing (==)\n",
    "# there is not much use for >/</>=/<= outside of numerical value comparisons\n",
    "if 'foxes2' > 'apple':\n",
    "    print('hmm')"
   ]
  },
  {
   "cell_type": "markdown",
   "metadata": {},
   "source": [
    "##### 'is' keyword"
   ]
  },
  {
   "cell_type": "code",
   "execution_count": 14,
   "metadata": {
    "scrolled": true
   },
   "outputs": [
    {
     "name": "stdout",
     "output_type": "stream",
     "text": [
      "these lists have equal value\n"
     ]
    }
   ],
   "source": [
    "# is tests equality\n",
    "# however it does not test equality of value\n",
    "# rather, it tests equality of reference aka are these two values stored in the same place in memory\n",
    "    # are they literally the same thing\n",
    "# ==: \"Are these both oranges?\"\n",
    "# is: \"Are we talking about the same orange thats sitting on the counter over there? Or are you talking about a different orange.\"\n",
    "\n",
    "a = ['a', 'b', 'c']\n",
    "c = ['a', 'b', 'c']\n",
    "if a == c:\n",
    "    print('these lists have equal value')\n",
    "if a is c:\n",
    "    print('but different reference locations')"
   ]
  },
  {
   "cell_type": "markdown",
   "metadata": {},
   "source": [
    "##### 'in' keyword"
   ]
  },
  {
   "cell_type": "code",
   "execution_count": 25,
   "metadata": {},
   "outputs": [
    {
     "name": "stdout",
     "output_type": "stream",
     "text": [
      "Yes.\n",
      "Yes.\n"
     ]
    },
    {
     "ename": "TypeError",
     "evalue": "argument of type 'int' is not iterable",
     "output_type": "error",
     "traceback": [
      "\u001b[1;31m---------------------------------------------------------------------------\u001b[0m",
      "\u001b[1;31mTypeError\u001b[0m                                 Traceback (most recent call last)",
      "\u001b[1;32m<ipython-input-25-de7815d16e65>\u001b[0m in \u001b[0;36m<module>\u001b[1;34m\u001b[0m\n\u001b[0;32m     10\u001b[0m \u001b[1;33m\u001b[0m\u001b[0m\n\u001b[0;32m     11\u001b[0m \u001b[1;31m# cannot do membership test in a number -> numbers are not iterables\u001b[0m\u001b[1;33m\u001b[0m\u001b[1;33m\u001b[0m\u001b[1;33m\u001b[0m\u001b[0m\n\u001b[1;32m---> 12\u001b[1;33m \u001b[1;32mif\u001b[0m \u001b[1;36m3\u001b[0m \u001b[1;32min\u001b[0m \u001b[1;36m3000\u001b[0m\u001b[1;33m:\u001b[0m\u001b[1;33m\u001b[0m\u001b[1;33m\u001b[0m\u001b[0m\n\u001b[0m\u001b[0;32m     13\u001b[0m     \u001b[0mprint\u001b[0m\u001b[1;33m(\u001b[0m\u001b[1;34m'???'\u001b[0m\u001b[1;33m)\u001b[0m\u001b[1;33m\u001b[0m\u001b[1;33m\u001b[0m\u001b[0m\n",
      "\u001b[1;31mTypeError\u001b[0m: argument of type 'int' is not iterable"
     ]
    }
   ],
   "source": [
    "# membership test - can be perfomed on any iterable\n",
    "    # an iterable is anything that can be looped through (aka broken down into smaller pieces)\n",
    "# check if a value is in a larger piece of data/collection\n",
    "animals = ['fennec fox', 'bird', 'penguin', 'whale', 'shark']\n",
    "if 'fennec fox' in animals:\n",
    "    print('Yes.')\n",
    "    \n",
    "if 'f' in 'fox':\n",
    "    print('Yes.')\n",
    "\n",
    "# cannot do membership test in a number -> numbers are not iterables\n",
    "if 3 in 3000:\n",
    "    print('???')"
   ]
  },
  {
   "cell_type": "markdown",
   "metadata": {},
   "source": [
    "##### 'not in' keyword'"
   ]
  },
  {
   "cell_type": "code",
   "execution_count": 23,
   "metadata": {},
   "outputs": [],
   "source": [
    "if 'fennec fox' not in animals:\n",
    "    print('Yes.')\n",
    "    \n",
    "if 'f' not in 'fox':\n",
    "    print('Yes.')"
   ]
  },
  {
   "cell_type": "markdown",
   "metadata": {},
   "source": [
    "# In-Class Exercise 2 <br>\n",
    "<p>Ask user for input, check to see if the letter 'p' is in the input</p>"
   ]
  },
  {
   "cell_type": "code",
   "execution_count": 62,
   "metadata": {},
   "outputs": [
    {
     "name": "stdout",
     "output_type": "stream",
     "text": [
      "What is your favorite animal? PENGUIN\n",
      "The letter p is in your favorite animal: PENGUIN.\n"
     ]
    }
   ],
   "source": [
    "# if statement\n",
    "# how to check letter 'p'\n",
    "\n",
    "# 1. ask the user for input\n",
    "    # Do we intend to use the input? Yes.\n",
    "# 2. Save the user input\n",
    "# 3. Check if 'p' is in input\n",
    "animal = input('What is your favorite animal? ')\n",
    "if 'p' in animal or 'P' in animal:\n",
    "    print(f'The letter p is in your favorite animal: {animal}.')\n",
    "else:\n",
    "    print(f'The letter p is not in your favorite animal: {animal}.')"
   ]
  },
  {
   "cell_type": "code",
   "execution_count": 66,
   "metadata": {},
   "outputs": [
    {
     "name": "stdout",
     "output_type": "stream",
     "text": [
      "What is your favorite animal? PENGUIN\n",
      "The letter p is in your favorite animal: PENGUIN.\n"
     ]
    }
   ],
   "source": [
    "animal = input('What is your favorite animal? ')\n",
    "if 'p' in animal.lower():\n",
    "    print(f'The letter p is in your favorite animal: {animal}.')\n",
    "else:\n",
    "    print(f'The letter p is not in your favorite animal: {animal}.')"
   ]
  },
  {
   "cell_type": "code",
   "execution_count": 60,
   "metadata": {},
   "outputs": [
    {
     "name": "stdout",
     "output_type": "stream",
     "text": [
      "penguin\n"
     ]
    }
   ],
   "source": [
    "animal = 'PENGUIN'\n",
    "animal = animal.lower()\n",
    "print(animal)"
   ]
  },
  {
   "cell_type": "markdown",
   "metadata": {},
   "source": [
    "## Using 'and'/'or' with If Statements"
   ]
  },
  {
   "cell_type": "code",
   "execution_count": 40,
   "metadata": {},
   "outputs": [
    {
     "name": "stdout",
     "output_type": "stream",
     "text": [
      "p is in this animal\n"
     ]
    }
   ],
   "source": [
    "# Truth Tree:\n",
    "# T and F = F\n",
    "# T and T = T\n",
    "# T or F = T\n",
    "# F or T = T\n",
    "# F or F = F\n",
    "\n",
    "# and/or let us combine multiple conditional statements into a single if statement (or elif statement)\n",
    "# we can use two conditional test on either side of an and/or to get a single T/F value\n",
    "# the tests on either side of the and/or MUST be complete conditional statements\n",
    "animal = 'penguin'\n",
    "if 'p' in animal or 'P' in animal:\n",
    "    print('p is in this animal')\n",
    "else:\n",
    "    print('neigh')"
   ]
  },
  {
   "cell_type": "markdown",
   "metadata": {},
   "source": [
    "### Elif Statements"
   ]
  },
  {
   "cell_type": "code",
   "execution_count": 52,
   "metadata": {},
   "outputs": [
    {
     "name": "stdout",
     "output_type": "stream",
     "text": [
      "Senior\n"
     ]
    }
   ],
   "source": [
    "# else if statement\n",
    "# must follow a prior if statement or another elif statement\n",
    "# in many regards it is exactly like an if statement\n",
    "# however, if a prior if/elif statement was True -> the rest of the elif statements will not even evaluate\n",
    "age = 75\n",
    "if age < 18:\n",
    "    print('Child')\n",
    "elif age < 30:\n",
    "    print('Young Adult')\n",
    "elif age < 65:\n",
    "    print('Adult')\n",
    "else:\n",
    "    print('Senior')"
   ]
  },
  {
   "cell_type": "markdown",
   "metadata": {},
   "source": [
    "### Else Statements"
   ]
  },
  {
   "cell_type": "code",
   "execution_count": null,
   "metadata": {},
   "outputs": [],
   "source": [
    "# see above\n",
    "# must follow an if and/or elif\n",
    "# has no condition\n",
    "# runs if no if/elif evaluated to true"
   ]
  },
  {
   "cell_type": "markdown",
   "metadata": {},
   "source": [
    "### For Loops"
   ]
  },
  {
   "cell_type": "code",
   "execution_count": 155,
   "metadata": {},
   "outputs": [
    {
     "name": "stdout",
     "output_type": "stream",
     "text": [
      "f\n",
      "e\n",
      "n\n",
      "n\n",
      "e\n",
      "c\n",
      " \n",
      "f\n",
      "o\n",
      "x\n"
     ]
    }
   ],
   "source": [
    "# loop through an iterable -> aka run a code block for each individual piece of a larger collection/piece of data\n",
    "for letter in 'fennec fox':\n",
    "    print(letter)"
   ]
  },
  {
   "cell_type": "code",
   "execution_count": 187,
   "metadata": {},
   "outputs": [
    {
     "name": "stdout",
     "output_type": "stream",
     "text": [
      "Index 0 contains letter D\n",
      "Index 1 contains letter a\n",
      "Index 2 contains letter v\n",
      "Index 3 contains letter e\n"
     ]
    }
   ],
   "source": [
    "name = 'Dave'\n",
    "for i in range(len(name)):\n",
    "    print(f'Index {i} contains letter {name[i]}')"
   ]
  },
  {
   "cell_type": "markdown",
   "metadata": {},
   "source": [
    "##### Using 'in' keyword"
   ]
  },
  {
   "cell_type": "code",
   "execution_count": 159,
   "metadata": {},
   "outputs": [
    {
     "name": "stdout",
     "output_type": "stream",
     "text": [
      "step\n",
      "LAMONT\n",
      "end step\n",
      "\n",
      "step\n",
      "ELIF\n",
      "end step\n",
      "\n",
      "step\n",
      "JESUS\n",
      "end step\n",
      "\n",
      "step\n",
      "AMIR\n",
      "end step\n",
      "\n",
      "step\n",
      "BRANDT\n",
      "end step\n",
      "\n",
      "step\n",
      "TIGER\n",
      "end step\n",
      "\n",
      "step\n",
      "KOMAL\n",
      "end step\n",
      "\n",
      "step\n",
      "CAMERON\n",
      "end step\n",
      "\n",
      "step\n",
      "KYLE\n",
      "end step\n",
      "\n",
      "step\n",
      "TACH\n",
      "end step\n",
      "\n"
     ]
    }
   ],
   "source": [
    "# for-in loop\n",
    "# looping through values\n",
    "students = ['Lamont', 'Elif', 'Jesus', 'Amir', 'Brandt', 'Tiger', 'Komal', 'Cameron', 'Kyle', 'Tach']\n",
    "for s in students:\n",
    "    print('step')\n",
    "    print(s.upper())\n",
    "    print('end step\\n')"
   ]
  },
  {
   "cell_type": "code",
   "execution_count": 161,
   "metadata": {},
   "outputs": [
    {
     "name": "stdout",
     "output_type": "stream",
     "text": [
      "['Lamont', 'Elif', 'Jesus', 'Amir', 'Brandt', 'Tiger', 'Komal', 'Cameron', 'Kyle', 'Tach']\n",
      "LAMONT\n",
      "ELIF\n",
      "JESUS\n",
      "AMIR\n",
      "BRANDT\n",
      "TIGER\n",
      "KOMAL\n",
      "CAMERON\n",
      "KYLE\n",
      "TACH\n",
      "['Lamont', 'Elif', 'Jesus', 'Amir', 'Brandt', 'Tiger', 'Komal', 'Cameron', 'Kyle', 'Tach']\n"
     ]
    }
   ],
   "source": [
    "# a drawback of the for-in loop is it just gives us access to the values, we can't change them in-place\n",
    "print(students)\n",
    "for s in students:\n",
    "    s = s.upper()\n",
    "    print(s)\n",
    "print(students)"
   ]
  },
  {
   "cell_type": "code",
   "execution_count": 181,
   "metadata": {},
   "outputs": [
    {
     "name": "stdout",
     "output_type": "stream",
     "text": [
      "Index 0 contains value Lamont\n",
      "Index 1 contains value Elif\n",
      "Index 2 contains value Jesus\n",
      "Index 3 contains value Amir\n",
      "Index 4 contains value Brandt\n",
      "Index 5 contains value Tiger\n",
      "Index 6 contains value Komal\n",
      "Index 7 contains value Cameron\n",
      "Index 8 contains value Kyle\n",
      "Index 9 contains value Tach\n",
      "Index 10 contains value Patrick\n",
      "['Lamont!', 'Elif!', 'Jesus!', 'Amir!', 'Brandt!', 'Tiger!', 'Komal!', 'Cameron!', 'Kyle!', 'Tach!', 'Patrick!']\n"
     ]
    }
   ],
   "source": [
    "# what if I want to change the values within a list in a loop\n",
    "# I actually need to access the indexes within the loop\n",
    "# index loop\n",
    "students = ['Lamont', 'Elif', 'Jesus', 'Amir', 'Brandt', 'Tiger', 'Komal', 'Cameron', 'Kyle', 'Tach', 'Patrick']\n",
    "for i in range(len(students)):\n",
    "    print(f'Index {i} contains value {students[i]}')\n",
    "    students[i] = students[i] + '!'\n",
    "\n",
    "print(students)"
   ]
  },
  {
   "cell_type": "markdown",
   "metadata": {},
   "source": [
    "##### Continue Statement"
   ]
  },
  {
   "cell_type": "code",
   "execution_count": null,
   "metadata": {},
   "outputs": [],
   "source": [
    "# will continue to next iteration"
   ]
  },
  {
   "cell_type": "code",
   "execution_count": 170,
   "metadata": {},
   "outputs": [
    {
     "name": "stdout",
     "output_type": "stream",
     "text": [
      "Lamont\n",
      "end of step\n",
      "Brandt\n",
      "end of step\n",
      "Tiger\n",
      "end of step\n",
      "Tach\n",
      "end of step\n"
     ]
    }
   ],
   "source": [
    "for s in students:\n",
    "    if 't' not in s and 'T' not in s:\n",
    "        continue\n",
    "    else:\n",
    "        print(s)\n",
    "    print('end of step')"
   ]
  },
  {
   "cell_type": "markdown",
   "metadata": {},
   "source": [
    "##### Break Statement"
   ]
  },
  {
   "cell_type": "code",
   "execution_count": null,
   "metadata": {},
   "outputs": [],
   "source": [
    "# will break out of current loop"
   ]
  },
  {
   "cell_type": "code",
   "execution_count": 177,
   "metadata": {},
   "outputs": [
    {
     "name": "stdout",
     "output_type": "stream",
     "text": [
      "Lamont\n",
      "end of step\n",
      "t not here\n"
     ]
    }
   ],
   "source": [
    "for s in students:\n",
    "    if 't' not in s and 'T' not in s:\n",
    "        print('t not here')\n",
    "        break\n",
    "    else:\n",
    "        print(s)\n",
    "    print('end of step')"
   ]
  },
  {
   "cell_type": "markdown",
   "metadata": {},
   "source": [
    "##### Pass Statement"
   ]
  },
  {
   "cell_type": "code",
   "execution_count": null,
   "metadata": {},
   "outputs": [],
   "source": [
    "# mostly used as a placeholder, and will continue on same iteration"
   ]
  },
  {
   "cell_type": "code",
   "execution_count": 174,
   "metadata": {},
   "outputs": [
    {
     "name": "stdout",
     "output_type": "stream",
     "text": [
      "Lamont\n",
      "end of step\n",
      "end of step\n",
      "end of step\n",
      "end of step\n",
      "Brandt\n",
      "end of step\n",
      "Tiger\n",
      "end of step\n",
      "end of step\n",
      "end of step\n",
      "end of step\n",
      "Tach\n",
      "end of step\n"
     ]
    }
   ],
   "source": [
    "for s in students:\n",
    "    if 't' not in s and 'T' not in s:\n",
    "        pass\n",
    "    else:\n",
    "        print(s)\n",
    "    print('end of step')"
   ]
  },
  {
   "cell_type": "markdown",
   "metadata": {},
   "source": [
    "##### Double For Loops"
   ]
  },
  {
   "cell_type": "code",
   "execution_count": 193,
   "metadata": {},
   "outputs": [
    {
     "name": "stdout",
     "output_type": "stream",
     "text": [
      "outer step\n",
      "0 a\n",
      "0 b\n",
      "0 c\n",
      "0 d\n",
      "0 e\n",
      "end outer step\n",
      "\n",
      "outer step\n",
      "1 a\n",
      "1 b\n",
      "1 c\n",
      "1 d\n",
      "1 e\n",
      "end outer step\n",
      "\n",
      "outer step\n",
      "2 a\n",
      "2 b\n",
      "2 c\n",
      "2 d\n",
      "2 e\n",
      "end outer step\n",
      "\n",
      "outer step\n",
      "3 a\n",
      "3 b\n",
      "3 c\n",
      "3 d\n",
      "3 e\n",
      "end outer step\n",
      "\n",
      "outer step\n",
      "4 a\n",
      "4 b\n",
      "4 c\n",
      "4 d\n",
      "4 e\n",
      "end outer step\n",
      "\n"
     ]
    }
   ],
   "source": [
    "for x in range(5):\n",
    "    print('outer step')\n",
    "    for y in 'abcde':\n",
    "        print(x, y)\n",
    "    print('end outer step\\n')"
   ]
  },
  {
   "cell_type": "markdown",
   "metadata": {},
   "source": [
    "### While Loops"
   ]
  },
  {
   "cell_type": "code",
   "execution_count": 28,
   "metadata": {},
   "outputs": [
    {
     "name": "stdout",
     "output_type": "stream",
     "text": [
      "0\n",
      "1\n",
      "2\n",
      "3\n",
      "4\n",
      "5\n",
      "6\n",
      "7\n",
      "8\n",
      "9\n"
     ]
    }
   ],
   "source": [
    "# for loops differ from while loops in two main ways\n",
    "    # 1. a for loop is based on an iterable (a list, a range, a string)\n",
    "    # 2. for loops automatically increment\n",
    "        # (aka a for loop automatically moves on to its next step at the end of the prior step)\n",
    "\n",
    "# while loops\n",
    "    # 1. are based on a condition\n",
    "        # while the condition is True, the while loop will continue iterating/stepping/running\n",
    "    # 2. do not automatically increment\n",
    "        # we must modify/eventually reach a point that causes the while loop to stop (breaking the condition)\n",
    "\n",
    "number = 0\n",
    "while number < 10: # make sure that your while loops condition will eventually break! don't make an infinite while loop\n",
    "    # do some process\n",
    "    print(number)\n",
    "    number = number + 1 # increment number so that eventually our condition breaks"
   ]
  },
  {
   "cell_type": "markdown",
   "metadata": {},
   "source": [
    "##### Looping 'While True'"
   ]
  },
  {
   "cell_type": "code",
   "execution_count": 43,
   "metadata": {},
   "outputs": [
    {
     "name": "stdout",
     "output_type": "stream",
     "text": [
      "infinite\n"
     ]
    }
   ],
   "source": [
    "while True:\n",
    "    print('infinite')\n",
    "    break\n",
    "    \n",
    "# see exercise #3 at the bottom"
   ]
  },
  {
   "cell_type": "code",
   "execution_count": 44,
   "metadata": {},
   "outputs": [
    {
     "name": "stdout",
     "output_type": "stream",
     "text": [
      "Index 0 has value Ruben Dias\n",
      "Index 1 has value Joao Cancelo\n",
      "Index 2 has value Ederson Moraes\n",
      "Index 3 has value Kyle Walker\n",
      "Index 4 has value John Stones\n"
     ]
    }
   ],
   "source": [
    "# list index while loop\n",
    "people = ['Ruben Dias', 'Joao Cancelo', 'Ederson Moraes', 'Kyle Walker', 'John Stones']\n",
    "i = 0\n",
    "while i < len(people):\n",
    "    print(f'Index {i} has value {people[i]}')\n",
    "    i = i + 1"
   ]
  },
  {
   "cell_type": "markdown",
   "metadata": {},
   "source": [
    "##### While & For Loops Used Together"
   ]
  },
  {
   "cell_type": "code",
   "execution_count": 37,
   "metadata": {},
   "outputs": [
    {
     "name": "stdout",
     "output_type": "stream",
     "text": [
      "1 a\n",
      "1 b\n",
      "1 c\n",
      "1 d\n",
      "1 e\n",
      "2 a\n",
      "2 b\n",
      "2 c\n",
      "2 d\n",
      "2 e\n",
      "3 a\n",
      "3 b\n",
      "3 c\n",
      "3 d\n",
      "3 e\n",
      "4 a\n",
      "4 b\n",
      "4 c\n",
      "4 d\n",
      "4 e\n",
      "5 a\n",
      "5 b\n",
      "5 c\n",
      "5 d\n",
      "5 e\n"
     ]
    }
   ],
   "source": [
    "x = ['a', 'b', 'c', 'd', 'e']\n",
    "y = [1, 2, 3, 4, 5]\n",
    "\n",
    "i = 0\n",
    "while i < len(y):\n",
    "    for l in x:\n",
    "        print(y[i], l)\n",
    "    i+=1 # i++"
   ]
  },
  {
   "cell_type": "markdown",
   "metadata": {},
   "source": [
    "### Built-In Functions"
   ]
  },
  {
   "cell_type": "markdown",
   "metadata": {},
   "source": [
    "##### range()"
   ]
  },
  {
   "cell_type": "code",
   "execution_count": 128,
   "metadata": {},
   "outputs": [
    {
     "name": "stdout",
     "output_type": "stream",
     "text": [
      "[1, 3, 5, 7, 9, 11, 13, 15, 17, 19, 21, 23, 25, 27]\n"
     ]
    },
    {
     "data": {
      "text/plain": [
       "range(0, 5)"
      ]
     },
     "execution_count": 128,
     "metadata": {},
     "output_type": "execute_result"
    }
   ],
   "source": [
    "# generator - creates a set of values that we can loop through\n",
    "# generator is slightly different than a collection like a list in that it will only create the values as needed\n",
    "# range will give us a collection of integer values\n",
    "# we can specify the starting value, the stopping value, and the step (aka the jump between each value)\n",
    "# range(start, stop*, step)\n",
    "# *stop is not included - the range will end before the stop\n",
    "numbers = range(1, 28, 2)\n",
    "print(list(numbers))\n",
    "# the start and step values are optional\n",
    "# only a stop is needed\n",
    "# start defaults to 0 and step defaults to 1\n",
    "range(5)"
   ]
  },
  {
   "cell_type": "markdown",
   "metadata": {},
   "source": [
    "##### len()"
   ]
  },
  {
   "cell_type": "code",
   "execution_count": 131,
   "metadata": {},
   "outputs": [
    {
     "name": "stdout",
     "output_type": "stream",
     "text": [
      "10\n",
      "3\n"
     ]
    }
   ],
   "source": [
    "# takes any iterable* as input\n",
    "# iterables include strings, lists, dictionaries, sets, generators\n",
    "# *len() does not work on generators\n",
    "# len() returns an integer\n",
    "fox = 'fennec fox'\n",
    "animals = ['cat', 'dog', 'fox']\n",
    "print(len(fox)) # len(str) is # of characters\n",
    "print(len(animals)) # len(list) is # of elements in that list"
   ]
  },
  {
   "cell_type": "code",
   "execution_count": 135,
   "metadata": {},
   "outputs": [
    {
     "data": {
      "text/plain": [
       "range(0, 3)"
      ]
     },
     "execution_count": 135,
     "metadata": {},
     "output_type": "execute_result"
    }
   ],
   "source": [
    "# range(len(<iterable>))\n",
    "# gives us a range corresponding to the index numbers of the iterable\n",
    "range(len(animals))\n",
    "# see for loop section"
   ]
  },
  {
   "cell_type": "markdown",
   "metadata": {},
   "source": [
    "##### help()"
   ]
  },
  {
   "cell_type": "code",
   "execution_count": 138,
   "metadata": {},
   "outputs": [
    {
     "name": "stdout",
     "output_type": "stream",
     "text": [
      "\n",
      "Welcome to Python 3.8's help utility!\n",
      "\n",
      "If this is your first time using Python, you should definitely check out\n",
      "the tutorial on the Internet at https://docs.python.org/3.8/tutorial/.\n",
      "\n",
      "Enter the name of any module, keyword, or topic to get help on writing\n",
      "Python programs and using Python modules.  To quit this help utility and\n",
      "return to the interpreter, just type \"quit\".\n",
      "\n",
      "To get a list of available modules, keywords, symbols, or topics, type\n",
      "\"modules\", \"keywords\", \"symbols\", or \"topics\".  Each module also comes\n",
      "with a one-line summary of what it does; to list the modules whose name\n",
      "or summary contain a given string such as \"spam\", type \"modules spam\".\n",
      "\n",
      "help> keywords\n",
      "\n",
      "Here is a list of the Python keywords.  Enter any keyword to get more help.\n",
      "\n",
      "False               class               from                or\n",
      "None                continue            global              pass\n",
      "True                def                 if                  raise\n",
      "and                 del                 import              return\n",
      "as                  elif                in                  try\n",
      "assert              else                is                  while\n",
      "async               except              lambda              with\n",
      "await               finally             nonlocal            yield\n",
      "break               for                 not                 \n",
      "\n",
      "help> quit()\n",
      "No Python documentation found for 'quit()'.\n",
      "Use help() to get the interactive help utility.\n",
      "Use help(str) for help on the str class.\n",
      "\n",
      "help> quit\n",
      "\n",
      "You are now leaving help and returning to the Python interpreter.\n",
      "If you want to ask for help on a particular object directly from the\n",
      "interpreter, you can type \"help(object)\".  Executing \"help('string')\"\n",
      "has the same effect as typing a particular string at the help> prompt.\n"
     ]
    }
   ],
   "source": [
    "# pulls up the docstring or internal documentation on any built-in\n",
    "help()"
   ]
  },
  {
   "cell_type": "markdown",
   "metadata": {},
   "source": [
    "##### isinstance()"
   ]
  },
  {
   "cell_type": "code",
   "execution_count": 147,
   "metadata": {},
   "outputs": [
    {
     "name": "stdout",
     "output_type": "stream",
     "text": [
      "isinstance() is useful for conditionals determining datatype of a variable\n",
      "type with an equality test can give you the same end result\n"
     ]
    }
   ],
   "source": [
    "# to compare a variable's datatype to another datatype\n",
    "# isinstance(variable/value, datatype)\n",
    "    # string: str\n",
    "    # integer: int\n",
    "    # float: float\n",
    "    # boolean: bool\n",
    "    # list: list\n",
    "# returns True/False\n",
    "animal = 'fennec fox'\n",
    "if isinstance(animal, str):\n",
    "    print('isinstance() is useful for conditionals determining datatype of a variable')\n",
    "    \n",
    "# same thing can be accomplished with type()\n",
    "if type(animal) == str:\n",
    "    print('type with an equality test can give you the same end result')"
   ]
  },
  {
   "cell_type": "markdown",
   "metadata": {},
   "source": [
    "##### abs()"
   ]
  },
  {
   "cell_type": "code",
   "execution_count": 150,
   "metadata": {},
   "outputs": [
    {
     "data": {
      "text/plain": [
       "5"
      ]
     },
     "execution_count": 150,
     "metadata": {},
     "output_type": "execute_result"
    }
   ],
   "source": [
    "# gives us the positive value of an integer or float\n",
    "# abs(x) = |x|\n",
    "abs(-5)"
   ]
  },
  {
   "cell_type": "markdown",
   "metadata": {},
   "source": [
    "### Try and Except"
   ]
  },
  {
   "cell_type": "code",
   "execution_count": 19,
   "metadata": {},
   "outputs": [
    {
     "name": "stdout",
     "output_type": "stream",
     "text": [
      "this wont\n"
     ]
    }
   ],
   "source": [
    "# structure that allows us to handle errors without our code breaking\n",
    "# *it is tempting to use try/except blocks all over the place - don't\n",
    "# try/except should be used sparingly to deal with a specific expected error\n",
    "# bad use: \"im gonna throw a try/except here in case i get an error\"\n",
    "# good use: \"if the user does this, we will get this error. instead of that error, i want to do something else\"\n",
    "\n",
    "try: # if the code in the try block throws an error\n",
    "    eRorR\n",
    "except: # instead of stopping the code, we just run the except block instead\n",
    "    print('this wont')"
   ]
  },
  {
   "cell_type": "markdown",
   "metadata": {},
   "source": [
    "### Lists\n",
    "\n",
    "#### One of our four main data structures/collections\n",
    "##### A collection of individual values separated by commas\n",
    "##### Lists are python's version of an array\n",
    "##### Ordered, mutable, indexed, iterable"
   ]
  },
  {
   "cell_type": "markdown",
   "metadata": {},
   "source": [
    "##### Declaring Lists"
   ]
  },
  {
   "cell_type": "code",
   "execution_count": 71,
   "metadata": {},
   "outputs": [
    {
     "name": "stdout",
     "output_type": "stream",
     "text": [
      "['fennec fox', 'tiger shark', 'tiger', 'panda bear', 'koala'] <class 'list'>\n",
      "[True, '', 27, 'Joao Cancelo'] <class 'list'>\n",
      "[] <class 'list'>\n"
     ]
    }
   ],
   "source": [
    "# [..., ..., ...] square brackets of comma separated values\n",
    "animals = ['fennec fox', 'tiger shark', 'tiger', 'panda bear', 'koala']\n",
    "print(animals, type(animals))\n",
    "# lists can contain any type of data or a mix of datatypes\n",
    "    # lists of mixed data are a departure from the traditional array - traditional arrays can only hold one datatype\n",
    "stuff = [True, '', 27, 'Joao Cancelo']\n",
    "print(stuff, type(stuff))\n",
    "\n",
    "emptylist = []\n",
    "print(emptylist, type(emptylist))"
   ]
  },
  {
   "cell_type": "markdown",
   "metadata": {},
   "source": [
    "##### Indexing a List"
   ]
  },
  {
   "cell_type": "code",
   "execution_count": 77,
   "metadata": {},
   "outputs": [
    {
     "name": "stdout",
     "output_type": "stream",
     "text": [
      "panda bear <class 'str'>\n",
      "panda bear <class 'str'>\n"
     ]
    }
   ],
   "source": [
    "# every list has index numbers corresponding to the elements in the list\n",
    "# beginning with zero\n",
    "# [ index#0, index#1, index#2, index#3 ]\n",
    "animals = ['fennec fox', 'tiger shark', 'tiger', 'panda bear', 'koala']\n",
    "# accessing a value in a list can be done by indexing into the list\n",
    "# name_of_list[index_number]\n",
    "print(animals[3], type(animals[3]))\n",
    "\n",
    "# there is also a system of negative index numbers\n",
    "# the last element in a list is index#-1, second to last is index#-2\n",
    "print(animals[-2], type(animals[-2]))"
   ]
  },
  {
   "cell_type": "markdown",
   "metadata": {},
   "source": [
    "##### .append()"
   ]
  },
  {
   "cell_type": "code",
   "execution_count": 80,
   "metadata": {},
   "outputs": [
    {
     "name": "stdout",
     "output_type": "stream",
     "text": [
      "['fennec fox', 'tiger shark', 'tiger', 'panda bear', 'koala', 'sugar glider']\n",
      "['fennec fox', 'tiger shark', 'tiger', 'panda bear', 'koala', 'sugar glider', 'sugar glider']\n"
     ]
    }
   ],
   "source": [
    "# built-in for adding items to a list\n",
    "# append adds a value to the end of a list\n",
    "# name_of_list.append(value_to_be_added)\n",
    "thing_to_be_added = 'sugar glider'\n",
    "print(animals)\n",
    "animals.append(thing_to_be_added)\n",
    "print(animals)"
   ]
  },
  {
   "cell_type": "markdown",
   "metadata": {},
   "source": [
    "##### .insert()"
   ]
  },
  {
   "cell_type": "code",
   "execution_count": 81,
   "metadata": {},
   "outputs": [
    {
     "name": "stdout",
     "output_type": "stream",
     "text": [
      "['fennec fox', 'tiger shark', 'tiger', 'panda bear', 'koala', 'sugar glider', 'sugar glider']\n",
      "['fennec fox', 'colugos', 'tiger shark', 'tiger', 'panda bear', 'koala', 'sugar glider', 'sugar glider']\n"
     ]
    }
   ],
   "source": [
    "# add items to a list at a specific index location\n",
    "# name_of_list.insert(index_number, value_to_add)\n",
    "print(animals)\n",
    "animals.insert(1, 'colugos')\n",
    "print(animals)"
   ]
  },
  {
   "cell_type": "markdown",
   "metadata": {},
   "source": [
    "##### .pop()"
   ]
  },
  {
   "cell_type": "code",
   "execution_count": 91,
   "metadata": {},
   "outputs": [
    {
     "name": "stdout",
     "output_type": "stream",
     "text": [
      "['fennec fox', 'tiger', 'panda bear', 'koala', 'sugar glider']\n",
      "tiger\n",
      "['fennec fox', 'panda bear', 'koala', 'sugar glider']\n"
     ]
    }
   ],
   "source": [
    "# index-based removal\n",
    "# list.pop(<index_number>)\n",
    "# by default, list.pop() will pop the -1st index (last item)\n",
    "print(animals)\n",
    "pop_return_val = animals.pop(1)\n",
    "print(pop_return_val)\n",
    "print(animals)"
   ]
  },
  {
   "cell_type": "code",
   "execution_count": 92,
   "metadata": {},
   "outputs": [
    {
     "data": {
      "text/plain": [
       "'tiger'"
      ]
     },
     "execution_count": 92,
     "metadata": {},
     "output_type": "execute_result"
    }
   ],
   "source": [
    "pop_return_val"
   ]
  },
  {
   "cell_type": "markdown",
   "metadata": {},
   "source": [
    "\n",
    "##### .remove()"
   ]
  },
  {
   "cell_type": "code",
   "execution_count": 87,
   "metadata": {},
   "outputs": [
    {
     "name": "stdout",
     "output_type": "stream",
     "text": [
      "['fennec fox', 'tiger shark', 'tiger', 'panda bear', 'koala', 'sugar glider', 'colugos']\n"
     ]
    },
    {
     "ename": "ValueError",
     "evalue": "list.remove(x): x not in list",
     "output_type": "error",
     "traceback": [
      "\u001b[1;31m---------------------------------------------------------------------------\u001b[0m",
      "\u001b[1;31mValueError\u001b[0m                                Traceback (most recent call last)",
      "\u001b[1;32m<ipython-input-87-e1f480b9612d>\u001b[0m in \u001b[0;36m<module>\u001b[1;34m\u001b[0m\n\u001b[0;32m      3\u001b[0m \u001b[1;31m# list.remove(value)\u001b[0m\u001b[1;33m\u001b[0m\u001b[1;33m\u001b[0m\u001b[1;33m\u001b[0m\u001b[0m\n\u001b[0;32m      4\u001b[0m \u001b[0mprint\u001b[0m\u001b[1;33m(\u001b[0m\u001b[0manimals\u001b[0m\u001b[1;33m)\u001b[0m\u001b[1;33m\u001b[0m\u001b[1;33m\u001b[0m\u001b[0m\n\u001b[1;32m----> 5\u001b[1;33m \u001b[0manimals\u001b[0m\u001b[1;33m.\u001b[0m\u001b[0mremove\u001b[0m\u001b[1;33m(\u001b[0m\u001b[1;34m'sam'\u001b[0m\u001b[1;33m)\u001b[0m\u001b[1;33m\u001b[0m\u001b[1;33m\u001b[0m\u001b[0m\n\u001b[0m\u001b[0;32m      6\u001b[0m \u001b[0mprint\u001b[0m\u001b[1;33m(\u001b[0m\u001b[0manimals\u001b[0m\u001b[1;33m)\u001b[0m\u001b[1;33m\u001b[0m\u001b[1;33m\u001b[0m\u001b[0m\n\u001b[0;32m      7\u001b[0m \u001b[1;33m\u001b[0m\u001b[0m\n",
      "\u001b[1;31mValueError\u001b[0m: list.remove(x): x not in list"
     ]
    }
   ],
   "source": [
    "# value-based removal - removes the first occurance of the specified value\n",
    "# note: be careful with .remove() inside loops... interesting and fun things can happen!\n",
    "# list.remove(value)\n",
    "print(animals)\n",
    "animals.remove('sam')\n",
    "print(animals)\n",
    " \n",
    "# remove does not return anything\n",
    "# if you try to remove a nonexistant value, you will get an error"
   ]
  },
  {
   "cell_type": "markdown",
   "metadata": {},
   "source": [
    "##### del keyword"
   ]
  },
  {
   "cell_type": "code",
   "execution_count": 94,
   "metadata": {},
   "outputs": [
    {
     "name": "stdout",
     "output_type": "stream",
     "text": [
      "['fennec fox', 'panda bear', 'koala', 'sugar glider']\n"
     ]
    },
    {
     "ename": "NameError",
     "evalue": "name 'animals' is not defined",
     "output_type": "error",
     "traceback": [
      "\u001b[1;31m---------------------------------------------------------------------------\u001b[0m",
      "\u001b[1;31mNameError\u001b[0m                                 Traceback (most recent call last)",
      "\u001b[1;32m<ipython-input-94-5abbecfa2105>\u001b[0m in \u001b[0;36m<module>\u001b[1;34m\u001b[0m\n\u001b[0;32m      4\u001b[0m \u001b[0mprint\u001b[0m\u001b[1;33m(\u001b[0m\u001b[0manimals\u001b[0m\u001b[1;33m)\u001b[0m\u001b[1;33m\u001b[0m\u001b[1;33m\u001b[0m\u001b[0m\n\u001b[0;32m      5\u001b[0m \u001b[1;32mdel\u001b[0m \u001b[0manimals\u001b[0m\u001b[1;33m\u001b[0m\u001b[1;33m\u001b[0m\u001b[0m\n\u001b[1;32m----> 6\u001b[1;33m \u001b[0mprint\u001b[0m\u001b[1;33m(\u001b[0m\u001b[0manimals\u001b[0m\u001b[1;33m)\u001b[0m\u001b[1;33m\u001b[0m\u001b[1;33m\u001b[0m\u001b[0m\n\u001b[0m",
      "\u001b[1;31mNameError\u001b[0m: name 'animals' is not defined"
     ]
    }
   ],
   "source": [
    "# erases a portion of your computer's memory\n",
    "# dont use del on list indexes\n",
    "# you can use del to just erase a list\n",
    "print(animals)\n",
    "del animals\n",
    "print(animals)"
   ]
  },
  {
   "cell_type": "markdown",
   "metadata": {},
   "source": [
    "##### Concatenating Two Lists"
   ]
  },
  {
   "cell_type": "code",
   "execution_count": 100,
   "metadata": {},
   "outputs": [
    {
     "name": "stdout",
     "output_type": "stream",
     "text": [
      "['tortoise', 'iguana', 'river otter'] ['turtle', 'marine iguana', 'sea otter']\n",
      "['tortoise', 'iguana', 'river otter', 'turtle', 'marine iguana', 'sea otter']\n"
     ]
    }
   ],
   "source": [
    "# addition of lists\n",
    "# creates a new third list containing all elements from the two (or more) original lists\n",
    "land = ['tortoise', 'iguana', 'river otter']\n",
    "sea = ['turtle', 'marine iguana', 'sea otter']\n",
    "print(land, sea)\n",
    "animals = land + sea\n",
    "print(animals)"
   ]
  },
  {
   "cell_type": "markdown",
   "metadata": {},
   "source": [
    "##### Lists Within Lists"
   ]
  },
  {
   "cell_type": "code",
   "execution_count": 182,
   "metadata": {},
   "outputs": [
    {
     "name": "stdout",
     "output_type": "stream",
     "text": [
      "leopard <class 'str'>\n",
      "Snow Leopard\n"
     ]
    }
   ],
   "source": [
    "animals = [['fennec fox', 'scorpion', 'snake'], ['tuna', 'kanpachi', 'anago'], ['tiger', 'lion', 'leopard', 'jaguar']]\n",
    "print(animals[2][2], type(animals[2][2]))\n",
    "animals[2][2] = ['snow leopard', 'african leopard']\n",
    "print(animals[2][2][0].title())"
   ]
  },
  {
   "cell_type": "markdown",
   "metadata": {},
   "source": [
    "##### Looping Through Lists"
   ]
  },
  {
   "cell_type": "code",
   "execution_count": 195,
   "metadata": {},
   "outputs": [
    {
     "name": "stdout",
     "output_type": "stream",
     "text": [
      "[['fennec fox', 'scorpion', 'snake'], ['tuna', 'kanpachi', 'anago'], ['tiger', 'lion', ['snow leopard', 'african leopard'], 'jaguar']]\n",
      "Index 0 contains value ['fennec fox', 'scorpion', 'snake']\n",
      "fennec fox <class 'str'>\n",
      "scorpion <class 'str'>\n",
      "snake <class 'str'>\n",
      "Index 1 contains value ['tuna', 'kanpachi', 'anago']\n",
      "tuna <class 'str'>\n",
      "kanpachi <class 'str'>\n",
      "anago <class 'str'>\n",
      "Index 2 contains value ['tiger', 'lion', ['snow leopard', 'african leopard'], 'jaguar']\n",
      "tiger <class 'str'>\n",
      "lion <class 'str'>\n",
      "['snow leopard', 'african leopard'] <class 'list'>\n",
      "jaguar <class 'str'>\n"
     ]
    }
   ],
   "source": [
    "print(animals)\n",
    "for i in range(len(animals)):\n",
    "    print(f'Index {i} contains value {animals[i]}')\n",
    "    for animal in animals[i]:\n",
    "        print(animal, type(animal))"
   ]
  },
  {
   "cell_type": "markdown",
   "metadata": {},
   "source": [
    "## Exercise #1 <br>\n",
    "<p>Cube Number Test... Print out all cubed numbers up to the total value 1000. Meaning that if the cubed number is over 1000 break the loop.</p>"
   ]
  },
  {
   "cell_type": "code",
   "execution_count": 6,
   "metadata": {},
   "outputs": [
    {
     "name": "stdout",
     "output_type": "stream",
     "text": [
      "[0, 1, 8, 27, 64, 125, 216, 343, 512, 729, 1000]\n",
      "[0, 1, 8, 27, 64, 125, 216, 343, 512, 729, 1000]\n"
     ]
    }
   ],
   "source": [
    "# print the cubed version of 0-10\n",
    "# write a loop through the numbers 0-10 and print the cube of each one\n",
    "cubes = []\n",
    "for num in range(11):\n",
    "    cubes.append(num**3)\n",
    "print(cubes)\n",
    "\n",
    "cubes2 = [num**3 for num in range(11)]\n",
    "print(cubes2)"
   ]
  },
  {
   "cell_type": "code",
   "execution_count": 4,
   "metadata": {},
   "outputs": [
    {
     "name": "stdout",
     "output_type": "stream",
     "text": [
      "0\n",
      "1\n",
      "8\n",
      "27\n",
      "64\n",
      "125\n",
      "216\n",
      "343\n",
      "512\n",
      "729\n",
      "1000\n"
     ]
    }
   ],
   "source": [
    "num = 0\n",
    "while num**3 <= 1000:\n",
    "    print(num**3)\n",
    "    num = num+1"
   ]
  },
  {
   "cell_type": "markdown",
   "metadata": {},
   "source": [
    "## Exercise #2 <br>\n",
    "<p>Get first prime numbers up to 100</p>"
   ]
  },
  {
   "cell_type": "code",
   "execution_count": 9,
   "metadata": {},
   "outputs": [
    {
     "name": "stdout",
     "output_type": "stream",
     "text": [
      "0\n",
      "1\n",
      "2\n",
      "3\n",
      "5\n",
      "7\n",
      "11\n",
      "13\n",
      "17\n",
      "19\n",
      "23\n",
      "29\n",
      "31\n",
      "37\n",
      "41\n",
      "43\n",
      "47\n",
      "53\n",
      "59\n",
      "61\n",
      "67\n",
      "71\n",
      "73\n",
      "79\n",
      "83\n",
      "89\n",
      "97\n"
     ]
    }
   ],
   "source": [
    "# HINT::\n",
    "# An else after an if runs if the if didn’t\n",
    "# An else after a for runs if the for didn’t break\n",
    "\n",
    "# loop through the numbers 0-100\n",
    "# and check if they are divisible by any preceeding numbers\n",
    "for num in range(101):\n",
    "    for div in range(2, num):\n",
    "        if num % div == 0: # if this is true, not a prime number\n",
    "            break\n",
    "    else:\n",
    "        print(num)"
   ]
  },
  {
   "cell_type": "markdown",
   "metadata": {},
   "source": [
    "# Exercise 3 <br>\n",
    "<p>Take in a users input for their age, if they are younger than 18 print kids, if they're 18 to 65 print adults, else print seniors</p>"
   ]
  },
  {
   "cell_type": "code",
   "execution_count": 23,
   "metadata": {},
   "outputs": [
    {
     "name": "stdout",
     "output_type": "stream",
     "text": [
      "What is your age? (example: 25 | not twenty-five) sixty\n",
      "You're bad at typing your age.\n"
     ]
    }
   ],
   "source": [
    "try:\n",
    "    age = int(input('What is your age? (example: 25 | not twenty-five) '))\n",
    "    if age < 18:\n",
    "        print('kid')\n",
    "    elif age < 65:\n",
    "        print('adult')\n",
    "    else:\n",
    "        print('senior')\n",
    "except:\n",
    "    print(\"You're bad at typing your age.\")"
   ]
  },
  {
   "cell_type": "code",
   "execution_count": 35,
   "metadata": {},
   "outputs": [
    {
     "name": "stdout",
     "output_type": "stream",
     "text": [
      "What is your age? (example: 25 | not twenty-five) 32\n",
      "adult\n"
     ]
    }
   ],
   "source": [
    "# What if we want to repeat the request for user input until they give a valid input?\n",
    "# Use a while loop!\n",
    "while True:\n",
    "    try:\n",
    "        age = int(input('What is your age? (example: 25 | not twenty-five) ')) # error might happen here\n",
    "        if age < 18:\n",
    "            print('kid')\n",
    "        elif age < 65:\n",
    "            print('adult')\n",
    "        else:\n",
    "            print('senior')\n",
    "        break\n",
    "        print('Thank you for giving us your data.')\n",
    "    except:\n",
    "        print(\"You're bad at typing your age.\")"
   ]
  },
  {
   "cell_type": "code",
   "execution_count": 34,
   "metadata": {},
   "outputs": [
    {
     "name": "stdout",
     "output_type": "stream",
     "text": [
      "What is your age? (example: 25 | not twenty-five) 32\n",
      "adult\n",
      "Thank you for giving us your data.\n"
     ]
    }
   ],
   "source": [
    "# while loop based on a flag version\n",
    "flag = True\n",
    "while flag:\n",
    "    try:\n",
    "        age = int(input('What is your age? (example: 25 | not twenty-five) ')) # error might happen here\n",
    "        if age < 18:\n",
    "            print('kid')\n",
    "        elif age < 65:\n",
    "            print('adult')\n",
    "        else:\n",
    "            print('senior')\n",
    "        flag = False\n",
    "        print('Thank you for giving us your data.')\n",
    "    except:\n",
    "        print(\"You're bad at typing your age.\")"
   ]
  },
  {
   "cell_type": "code",
   "execution_count": null,
   "metadata": {},
   "outputs": [],
   "source": []
  }
 ],
 "metadata": {
  "kernelspec": {
   "display_name": "Python 3",
   "language": "python",
   "name": "python3"
  },
  "language_info": {
   "codemirror_mode": {
    "name": "ipython",
    "version": 3
   },
   "file_extension": ".py",
   "mimetype": "text/x-python",
   "name": "python",
   "nbconvert_exporter": "python",
   "pygments_lexer": "ipython3",
   "version": "3.8.8"
  }
 },
 "nbformat": 4,
 "nbformat_minor": 2
}
