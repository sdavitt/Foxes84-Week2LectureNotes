{
 "cells": [
  {
   "cell_type": "markdown",
   "metadata": {},
   "source": [
    "# Data Collections 2 (Dictionaries, Sets) and Importing Modules"
   ]
  },
  {
   "cell_type": "markdown",
   "metadata": {},
   "source": [
    "## Tasks Today:\n",
    "\n",
    "1) Dictionary <br>\n",
    " &nbsp;&nbsp;&nbsp;&nbsp; a) Declaring (key, value) <br>\n",
    " &nbsp;&nbsp;&nbsp;&nbsp; b) Accessing Values <br>\n",
    " &nbsp;&nbsp;&nbsp;&nbsp; ------ Exercise #1 - Print the eye color of each person in a double nested dict <br>\n",
    " &nbsp;&nbsp;&nbsp;&nbsp; c) Adding New Pairs <br>\n",
    " &nbsp;&nbsp;&nbsp;&nbsp; d) Modifying Values <br>\n",
    " &nbsp;&nbsp;&nbsp;&nbsp; e) Removing Key, Value Pairs <br>\n",
    " &nbsp;&nbsp;&nbsp;&nbsp; f) Looping a Dictionary <br>\n",
    " &nbsp;&nbsp;&nbsp;&nbsp; g) Looping Only Keys <br>\n",
    " &nbsp;&nbsp;&nbsp;&nbsp; h) Looping Only Values <br>\n",
    " &nbsp;&nbsp;&nbsp;&nbsp; ------ Exercise #2 - Create a Function that Prints All Key Value Pairs within a print .format()  <br>\n",
    " &nbsp;&nbsp;&nbsp;&nbsp; i) sorted() <br>\n",
    " &nbsp;&nbsp;&nbsp;&nbsp; j) Lists with Dictionaries <br>\n",
    " &nbsp;&nbsp;&nbsp;&nbsp; k) Dictionaries with Lists <br>\n",
    " &nbsp;&nbsp;&nbsp;&nbsp; l) Dictionaries with Dictionaries <br>\n",
    " &nbsp;&nbsp;&nbsp;&nbsp; ------ Exercise #3 - Write a Function that asks someone's name and address, and then stores that into a dictionary, which prints all names and addresses after they're done putting information in...  <br>\n",
    "2) Dictionaries vs. Lists (over time)<br>\n",
    "3) Set <br>\n",
    " &nbsp;&nbsp;&nbsp;&nbsp; a) Declaring <br>\n",
    " &nbsp;&nbsp;&nbsp;&nbsp; b) .add() <br>\n",
    " &nbsp;&nbsp;&nbsp;&nbsp; c) .remove() <br>\n",
    " &nbsp;&nbsp;&nbsp;&nbsp; d) .union() <br>\n",
    " &nbsp;&nbsp;&nbsp;&nbsp; e) .intersection() <br>\n",
    " &nbsp;&nbsp;&nbsp;&nbsp; f) .difference() <br>\n",
    " &nbsp;&nbsp;&nbsp;&nbsp; g) Frozen Set <br>\n",
    "4) Modules <br>\n",
    " &nbsp;&nbsp;&nbsp;&nbsp; a) Importing Entire Modules <br>\n",
    " &nbsp;&nbsp;&nbsp;&nbsp; b) Importing Methods Only <br>\n",
    " &nbsp;&nbsp;&nbsp;&nbsp; c) Using the 'as' Keyword <br>\n",
    " &nbsp;&nbsp;&nbsp;&nbsp; d) Creating a Module <br>\n",
    "5) Exercises <br>\n",
    " &nbsp;&nbsp;&nbsp;&nbsp; a) Build a Shopping Cart <br>\n",
    " &nbsp;&nbsp;&nbsp;&nbsp; b) Create Your Own Module <br>"
   ]
  },
  {
   "cell_type": "markdown",
   "metadata": {},
   "source": [
    "## Dictionary <br>\n",
    "<p>A collection of data with 'key:value' pairs. Dictionaries are pseudo-ordered as of Python 3.6</p>"
   ]
  },
  {
   "cell_type": "markdown",
   "metadata": {},
   "source": [
    "##### Declaring (key, value)"
   ]
  },
  {
   "cell_type": "code",
   "execution_count": null,
   "metadata": {},
   "outputs": [],
   "source": [
    "# { K:V, K:V, K:V, }\n",
    "players = {'Joao Cancelo': 27, 'Bernardo Silva': 21, 'Kevin De Bruyne': 17}\n",
    "# keys can be any singular datatype- almost always strings or integers - can be boolean\n",
    "# values can be anything - a string, an int, a list, another dictionary\n",
    "players2 = {27: 'Joao Cancelo', 21: 'Bernardo Silva', 17: 'Kevin De Bruyne'}\n",
    "mixed = {True: 'Cloud', 2: 'Two', 'Stringkey': 'strings can be keys'}"
   ]
  },
  {
   "cell_type": "markdown",
   "metadata": {},
   "source": [
    "##### Accessing Values"
   ]
  },
  {
   "cell_type": "code",
   "execution_count": 14,
   "metadata": {},
   "outputs": [
    {
     "name": "stdout",
     "output_type": "stream",
     "text": [
      "Cloud\n",
      "strings can be keys\n",
      "Two\n",
      "strings can be keys\n",
      "None\n",
      "key didnt exist\n"
     ]
    }
   ],
   "source": [
    "# name_of_dict[key]\n",
    "mixed = {True: 'Cloud', 2: 'Two', 'Stringkey': 'strings can be keys'}\n",
    "print(mixed[True])\n",
    "print(mixed['Stringkey'])\n",
    "print(mixed[2])\n",
    "# if you try to access a key that doesn't exist, you get a keyerror\n",
    "# mixed['nonexistant']\n",
    "# the other way to access a value in a dictionary - dict.get() method\n",
    "print(mixed.get('Stringkey'))\n",
    "print(mixed.get('nonexistant')) # returns none if the key doesn't exist\n",
    "# can specify a different value to return other than none\n",
    "print(mixed.get('nonexistant', 'key didnt exist'))"
   ]
  },
  {
   "cell_type": "markdown",
   "metadata": {},
   "source": [
    "## In-Class Exercise #1 - Print a formatted statement from the dictionary below <br>\n",
    "<p>The output should be '2018 Chevrolet Silverado'</p>"
   ]
  },
  {
   "cell_type": "code",
   "execution_count": 25,
   "metadata": {},
   "outputs": [
    {
     "name": "stdout",
     "output_type": "stream",
     "text": [
      "2018 Chevrolet Silverado\n",
      "2018 Chevrolet Silverado\n"
     ]
    }
   ],
   "source": [
    "# use the dict below\n",
    "truck = {\n",
    "    'year': 2018,\n",
    "    'make': 'Chevrolet',\n",
    "    'model': 'Silverado'\n",
    "}\n",
    "\n",
    "print(f\"{truck['year']} {truck['make']} {truck['model']}\")\n",
    "print (truck['year'], truck['make'], truck['model'])"
   ]
  },
  {
   "cell_type": "markdown",
   "metadata": {},
   "source": [
    "##### Adding New Pairs"
   ]
  },
  {
   "cell_type": "code",
   "execution_count": 27,
   "metadata": {},
   "outputs": [
    {
     "name": "stdout",
     "output_type": "stream",
     "text": [
      "{'Joao Cancelo': 27, 'Bernardo Silva': 21, 'Kevin De Bruyne': 17, 'Phil Foden': 47, 'Kyle Walker': 22}\n"
     ]
    }
   ],
   "source": [
    "# variable assignment of a new key\n",
    "players = {'Joao Cancelo': 27, 'Bernardo Silva': 21, 'Kevin De Bruyne': 17}\n",
    "# dict[key] = value\n",
    "players['Phil Foden'] = 47\n",
    "players['Kyle Walker'] = 22\n",
    "print(players)"
   ]
  },
  {
   "cell_type": "markdown",
   "metadata": {},
   "source": [
    "##### Modifying Values"
   ]
  },
  {
   "cell_type": "code",
   "execution_count": 35,
   "metadata": {},
   "outputs": [
    {
     "name": "stdout",
     "output_type": "stream",
     "text": [
      "{'Joao Cancelo': 27, 'Bernardo Silva': 21, 'Kevin De Bruyne': 17, 'Phil Foden': 47, 'Kyle Walker': 2}\n"
     ]
    }
   ],
   "source": [
    "# variable redefinition of a key\n",
    "# dict[key] = new_value\n",
    "players['Kyle Walker'] = 2\n",
    "print(players)"
   ]
  },
  {
   "cell_type": "markdown",
   "metadata": {},
   "source": [
    "##### Removing Key, Value Pairs"
   ]
  },
  {
   "cell_type": "code",
   "execution_count": 36,
   "metadata": {},
   "outputs": [
    {
     "name": "stdout",
     "output_type": "stream",
     "text": [
      "{'Joao Cancelo': 27, 'Bernardo Silva': 21, 'Kevin De Bruyne': 17, 'Phil Foden': 47}\n"
     ]
    }
   ],
   "source": [
    "# del keyword\n",
    "# del dict[key]\n",
    "del players['Kyle Walker'] # keyerror if the key doesn't exist\n",
    "print(players)"
   ]
  },
  {
   "cell_type": "markdown",
   "metadata": {},
   "source": [
    "##### Looping a Dictionary"
   ]
  },
  {
   "cell_type": "code",
   "execution_count": 40,
   "metadata": {},
   "outputs": [
    {
     "name": "stdout",
     "output_type": "stream",
     "text": [
      "Joao Cancelo 27\n",
      "Bernardo Silva 21\n",
      "Kevin De Bruyne 17\n",
      "Ederson Moraes 1\n"
     ]
    }
   ],
   "source": [
    "# best practice approach/most efficient approach\n",
    "# directly loop the dictionary's keys\n",
    "# for k in dict:\n",
    "players = {'Joao Cancelo': 27, 'Bernardo Silva': 21, 'Kevin De Bruyne': 17, 'Ederson Moraes': 1}\n",
    "\n",
    "# gives access directly to the keys, and thru bracket notation access to the values\n",
    "for k in players:\n",
    "    print(k, players[k])"
   ]
  },
  {
   "cell_type": "code",
   "execution_count": 43,
   "metadata": {},
   "outputs": [
    {
     "name": "stdout",
     "output_type": "stream",
     "text": [
      "dict_items([('Joao Cancelo', 27), ('Bernardo Silva', 21), ('Kevin De Bruyne', 17), ('Ederson Moraes', 1)])\n",
      "Joao Cancelo 27\n",
      "Bernardo Silva 21\n",
      "Kevin De Bruyne 17\n",
      "Ederson Moraes 1\n"
     ]
    }
   ],
   "source": [
    "# .items() - returns a dict_items object which is essentially a list of tuples of the key:value pairs from the dictionary\n",
    "print(players.items())\n",
    "for key, value in players.items():\n",
    "    print(key, value)\n"
   ]
  },
  {
   "cell_type": "markdown",
   "metadata": {},
   "source": [
    "##### Looping Only Keys"
   ]
  },
  {
   "cell_type": "code",
   "execution_count": 50,
   "metadata": {},
   "outputs": [
    {
     "name": "stdout",
     "output_type": "stream",
     "text": [
      "dict_keys(['Joao Cancelo', 'Bernardo Silva', 'Kevin De Bruyne', 'Ederson Moraes'])\n",
      "Joao Cancelo\n",
      "Bernardo Silva\n",
      "Kevin De Bruyne\n",
      "Ederson Moraes\n"
     ]
    }
   ],
   "source": [
    "# .keys()\n",
    "print(players.keys()) # returns essentially a list of keys\n",
    "\n",
    "# don't use this for a loop - bad practice\n",
    "for k in players.keys(): # dont loop dict keys like this - just use for k in dict:\n",
    "    print(k)\n",
    "    \n",
    "# some scenarios we do want access to our dictionaries keys\n"
   ]
  },
  {
   "cell_type": "markdown",
   "metadata": {},
   "source": [
    "##### Looping Only Values"
   ]
  },
  {
   "cell_type": "code",
   "execution_count": 47,
   "metadata": {},
   "outputs": [
    {
     "name": "stdout",
     "output_type": "stream",
     "text": [
      "dict_values([27, 21, 17, 1])\n",
      "27\n",
      "21\n",
      "17\n",
      "1\n"
     ]
    }
   ],
   "source": [
    "# .values()\n",
    "print(players.values()) # returns essentially a list of values\n",
    "\n",
    "for v in players.values():\n",
    "    print(v)"
   ]
  },
  {
   "cell_type": "markdown",
   "metadata": {},
   "source": [
    "## In-Class Exercise #2 - Create a Function that Prints All Key Value Pairs within a print .format() <br>\n",
    "<p><b>Output should be:</b><br>\n",
    "Max has blue eyes<br>\n",
    "Lilly has brown eyes<br>\n",
    "Barney has blue eyes<br>\n",
    "etc.\n",
    "</p>"
   ]
  },
  {
   "cell_type": "code",
   "execution_count": 52,
   "metadata": {},
   "outputs": [
    {
     "name": "stdout",
     "output_type": "stream",
     "text": [
      "Max has blue eyes.\n",
      "Lilly has brown eyes.\n",
      "Barney has blue eyes.\n",
      "Larney has brown eyes.\n",
      "Ted has purple eyes.\n"
     ]
    }
   ],
   "source": [
    "# use the dict below\n",
    "\n",
    "people = {\n",
    "    'Max': 'blue',\n",
    "    'Lilly': 'brown',\n",
    "    'Barney': 'blue',\n",
    "    'Larney': 'brown',\n",
    "    'Ted': 'purple'\n",
    "}\n",
    "\n",
    "for k in people:\n",
    "    print(f\"{k} has {people[k]} eyes.\")"
   ]
  },
  {
   "cell_type": "markdown",
   "metadata": {},
   "source": [
    "### Are dictionaries ordered?"
   ]
  },
  {
   "cell_type": "code",
   "execution_count": null,
   "metadata": {},
   "outputs": [],
   "source": [
    "# yes and no\n",
    "# the traditional answer would be no - dictionaries are not truly ordered\n",
    "# the modern answer is yes in a way\n",
    "# dictionaries are not ordered the way lists or tuples are - we cannot directly sort a dictionary\n",
    "# however, modern dictionaries in python are pseudo-ordered by insertion order\n",
    "    # in other words, they will maintain the order that their key:value pairs were added\n",
    "\n",
    "# while this insertion ordering can prove useful, most of the time we can just consider our dictionaries unordered\n",
    "# if we wanted to \"sort\" a dictionary directly\n",
    "# it would be a rather involved process of removing and re-adding keys in the correct order"
   ]
  },
  {
   "cell_type": "markdown",
   "metadata": {},
   "source": [
    "##### sorted()"
   ]
  },
  {
   "cell_type": "code",
   "execution_count": 56,
   "metadata": {},
   "outputs": [
    {
     "name": "stdout",
     "output_type": "stream",
     "text": [
      "{'Joao Cancelo': 27, 'Bernardo Silva': 21, 'Kevin De Bruyne': 17, 'Ederson Moraes': 1}\n",
      "[('Bernardo Silva', 21), ('Ederson Moraes', 1), ('Joao Cancelo', 27), ('Kevin De Bruyne', 17)]\n",
      "<class 'list'>\n"
     ]
    }
   ],
   "source": [
    "# sorts variables in order\n",
    "# sorted(dict.values()) or dict.keys() or dict.items()\n",
    "# using the items/values/keys method, sort a list version of thee dictionary\n",
    "# sorted() works on a list\n",
    "# and .items() .values() and .keys() provide list-like objects (aka structures than can be used with list operations)\n",
    "print(players)\n",
    "print(sorted(players.items())) # returns a list of tuples (k, v) sorted by alphabetical ordering of our keys\n",
    "print(type(sorted(players.items())))"
   ]
  },
  {
   "cell_type": "markdown",
   "metadata": {},
   "source": [
    "##### List with Dictionaries"
   ]
  },
  {
   "cell_type": "code",
   "execution_count": 59,
   "metadata": {},
   "outputs": [
    {
     "data": {
      "text/plain": [
       "'Fennec Fox'"
      ]
     },
     "execution_count": 59,
     "metadata": {},
     "output_type": "execute_result"
    }
   ],
   "source": [
    "mylist = [{'Fox': 'Fennec Fox', 'Other Fox': 'Arctic Fox'}, {'Whale': 'Orca'}, {'Cat': 'Tiger', 'Other Cat': 'Cat'}]\n",
    "\n",
    "# access the string 'Fennec Fox'\n",
    "mylist[0]['Fox']"
   ]
  },
  {
   "cell_type": "markdown",
   "metadata": {},
   "source": [
    "##### Dictionaries with Lists"
   ]
  },
  {
   "cell_type": "code",
   "execution_count": 61,
   "metadata": {},
   "outputs": [
    {
     "data": {
      "text/plain": [
       "'Coyote'"
      ]
     },
     "execution_count": 61,
     "metadata": {},
     "output_type": "execute_result"
    }
   ],
   "source": [
    "# be careful when using numbers as keys in dictionaries, don't confuse them with indexes\n",
    "animals = {\n",
    "    'Foxes': ['Fennec Fox', 'Arctic Fox', 'Tibetan Fox'],\n",
    "    'Whales': ['Orca', 'Blue'],\n",
    "    'Cats': ['Cat', 'Tiger'],\n",
    "    'Canines': ['Wolf', 'Coyote', 'Dog'],\n",
    "    'Marsupials': ['Kangaroo']\n",
    "}\n",
    "\n",
    "animals['Canines'][1]"
   ]
  },
  {
   "cell_type": "markdown",
   "metadata": {},
   "source": [
    "##### Dictionaries with Dictionaries"
   ]
  },
  {
   "cell_type": "code",
   "execution_count": 63,
   "metadata": {},
   "outputs": [
    {
     "data": {
      "text/plain": [
       "'K'"
      ]
     },
     "execution_count": 63,
     "metadata": {},
     "output_type": "execute_result"
    }
   ],
   "source": [
    "# to get values, must traverse through keys\n",
    "players = {\n",
    "    'Joao Cancelo': {'position': 'LB/RB', 'number': 27},\n",
    "    'Bernardo Silva': {'position': 'CAM', 'number': 21},\n",
    "    'Ederson Moraes': {'position': 'K', 'number': 1}\n",
    "}\n",
    "\n",
    "# get Ederson's position\n",
    "players['Ederson Moraes']['position']"
   ]
  },
  {
   "cell_type": "code",
   "execution_count": 76,
   "metadata": {},
   "outputs": [
    {
     "name": "stdout",
     "output_type": "stream",
     "text": [
      "<class 'dict'>\n"
     ]
    },
    {
     "data": {
      "text/plain": [
       "'1:26.555'"
      ]
     },
     "execution_count": 76,
     "metadata": {},
     "output_type": "execute_result"
    }
   ],
   "source": [
    "import requests as r\n",
    "data = r.get('https://ergast.com/api/f1/2021/20/results.json').json()\n",
    "print(type(data))\n",
    "# I want Charles LeClerc's Fastest Lap Time\n",
    "data['MRData']['RaceTable']['Races'][0]['Results'][7]['FastestLap']['Time']['time']"
   ]
  },
  {
   "cell_type": "markdown",
   "metadata": {},
   "source": [
    "## Dictionaries vs. Lists (over time) Example of RUNTIME\n",
    "### When inputting values in a Dictionary vs List"
   ]
  },
  {
   "cell_type": "code",
   "execution_count": 77,
   "metadata": {},
   "outputs": [],
   "source": [
    "import time\n",
    "\n",
    "\n",
    "# generate fake dictionary\n",
    "d = {}\n",
    "\n",
    "for i in range(10000000):\n",
    "    d[i] = 'value'\n",
    "    \n",
    "\n",
    "# generate fake list\n",
    "big_list = [x for x in range(10000000)]"
   ]
  },
  {
   "cell_type": "code",
   "execution_count": 78,
   "metadata": {},
   "outputs": [
    {
     "name": "stdout",
     "output_type": "stream",
     "text": [
      "value\n",
      "Elapsed time for dictionary: 0.0\n",
      "9999999\n",
      "Elapsed time for list: 0.5319573879241943\n"
     ]
    }
   ],
   "source": [
    "# tracking time for dictionary\n",
    "start_time = time.time()\n",
    "\n",
    "print(d[9999999])\n",
    "\n",
    "end_time = time.time() - start_time\n",
    "\n",
    "print('Elapsed time for dictionary: {}'.format(end_time))\n",
    "\n",
    "\n",
    "# tracking time for list\n",
    "start_time = time.time()\n",
    "\n",
    "for i in range(len(big_list)):\n",
    "    if i == 9999999:\n",
    "        print(i)\n",
    "\n",
    "end_time = time.time() - start_time\n",
    "\n",
    "print('Elapsed time for list: {}'.format(end_time))"
   ]
  },
  {
   "cell_type": "markdown",
   "metadata": {},
   "source": [
    "## Exercise #3 - Write a Function that asks someone's name and address, and then stores that into a dictionary, and continues to do so until they choose to 'quit'. Once they quit, the program should print all names and addresses. <br>\n",
    "<p>\n",
    "<b>Optional steps:</b><br>\n",
    "step 1: write a function that takes in information and stores it in a dictionary<br>\n",
    "step 2: define an empty dictionary to work with<br>\n",
    "step 3: create our loop, which asks the user for information until they quit<br>\n",
    "step 4: ask for the information, and store it into variables<br>\n",
    "step 5: check if the user types quit<br>\n",
    "step 5a: print out all information<br>\n",
    "step 5b: break out of the loop<br>\n",
    "step 6: if they didn't quit, add the information to the dictionary<br>\n",
    "step 7: invoke the function by calling it\n",
    "</p>"
   ]
  },
  {
   "cell_type": "code",
   "execution_count": null,
   "metadata": {},
   "outputs": [],
   "source": [
    "from IPython.display import clear_output # can use this function to clean up outputs when everything is working\n",
    "\n",
    "# input() - to ask about addresses/names\n",
    "# you'll need a dictionary to store the responses given by the user\n",
    "# you'll need a loop to continue asking about addesses/names unless the user tells you they want to quit\n",
    "def info():\n",
    "    address_book = {}\n",
    "    ask = \"add\"\n",
    "    while ask == \"add\":\n",
    "            ask = input(\"This program will ask you your name and address, when done please press quit. Would you like to add or quit?\")\n",
    "            clear_output()\n",
    "            if ask == \"add\":\n",
    "                name = input(\"Please provide your name\")\n",
    "                clear_output()\n",
    "                address = input(\"Please enter your address\")\n",
    "                clear_output()\n",
    "                address_book[name] = address\n",
    "            elif ask == \"quit\":\n",
    "                break\n",
    "    return address_book\n",
    "book1 = info()\n",
    "book2 = info()\n",
    "print(book1, book2)"
   ]
  },
  {
   "cell_type": "code",
   "execution_count": 95,
   "metadata": {},
   "outputs": [
    {
     "data": {
      "text/plain": [
       "{'Sam': 'Coding Temple St', 'Devon': 'Coding Temple Ave'}"
      ]
     },
     "execution_count": 95,
     "metadata": {},
     "output_type": "execute_result"
    }
   ],
   "source": [
    "book1"
   ]
  },
  {
   "cell_type": "markdown",
   "metadata": {},
   "source": [
    "## Set <br>\n",
    "<p>A Set is an unordered collection data type that is iterable (loop), mutable, and has no duplicate elements.<br>Major advantage is that it is highly optimized in checking if something is in the set, as opposed to checking if something is in a list.</p>"
   ]
  },
  {
   "cell_type": "markdown",
   "metadata": {},
   "source": [
    "##### Declaring"
   ]
  },
  {
   "cell_type": "code",
   "execution_count": 111,
   "metadata": {},
   "outputs": [
    {
     "name": "stdout",
     "output_type": "stream",
     "text": [
      "<class 'set'>\n",
      "{'b', 'c', 'a'}\n"
     ]
    }
   ],
   "source": [
    "# set() to make an empty set, {value, value, value} to make a non-empty set\n",
    "# no order {3, 2, 1} outputs as {1, 2, 3}\n",
    "newset = set()\n",
    "print(type(newset))\n",
    "\n",
    "otherset = {'a', 'b', 'c', 'c'} # any duplicates are removed/ignored\n",
    "print(otherset)"
   ]
  },
  {
   "cell_type": "markdown",
   "metadata": {},
   "source": [
    "##### .add()"
   ]
  },
  {
   "cell_type": "code",
   "execution_count": 112,
   "metadata": {},
   "outputs": [
    {
     "name": "stdout",
     "output_type": "stream",
     "text": [
      "{'b', 'c', 'a'}\n",
      "{'b', 'd', 'c', 'a'}\n",
      "{'b', 'd', 'c', 'a'}\n"
     ]
    }
   ],
   "source": [
    "# set.add()\n",
    "print(otherset)\n",
    "otherset.add('d')\n",
    "print(otherset)\n",
    "otherset.add('c')\n",
    "print(otherset)"
   ]
  },
  {
   "cell_type": "markdown",
   "metadata": {},
   "source": [
    "##### .remove()"
   ]
  },
  {
   "cell_type": "code",
   "execution_count": 114,
   "metadata": {},
   "outputs": [
    {
     "name": "stdout",
     "output_type": "stream",
     "text": [
      "{'b', 'd', 'c', 'a'}\n",
      "{'b', 'd', 'c'}\n"
     ]
    }
   ],
   "source": [
    "# removes by value\n",
    "# set.remove()\n",
    "print(otherset)\n",
    "otherset.remove('a')\n",
    "print(otherset)"
   ]
  },
  {
   "cell_type": "code",
   "execution_count": 115,
   "metadata": {
    "scrolled": true
   },
   "outputs": [
    {
     "ename": "KeyError",
     "evalue": "'z'",
     "output_type": "error",
     "traceback": [
      "\u001b[1;31m---------------------------------------------------------------------------\u001b[0m",
      "\u001b[1;31mKeyError\u001b[0m                                  Traceback (most recent call last)",
      "\u001b[1;32m<ipython-input-115-2e5c772cb247>\u001b[0m in \u001b[0;36m<module>\u001b[1;34m\u001b[0m\n\u001b[0;32m      1\u001b[0m \u001b[1;31m# trying to remove a value not present will produce an error\u001b[0m\u001b[1;33m\u001b[0m\u001b[1;33m\u001b[0m\u001b[1;33m\u001b[0m\u001b[0m\n\u001b[1;32m----> 2\u001b[1;33m \u001b[0motherset\u001b[0m\u001b[1;33m.\u001b[0m\u001b[0mremove\u001b[0m\u001b[1;33m(\u001b[0m\u001b[1;34m'z'\u001b[0m\u001b[1;33m)\u001b[0m\u001b[1;33m\u001b[0m\u001b[1;33m\u001b[0m\u001b[0m\n\u001b[0m",
      "\u001b[1;31mKeyError\u001b[0m: 'z'"
     ]
    }
   ],
   "source": [
    "# trying to remove a value not present will produce an error\n",
    "otherset.remove('z')"
   ]
  },
  {
   "cell_type": "code",
   "execution_count": 116,
   "metadata": {},
   "outputs": [
    {
     "name": "stdout",
     "output_type": "stream",
     "text": [
      "['dog', 'cat', 'dog', 'catdog', 'dogcat', 'catdog', 'dog', 'dog']\n",
      "['cat', 'dog', 'catdog', 'dogcat']\n"
     ]
    }
   ],
   "source": [
    "# Common use cases of a set:\n",
    "    # if you want no duplicates\n",
    "        # either use a set from the start or do set conversion (and back) on a list to remove duplicates\n",
    "    # if you want easy comparison between two different sets of data (set math see below)\n",
    "    # if you want fast membership tests\n",
    "        # more on this when we talk about efficiency\n",
    "        \n",
    "list_has_duplicates = ['dog', 'cat', 'dog', 'catdog', 'dogcat', 'catdog', 'dog', 'dog']\n",
    "print(list_has_duplicates)\n",
    "list_has_duplicates = list(set(list_has_duplicates))\n",
    "print(list_has_duplicates)"
   ]
  },
  {
   "cell_type": "code",
   "execution_count": 118,
   "metadata": {},
   "outputs": [],
   "source": [
    "animals1 = {'river otter', 'panda', 'fennec fox', 'chupacabra', 'yeti', 'blue whale'}\n",
    "animals2 = {'river otter', 'elephant', 'fennec fox', 'jaguar', 'snow leopard'}"
   ]
  },
  {
   "cell_type": "markdown",
   "metadata": {},
   "source": [
    "##### .union() "
   ]
  },
  {
   "cell_type": "code",
   "execution_count": 126,
   "metadata": {},
   "outputs": [
    {
     "data": {
      "text/plain": [
       "{'blue whale',\n",
       " 'chupacabra',\n",
       " 'elephant',\n",
       " 'fennec fox',\n",
       " 'jaguar',\n",
       " 'panda',\n",
       " 'river otter',\n",
       " 'snow leopard',\n",
       " 'yeti'}"
      ]
     },
     "execution_count": 126,
     "metadata": {},
     "output_type": "execute_result"
    }
   ],
   "source": [
    "# Returns a union of two sets, can also use '|' or set.union(set)\n",
    "# joins all numbers, gets rid of duplicates\n",
    "animals1.union(animals2)\n",
    "animals2 | animals1"
   ]
  },
  {
   "cell_type": "markdown",
   "metadata": {},
   "source": [
    "##### .intersection()"
   ]
  },
  {
   "cell_type": "code",
   "execution_count": 128,
   "metadata": {},
   "outputs": [
    {
     "data": {
      "text/plain": [
       "{'fennec fox', 'river otter'}"
      ]
     },
     "execution_count": 128,
     "metadata": {},
     "output_type": "execute_result"
    }
   ],
   "source": [
    "# Returns an intersection of two sets, can also use '&'\n",
    "# only takes similar elements from both sets\n",
    "animals1.intersection(animals2)\n",
    "animals2 & animals1"
   ]
  },
  {
   "cell_type": "markdown",
   "metadata": {},
   "source": [
    "##### .difference()"
   ]
  },
  {
   "cell_type": "code",
   "execution_count": 122,
   "metadata": {},
   "outputs": [
    {
     "name": "stdout",
     "output_type": "stream",
     "text": [
      "{'panda', 'chupacabra', 'blue whale', 'yeti'}\n",
      "{'jaguar', 'elephant', 'snow leopard'}\n"
     ]
    }
   ],
   "source": [
    "# Returns a set containing all the elements of invoking set that are not in the second set, can also use '-'\n",
    "# only takes values from the first set that are not in the second set\n",
    "# order matters\n",
    "\n",
    "print(animals1.difference(animals2)) # all the values in animals1 not present in animals2\n",
    "\n",
    "print(animals2 - animals1) # all values in animals2 not in animals1"
   ]
  },
  {
   "cell_type": "markdown",
   "metadata": {},
   "source": [
    "##### .clear()"
   ]
  },
  {
   "cell_type": "code",
   "execution_count": 131,
   "metadata": {},
   "outputs": [
    {
     "name": "stdout",
     "output_type": "stream",
     "text": [
      "{'chupacabra', 'blue whale', 'river otter', 'panda', 'fennec fox', 'yeti'}\n",
      "set()\n"
     ]
    }
   ],
   "source": [
    "# Empties the whole set\n",
    "# set.clear()\n",
    "print(animals1)\n",
    "animals1.clear()\n",
    "print(animals1)"
   ]
  },
  {
   "cell_type": "code",
   "execution_count": 144,
   "metadata": {},
   "outputs": [],
   "source": [
    "animals1.clear() # clearing an empty set does nothing"
   ]
  },
  {
   "cell_type": "code",
   "execution_count": 147,
   "metadata": {},
   "outputs": [
    {
     "name": "stdout",
     "output_type": "stream",
     "text": [
      "this is a membership test in a list that came back true\n",
      "my computer had to loop through the list to determine that\n",
      "this is a membership test in a set that came back true!\n"
     ]
    }
   ],
   "source": [
    "birds = ['Stork', 'Bald Eagle', 'Golden Eagle', 'Blue Heron', 'Osprey']\n",
    "if 'Osprey' in birds:\n",
    "    print('this is a membership test in a list that came back true')\n",
    "    print('my computer had to loop through the list to determine that')\n",
    "\n",
    "# a set membership test looks the same, but our computer doesn't have to loop/iterate to do the membership test    \n",
    "birds = {'Stork', 'Bald Eagle', 'Golden Eagle', 'Blue Heron', 'Osprey'}\n",
    "if 'Osprey' in birds:\n",
    "    print('this is a membership test in a set that came back true!')"
   ]
  },
  {
   "cell_type": "markdown",
   "metadata": {},
   "source": [
    "##### Frozenset <br>\n",
    "<p>Frozen sets are immutable objects that only support methods and operators that produce a result without affecting the frozen set or sets to which they are applied.</p><br><b>Unique & Immutable</b>"
   ]
  },
  {
   "cell_type": "code",
   "execution_count": 149,
   "metadata": {},
   "outputs": [
    {
     "name": "stdout",
     "output_type": "stream",
     "text": [
      "frozenset({'Arctic Fox', 'Greenland Shark', 'Leopard Seal', 'Toothfish', 'Penguin', 'Polar Bear'}) <class 'frozenset'>\n"
     ]
    },
    {
     "ename": "AttributeError",
     "evalue": "'frozenset' object has no attribute 'add'",
     "output_type": "error",
     "traceback": [
      "\u001b[1;31m---------------------------------------------------------------------------\u001b[0m",
      "\u001b[1;31mAttributeError\u001b[0m                            Traceback (most recent call last)",
      "\u001b[1;32m<ipython-input-149-b2d6c968ee0e>\u001b[0m in \u001b[0;36m<module>\u001b[1;34m\u001b[0m\n\u001b[0;32m      2\u001b[0m \u001b[0mfrozenanimals\u001b[0m \u001b[1;33m=\u001b[0m \u001b[0mfrozenset\u001b[0m\u001b[1;33m(\u001b[0m\u001b[1;33m{\u001b[0m\u001b[1;34m'Arctic Fox'\u001b[0m\u001b[1;33m,\u001b[0m \u001b[1;34m'Polar Bear'\u001b[0m\u001b[1;33m,\u001b[0m \u001b[1;34m'Leopard Seal'\u001b[0m\u001b[1;33m,\u001b[0m \u001b[1;34m'Penguin'\u001b[0m\u001b[1;33m,\u001b[0m \u001b[1;34m'Greenland Shark'\u001b[0m\u001b[1;33m,\u001b[0m \u001b[1;34m'Toothfish'\u001b[0m\u001b[1;33m}\u001b[0m\u001b[1;33m)\u001b[0m\u001b[1;33m\u001b[0m\u001b[1;33m\u001b[0m\u001b[0m\n\u001b[0;32m      3\u001b[0m \u001b[0mprint\u001b[0m\u001b[1;33m(\u001b[0m\u001b[0mfrozenanimals\u001b[0m\u001b[1;33m,\u001b[0m \u001b[0mtype\u001b[0m\u001b[1;33m(\u001b[0m\u001b[0mfrozenanimals\u001b[0m\u001b[1;33m)\u001b[0m\u001b[1;33m)\u001b[0m\u001b[1;33m\u001b[0m\u001b[1;33m\u001b[0m\u001b[0m\n\u001b[1;32m----> 4\u001b[1;33m \u001b[0mfrozenanimals\u001b[0m\u001b[1;33m.\u001b[0m\u001b[0madd\u001b[0m\u001b[1;33m(\u001b[0m\u001b[1;34m'Siberian Tiger'\u001b[0m\u001b[1;33m)\u001b[0m\u001b[1;33m\u001b[0m\u001b[1;33m\u001b[0m\u001b[0m\n\u001b[0m",
      "\u001b[1;31mAttributeError\u001b[0m: 'frozenset' object has no attribute 'add'"
     ]
    }
   ],
   "source": [
    "# frozenset({value, value, value})\n",
    "frozenanimals = frozenset({'Arctic Fox', 'Polar Bear', 'Leopard Seal', 'Penguin', 'Greenland Shark', 'Toothfish'})\n",
    "print(frozenanimals, type(frozenanimals))\n",
    "frozenanimals.add('Siberian Tiger') # immutable - we cant add or remove anything"
   ]
  },
  {
   "cell_type": "markdown",
   "metadata": {},
   "source": [
    "## Modules"
   ]
  },
  {
   "cell_type": "markdown",
   "metadata": {},
   "source": [
    "##### Importing Entire Modules"
   ]
  },
  {
   "cell_type": "code",
   "execution_count": 3,
   "metadata": {},
   "outputs": [
    {
     "data": {
      "text/plain": [
       "7.38905609893065"
      ]
     },
     "execution_count": 3,
     "metadata": {},
     "output_type": "execute_result"
    }
   ],
   "source": [
    "# import or from 'xxx' import *\n",
    "import math\n",
    "\n",
    "# when import an entire module\n",
    "# module.function(parameters)\n",
    "math.exp(2)"
   ]
  },
  {
   "cell_type": "markdown",
   "metadata": {},
   "source": [
    "##### Importing Methods Only"
   ]
  },
  {
   "cell_type": "code",
   "execution_count": 5,
   "metadata": {},
   "outputs": [
    {
     "data": {
      "text/plain": [
       "'dog'"
      ]
     },
     "execution_count": 5,
     "metadata": {},
     "output_type": "execute_result"
    }
   ],
   "source": [
    "# from 'xxx' import 'xxx'\n",
    "# from math import floor\n",
    "from random import choice\n",
    "\n",
    "# when importing specific functions, I don't need the module name when calling them\n",
    "choice(['dog', 'cat', 'fox'])"
   ]
  },
  {
   "cell_type": "markdown",
   "metadata": {},
   "source": [
    "##### Using the 'as' Keyword - aliasing"
   ]
  },
  {
   "cell_type": "code",
   "execution_count": 11,
   "metadata": {},
   "outputs": [],
   "source": [
    "# from 'xxx' import 'xxx' as 'xxx' or import 'xxx' as 'xxx'\n",
    "# from math import floor as f\n",
    "from random import choice as picker\n",
    "picker(['dog', 'cat', 'fox'])\n",
    "\n",
    "# sometimes there are standard aliases\n",
    "# for example\n",
    "    # the pandas library is always aliased as pd\n",
    "    # the numpy library is always aliased as np\n",
    "        # *both of these libraries/modules require an install and are not part of the standard python library\n",
    "import pandas as pd\n",
    "pd?"
   ]
  },
  {
   "cell_type": "code",
   "execution_count": 16,
   "metadata": {},
   "outputs": [
    {
     "name": "stdout",
     "output_type": "stream",
     "text": [
      "Counter({'c': 'sea', 'b': 'bee', 'a': 'ayy'})\n"
     ]
    },
    {
     "ename": "NameError",
     "evalue": "name 'Counter' is not defined",
     "output_type": "error",
     "traceback": [
      "\u001b[1;31m---------------------------------------------------------------------------\u001b[0m",
      "\u001b[1;31mNameError\u001b[0m                                 Traceback (most recent call last)",
      "\u001b[1;32m<ipython-input-16-b030f4ae20ba>\u001b[0m in \u001b[0;36m<module>\u001b[1;34m\u001b[0m\n\u001b[0;32m      6\u001b[0m \u001b[0mprint\u001b[0m\u001b[1;33m(\u001b[0m\u001b[0mtest\u001b[0m\u001b[1;33m(\u001b[0m\u001b[1;33m)\u001b[0m\u001b[1;33m)\u001b[0m\u001b[1;33m\u001b[0m\u001b[1;33m\u001b[0m\u001b[0m\n\u001b[0;32m      7\u001b[0m \u001b[0mod\u001b[0m \u001b[1;33m=\u001b[0m \u001b[1;33m{\u001b[0m\u001b[1;34m'a'\u001b[0m\u001b[1;33m:\u001b[0m \u001b[1;34m'ayy'\u001b[0m\u001b[1;33m,\u001b[0m \u001b[1;34m'b'\u001b[0m\u001b[1;33m:\u001b[0m \u001b[1;34m'bee'\u001b[0m\u001b[1;33m,\u001b[0m \u001b[1;34m'c'\u001b[0m\u001b[1;33m:\u001b[0m \u001b[1;34m'see'\u001b[0m\u001b[1;33m,\u001b[0m \u001b[1;34m'c'\u001b[0m\u001b[1;33m:\u001b[0m \u001b[1;34m'sea'\u001b[0m\u001b[1;33m}\u001b[0m\u001b[1;33m\u001b[0m\u001b[1;33m\u001b[0m\u001b[0m\n\u001b[1;32m----> 8\u001b[1;33m \u001b[0mCounter\u001b[0m\u001b[1;33m(\u001b[0m\u001b[0mod\u001b[0m\u001b[1;33m)\u001b[0m\u001b[1;33m\u001b[0m\u001b[1;33m\u001b[0m\u001b[0m\n\u001b[0m",
      "\u001b[1;31mNameError\u001b[0m: name 'Counter' is not defined"
     ]
    }
   ],
   "source": [
    "# the rules of scope apply to imports\n",
    "def test():\n",
    "    from collections import Counter\n",
    "    td = {'a': 'ayy', 'b': 'bee', 'c': 'see', 'c': 'sea'}\n",
    "    return Counter(td)\n",
    "\n",
    "print(test())\n",
    "od = {'a': 'ayy', 'b': 'bee', 'c': 'see', 'c': 'sea'}\n",
    "Counter(od)"
   ]
  },
  {
   "cell_type": "markdown",
   "metadata": {},
   "source": [
    "### Some useful modules:"
   ]
  },
  {
   "cell_type": "code",
   "execution_count": null,
   "metadata": {},
   "outputs": [],
   "source": [
    "# random - pseudo-random operations\n",
    "# math - math functions\n",
    "# requests - api module\n",
    "# calendar or datetime or time - date/calendar/time related functions\n",
    "# itertools - excellent for certain tricky iteration processes\n",
    "# collections - has some excellent specialized data structures\n",
    "# heapq seems cool... haven't used it and definitely is situationally useful"
   ]
  },
  {
   "cell_type": "markdown",
   "metadata": {},
   "source": [
    "##### Creating a Module"
   ]
  },
  {
   "cell_type": "code",
   "execution_count": 5,
   "metadata": {},
   "outputs": [
    {
     "name": "stdout",
     "output_type": "stream",
     "text": [
      "Hello, World!\n",
      "Hello, Todd!\n"
     ]
    }
   ],
   "source": [
    "# as simple as creating a python file with some classes/functions/etc.\n",
    "# and then importing it in the file we want to use those classes/functions\n",
    "# for whatever reason jupyter notebook seems to dislike import entire custom modules\n",
    "# aka import sammodule in this scenario\n",
    "# so it is usually easier to get jupyter notebook to cooperate doing specific imports\n",
    "from sammodule import hello_world, hello_student\n",
    "hello_world()\n",
    "hello_student('Todd')"
   ]
  },
  {
   "cell_type": "markdown",
   "metadata": {},
   "source": [
    "# Exercises"
   ]
  },
  {
   "cell_type": "markdown",
   "metadata": {},
   "source": [
    "### 1) Build a Shopping Cart <br>\n",
    "<p><b>You can use either lists or dictionaries. The program should have the following capabilities:</b><br><br>\n",
    "1) Takes in input <br>\n",
    "2) Stores user input into a dictionary or list <br>\n",
    "3) The User can add or delete items <br>\n",
    "4) The User can see current shopping list <br>\n",
    "5) The program Loops until user 'quits' <br>\n",
    "6) Upon quiting the program, print out all items in the user's list <br>\n",
    "</p>"
   ]
  },
  {
   "cell_type": "code",
   "execution_count": 150,
   "metadata": {},
   "outputs": [
    {
     "name": "stdout",
     "output_type": "stream",
     "text": [
      "[]\n"
     ]
    }
   ],
   "source": [
    "from IPython.display import clear_output\n",
    "\n",
    "# Ask the user 5 bits of input: Do you want to : Show/Add/Delete/clear or Quit?\n",
    "\n",
    "# If you can make it work for one run through of the process, then you can make it work within a loop\n",
    "\n",
    "# Use your notes and reference material!\n",
    "\n",
    "# Plan ahead!\n",
    "\n",
    "# Go step by step!\n",
    "\n",
    "# Make show work\n",
    "\n",
    "# Then make add work\n",
    "\n",
    "# Then make clear work\n",
    "\n",
    "# Then make delete work\n",
    "\n",
    "# Then make quitting work\n",
    "\n",
    "# Then throw everything in a loop :)"
   ]
  },
  {
   "cell_type": "markdown",
   "metadata": {},
   "source": [
    "### 2) Create a Module in VS Code and Import It into jupyter notebook <br>\n",
    "<p><b>Module should have the following capabilities:</b><br><br>\n",
    "1) Has a function to calculate the square footage of a house <br>\n",
    "    <b>Reminder of Formula: Length X Width == Area<br>\n",
    "        <hr>\n",
    "2) Has a function to calculate the circumference of a circle <br><br>\n",
    "<b>Program in Jupyter Notebook should take in user input and use imported functions to calculate a circle's circumference or a houses square footage</b>\n",
    "</p>"
   ]
  },
  {
   "cell_type": "code",
   "execution_count": null,
   "metadata": {},
   "outputs": [],
   "source": []
  }
 ],
 "metadata": {
  "kernelspec": {
   "display_name": "Python 3",
   "language": "python",
   "name": "python3"
  },
  "language_info": {
   "codemirror_mode": {
    "name": "ipython",
    "version": 3
   },
   "file_extension": ".py",
   "mimetype": "text/x-python",
   "name": "python",
   "nbconvert_exporter": "python",
   "pygments_lexer": "ipython3",
   "version": "3.8.8"
  }
 },
 "nbformat": 4,
 "nbformat_minor": 2
}
