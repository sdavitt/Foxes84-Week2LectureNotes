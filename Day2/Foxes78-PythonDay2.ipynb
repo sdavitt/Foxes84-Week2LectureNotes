{
 "cells": [
  {
   "cell_type": "markdown",
   "metadata": {},
   "source": [
    "# Functions, Scoping, Data Collections 1 & List Comprehensions"
   ]
  },
  {
   "cell_type": "markdown",
   "metadata": {},
   "source": [
    "## Tasks Today:\n",
    "\n",
    "<i>Monday Additions (or, and ... if statements)</i>\n",
    "\n",
    "1) String Manipulation <br>\n",
    " &nbsp;&nbsp;&nbsp;&nbsp; a) strip() <br>\n",
    " &nbsp;&nbsp;&nbsp;&nbsp; b) title() <br>\n",
    "2) Working With Lists <br>\n",
    " &nbsp;&nbsp;&nbsp;&nbsp; a) min() <br>\n",
    " &nbsp;&nbsp;&nbsp;&nbsp; b) max() <br>\n",
    " &nbsp;&nbsp;&nbsp;&nbsp; c) sum() <br>\n",
    " &nbsp;&nbsp;&nbsp;&nbsp; d) sort() <br>\n",
    " &nbsp;&nbsp;&nbsp;&nbsp; e) Copying a List <br>\n",
    " &nbsp;&nbsp;&nbsp;&nbsp; f) 'in' keyword <br>\n",
    " &nbsp;&nbsp;&nbsp;&nbsp; g) 'not in' keyword <br>\n",
    " &nbsp;&nbsp;&nbsp;&nbsp; i) Checking an Empty List <br>\n",
    " &nbsp;&nbsp;&nbsp;&nbsp; j) Removing Instances with a Loop <br>\n",
    "3) List Comprehensions <br>\n",
    "4) Tuples <br>\n",
    " &nbsp;&nbsp;&nbsp;&nbsp; a) sorted() <br>\n",
    "5) Functions <br>\n",
    " &nbsp;&nbsp;&nbsp;&nbsp; a) User-Defined vs. Built-In Functions <br>\n",
    " &nbsp;&nbsp;&nbsp;&nbsp; b) Accepting Parameters <br>\n",
    " &nbsp;&nbsp;&nbsp;&nbsp; c) Default Parameters <br>\n",
    " &nbsp;&nbsp;&nbsp;&nbsp; d) Making an Argument Optional <br>\n",
    " &nbsp;&nbsp;&nbsp;&nbsp; e) Keyword Arguments <br>\n",
    " &nbsp;&nbsp;&nbsp;&nbsp; f) Returning Values <br>\n",
    " &nbsp;&nbsp;&nbsp;&nbsp; g) *args <br>\n",
    " &nbsp;&nbsp;&nbsp;&nbsp; h) Docstring <br>\n",
    " &nbsp;&nbsp;&nbsp;&nbsp; i) Using a User Function in a Loop <br>\n",
    "6) Scope"
   ]
  },
  {
   "cell_type": "markdown",
   "metadata": {},
   "source": [
    "### String Manipulation"
   ]
  },
  {
   "cell_type": "code",
   "execution_count": 2,
   "metadata": {},
   "outputs": [
    {
     "data": {
      "text/plain": [
       "'   Joao Cancelo                  '"
      ]
     },
     "execution_count": 2,
     "metadata": {},
     "output_type": "execute_result"
    }
   ],
   "source": [
    "bizarre_string = '   Joao Cancelo                  '\n",
    "bizarre_string"
   ]
  },
  {
   "cell_type": "markdown",
   "metadata": {},
   "source": [
    "##### .lstrip()"
   ]
  },
  {
   "cell_type": "code",
   "execution_count": 3,
   "metadata": {},
   "outputs": [
    {
     "data": {
      "text/plain": [
       "'Joao Cancelo                  '"
      ]
     },
     "execution_count": 3,
     "metadata": {},
     "output_type": "execute_result"
    }
   ],
   "source": [
    "# string.lstrip()\n",
    "bizarre_string.lstrip()"
   ]
  },
  {
   "cell_type": "markdown",
   "metadata": {},
   "source": [
    "##### .rstrip()"
   ]
  },
  {
   "cell_type": "code",
   "execution_count": 4,
   "metadata": {},
   "outputs": [
    {
     "data": {
      "text/plain": [
       "'   Joao Cancelo'"
      ]
     },
     "execution_count": 4,
     "metadata": {},
     "output_type": "execute_result"
    }
   ],
   "source": [
    "# string.rstrip()\n",
    "bizarre_string.rstrip()"
   ]
  },
  {
   "cell_type": "markdown",
   "metadata": {},
   "source": [
    "##### .strip()"
   ]
  },
  {
   "cell_type": "code",
   "execution_count": 5,
   "metadata": {},
   "outputs": [
    {
     "data": {
      "text/plain": [
       "'Joao Cancelo'"
      ]
     },
     "execution_count": 5,
     "metadata": {},
     "output_type": "execute_result"
    }
   ],
   "source": [
    "# string.strip()\n",
    "bizarre_string.strip()"
   ]
  },
  {
   "cell_type": "code",
   "execution_count": 10,
   "metadata": {},
   "outputs": [
    {
     "data": {
      "text/plain": [
       "'JOAO CANCELO'"
      ]
     },
     "execution_count": 10,
     "metadata": {},
     "output_type": "execute_result"
    }
   ],
   "source": [
    "bizarre_string = bizarre_string.strip().upper()\n",
    "bizarre_string"
   ]
  },
  {
   "cell_type": "markdown",
   "metadata": {},
   "source": [
    "##### .title()"
   ]
  },
  {
   "cell_type": "code",
   "execution_count": 11,
   "metadata": {},
   "outputs": [
    {
     "data": {
      "text/plain": [
       "'Joao Cancelo'"
      ]
     },
     "execution_count": 11,
     "metadata": {},
     "output_type": "execute_result"
    }
   ],
   "source": [
    "# string.title()\n",
    "bizarre_string.title()"
   ]
  },
  {
   "cell_type": "markdown",
   "metadata": {},
   "source": [
    "### String Exercise <br>\n",
    "<p>Strip all white space and capitalize every name in the list given</p>"
   ]
  },
  {
   "cell_type": "code",
   "execution_count": 32,
   "metadata": {},
   "outputs": [
    {
     "name": "stdout",
     "output_type": "stream",
     "text": [
      "['Connor', 'Max', 'Evan', 'Jordan']\n"
     ]
    }
   ],
   "source": [
    "names = ['    coNNor', 'max', ' EVan ', 'JORDAN']\n",
    "# HINT: You will need to use a for loop for iteration\n",
    "\n",
    "# redefine the value at each index of this list\n",
    "    # this means our loop needs to be an index loop\n",
    "for i in range(len(names)):\n",
    "    names[i] = names[i].title().strip()\n",
    "\n",
    "print(names)"
   ]
  },
  {
   "cell_type": "code",
   "execution_count": 21,
   "metadata": {},
   "outputs": [
    {
     "data": {
      "text/plain": [
       "['Connor', 'Max', 'Evan', 'Jordan']"
      ]
     },
     "execution_count": 21,
     "metadata": {},
     "output_type": "execute_result"
    }
   ],
   "source": [
    "# create a new list with the modified values\n",
    "names2=[]\n",
    "for name in names:\n",
    "    names2.append(name.strip().title())\n",
    "    \n",
    "names2\n",
    "\n",
    "# this looks like a great list comprehension candidate"
   ]
  },
  {
   "cell_type": "code",
   "execution_count": 84,
   "metadata": {},
   "outputs": [
    {
     "name": "stdout",
     "output_type": "stream",
     "text": [
      "['Connor', 'Max', 'Evan', 'Jordan']\n"
     ]
    }
   ],
   "source": [
    "names = ['    coNNor', 'max', ' EVan ', 'JORDAN']\n",
    "fixed = [name.strip().title() for name in names]\n",
    "print(fixed)"
   ]
  },
  {
   "cell_type": "code",
   "execution_count": 13,
   "metadata": {},
   "outputs": [
    {
     "data": {
      "text/plain": [
       "'Kyle'"
      ]
     },
     "execution_count": 13,
     "metadata": {},
     "output_type": "execute_result"
    }
   ],
   "source": [
    "from random import choice\n",
    "choice(['Tach', 'Tiger', 'Komal', 'Kyle', 'Cameron', 'Brandt', 'Elif', 'Lamont', 'Patrick', 'Amir'])"
   ]
  },
  {
   "cell_type": "code",
   "execution_count": 8,
   "metadata": {},
   "outputs": [],
   "source": [
    "# We've been working with strings, now we'll be working a lot with lists\n",
    "# How do I convert a string to a list of words? A list of characters?\n",
    "lineup = 'Ederson Laporte Dias Walker Cancelo DeBruyne Rodri Sterling Foden Grealish Silva'"
   ]
  },
  {
   "cell_type": "code",
   "execution_count": 9,
   "metadata": {},
   "outputs": [
    {
     "name": "stdout",
     "output_type": "stream",
     "text": [
      "['Ederson', 'Laporte', 'Dias', 'Walker', 'Cancelo', 'DeBruyne', 'Rodri', 'Sterling', 'Foden', 'Grealish', 'Silva']\n",
      "['Ederson Laporte ', 'ias Walker Cancelo ', 'eBruyne Rodri Sterling Foden Grealish Silva']\n"
     ]
    }
   ],
   "source": [
    "# str.split() method\n",
    "# this will split the string on whitespace - essentially giving us a list of words from the original string\n",
    "# optional parameter of a separator\n",
    "newlist = lineup.split()\n",
    "print(newlist)\n",
    "\n",
    "strangelist = lineup.split('D')\n",
    "print(strangelist)"
   ]
  },
  {
   "cell_type": "code",
   "execution_count": 42,
   "metadata": {},
   "outputs": [
    {
     "name": "stdout",
     "output_type": "stream",
     "text": [
      "['F', 'e', 'n', 'n', 'e', 'c', ' ', 'F', 'o', 'x']\n"
     ]
    }
   ],
   "source": [
    "animal = 'Fennec Fox'\n",
    "# I want a list of the letters here\n",
    "# list()\n",
    "animal = list(animal)\n",
    "print(animal)"
   ]
  },
  {
   "cell_type": "markdown",
   "metadata": {},
   "source": [
    "### Working With Lists"
   ]
  },
  {
   "cell_type": "code",
   "execution_count": 24,
   "metadata": {},
   "outputs": [
    {
     "name": "stdout",
     "output_type": "stream",
     "text": [
      "[0, 3, 6, 9, 12, 15, 18, 21, 24, 27, 30, 33, 36, 39, 42, 45, 48, 51, 54, 57, 60, 63, 66, 69, 72, 75, 78, 81, 84, 87, 90, 93, 96, 99]\n"
     ]
    }
   ],
   "source": [
    "nums = list(range(0, 101, 3))\n",
    "print(nums)\n",
    "letters = ['a', 'b', 'C', 'z', 'X']"
   ]
  },
  {
   "cell_type": "markdown",
   "metadata": {},
   "source": [
    "##### min()"
   ]
  },
  {
   "cell_type": "code",
   "execution_count": 25,
   "metadata": {},
   "outputs": [
    {
     "data": {
      "text/plain": [
       "'C'"
      ]
     },
     "execution_count": 25,
     "metadata": {},
     "output_type": "execute_result"
    }
   ],
   "source": [
    "# min(list)\n",
    "# works exactly as you might expect for integers/numerics\n",
    "# for strings - numbers < uppercase < lowercase (generally alphabetic order)\n",
    "min(nums)\n",
    "min(letters)"
   ]
  },
  {
   "cell_type": "markdown",
   "metadata": {},
   "source": [
    "##### max()"
   ]
  },
  {
   "cell_type": "code",
   "execution_count": 18,
   "metadata": {},
   "outputs": [
    {
     "data": {
      "text/plain": [
       "99"
      ]
     },
     "execution_count": 18,
     "metadata": {},
     "output_type": "execute_result"
    }
   ],
   "source": [
    "# max(list)\n",
    "max(nums)"
   ]
  },
  {
   "cell_type": "markdown",
   "metadata": {},
   "source": [
    "##### sum()"
   ]
  },
  {
   "cell_type": "code",
   "execution_count": 21,
   "metadata": {},
   "outputs": [
    {
     "data": {
      "text/plain": [
       "1683"
      ]
     },
     "execution_count": 21,
     "metadata": {},
     "output_type": "execute_result"
    }
   ],
   "source": [
    "# sum(list)\n",
    "sum(nums)"
   ]
  },
  {
   "cell_type": "markdown",
   "metadata": {},
   "source": [
    "##### sorted()"
   ]
  },
  {
   "cell_type": "code",
   "execution_count": 34,
   "metadata": {},
   "outputs": [
    {
     "name": "stdout",
     "output_type": "stream",
     "text": [
      "['C', 'X', 'a', 'b', 'z']\n",
      "['z', 'b', 'a', 'X', 'C']\n",
      "['C', 'X', 'a', 'b', 'z']\n"
     ]
    }
   ],
   "source": [
    "# sorted(list)\n",
    "# default - alphabetical order where numbers come before uppercase comes before lowercase\n",
    "print(letters)\n",
    "sorted_letters = sorted(letters, reverse=True)\n",
    "print(sorted_letters)\n",
    "print(letters)\n"
   ]
  },
  {
   "cell_type": "markdown",
   "metadata": {},
   "source": [
    "##### .sort() <br>\n",
    "<p>Difference between sort and sorted, is that sorted doesn't change original list it returns a copy, while .sort changes the original list</p>"
   ]
  },
  {
   "cell_type": "code",
   "execution_count": 33,
   "metadata": {},
   "outputs": [
    {
     "name": "stdout",
     "output_type": "stream",
     "text": [
      "['a', 'b', 'z', 'X', 'C']\n",
      "None\n",
      "['C', 'X', 'a', 'b', 'z']\n"
     ]
    }
   ],
   "source": [
    "# list.sort()\n",
    "letters = ['a', 'b', 'z', 'X', 'C']\n",
    "print(letters)\n",
    "sorted_letters = letters.sort()\n",
    "print(sorted_letters)\n",
    "print(letters)\n",
    "\n",
    "# use sorted when you don't want to alter original list, use .sort() when you want to alter original list"
   ]
  },
  {
   "cell_type": "code",
   "execution_count": 38,
   "metadata": {},
   "outputs": [
    {
     "data": {
      "text/plain": [
       "[['Jack Grealish', 10],\n",
       " ['Kevin De Bruyne', 17],\n",
       " ['Bernardo Silva', 21],\n",
       " ['Joao Cancelo', 27],\n",
       " ['Phil Foden', 47]]"
      ]
     },
     "execution_count": 38,
     "metadata": {},
     "output_type": "execute_result"
    }
   ],
   "source": [
    "# change the key parameter to change how you sort - note: don't worry about the lambda function now - more on those later\n",
    "mancity = [['Phil Foden', 47], ['Joao Cancelo', 27], ['Kevin De Bruyne', 17], ['Jack Grealish', 10], ['Bernardo Silva', 21]]\n",
    "mancity.sort(key=lambda x: x[1])\n",
    "mancity"
   ]
  },
  {
   "cell_type": "markdown",
   "metadata": {},
   "source": [
    "##### Copying a List"
   ]
  },
  {
   "cell_type": "code",
   "execution_count": 44,
   "metadata": {},
   "outputs": [
    {
     "name": "stdout",
     "output_type": "stream",
     "text": [
      "[['Phil Foden', 47], ['Joao Cancelo', 27], ['Kevin De Bruyne', 17], ['Jack Grealish', 10], ['Bernardo Silva', 21]]\n",
      "[['Jack Grealish', 10], ['Kevin De Bruyne', 17], ['Bernardo Silva', 21], ['Joao Cancelo', 27], ['Phil Foden', 47]]\n"
     ]
    }
   ],
   "source": [
    "# [:] copies a list, doesn't alter original\n",
    "# technically list slicing the entire list\n",
    "mancity = [['Phil Foden', 47], ['Joao Cancelo', 27], ['Kevin De Bruyne', 17], ['Jack Grealish', 10], ['Bernardo Silva', 21]]\n",
    "copy = mancity[:]\n",
    "copy.sort(key=lambda x:x[1])\n",
    "print(mancity)\n",
    "print(copy)"
   ]
  },
  {
   "cell_type": "markdown",
   "metadata": {},
   "source": [
    "##### 'in' keyword"
   ]
  },
  {
   "cell_type": "code",
   "execution_count": 46,
   "metadata": {},
   "outputs": [
    {
     "name": "stdout",
     "output_type": "stream",
     "text": [
      "['C', 'X', 'a', 'b', 'z']\n",
      "membership tests are useful\n"
     ]
    }
   ],
   "source": [
    "# membership tests\n",
    "print(letters)\n",
    "if 'X' in letters:\n",
    "    print('membership tests are useful')"
   ]
  },
  {
   "cell_type": "markdown",
   "metadata": {},
   "source": [
    "##### 'not in' keyword"
   ]
  },
  {
   "cell_type": "code",
   "execution_count": 47,
   "metadata": {},
   "outputs": [
    {
     "name": "stdout",
     "output_type": "stream",
     "text": [
      "orange is not a letter\n"
     ]
    }
   ],
   "source": [
    "if 'orange' not in letters:\n",
    "    print('orange is not a letter')"
   ]
  },
  {
   "cell_type": "code",
   "execution_count": 53,
   "metadata": {},
   "outputs": [
    {
     "name": "stdout",
     "output_type": "stream",
     "text": [
      "this is essentially a membership test just written out with our own code\n"
     ]
    }
   ],
   "source": [
    "# how can I determine if a player name is in the mancity list of lists?\n",
    "# use a for loop and a conditional\n",
    "for player in mancity:\n",
    "    if player[0] == 'Phil Foden':\n",
    "        print('this is essentially a membership test just written out with our own code')"
   ]
  },
  {
   "cell_type": "code",
   "execution_count": 56,
   "metadata": {},
   "outputs": [
    {
     "name": "stdout",
     "output_type": "stream",
     "text": [
      "Joao Cancelo is a player on your team.\n"
     ]
    }
   ],
   "source": [
    "def playerTest(team, name):\n",
    "    for player in team:\n",
    "        if player[0] == name:\n",
    "            print(f'{name} is a player on your team.')\n",
    "            \n",
    "playerTest([['Ederson Moraes', 1], ['Kyle Walker', 2], ['Raheem Sterling', 12], ['Joao Cancelo']], 'Joao Cancelo')"
   ]
  },
  {
   "cell_type": "markdown",
   "metadata": {},
   "source": [
    "##### Checking an Empty List"
   ]
  },
  {
   "cell_type": "code",
   "execution_count": 64,
   "metadata": {},
   "outputs": [
    {
     "name": "stdout",
     "output_type": "stream",
     "text": [
      "an empty list is inherently false\n",
      "emptylist is empty... who would have guessed\n"
     ]
    }
   ],
   "source": [
    "# if l_1: or if l_1 = []\n",
    "\n",
    "emptylist = []\n",
    "if emptylist == []:\n",
    "    print('an empty list is inherently false')\n",
    "\n",
    "if not emptylist:\n",
    "    print('emptylist is empty... who would have guessed')"
   ]
  },
  {
   "cell_type": "markdown",
   "metadata": {},
   "source": [
    "##### Removing Instances with a Loop"
   ]
  },
  {
   "cell_type": "code",
   "execution_count": 65,
   "metadata": {},
   "outputs": [
    {
     "name": "stdout",
     "output_type": "stream",
     "text": [
      "['Tiger Shark', 'Polar Bear', 'Grizzly Bear', 'Bear Bear', 'Bear Bear', 'Panda Bear', 'Red Panda', 'Bear Bear', 'Bear Bear']\n",
      "['Tiger Shark', 'Polar Bear', 'Grizzly Bear', 'Panda Bear', 'Red Panda']\n"
     ]
    }
   ],
   "source": [
    "# while, remove\n",
    "animals = ['Tiger Shark', 'Polar Bear', 'Grizzly Bear', 'Bear Bear', 'Bear Bear', 'Panda Bear', 'Red Panda', 'Bear Bear', 'Bear Bear']\n",
    "# remove all instances of 'Bear Bear'\n",
    "print(animals)\n",
    "\n",
    "while 'Bear Bear' in animals:\n",
    "    animals.remove('Bear Bear')\n",
    "    \n",
    "print(animals)"
   ]
  },
  {
   "cell_type": "code",
   "execution_count": 67,
   "metadata": {
    "scrolled": true
   },
   "outputs": [
    {
     "name": "stdout",
     "output_type": "stream",
     "text": [
      "['Tiger Shark', 'Polar Bear', 'Grizzly Bear', 'Bear Bear', 'Bear Bear', 'Panda Bear', 'Red Panda', 'Bear Bear', 'Bear Bear']\n",
      "['Tiger Shark', 'Polar Bear', 'Grizzly Bear', 'Panda Bear', 'Red Panda', 'Bear Bear', 'Bear Bear']\n"
     ]
    }
   ],
   "source": [
    "animals = ['Tiger Shark', 'Polar Bear', 'Grizzly Bear', 'Bear Bear', 'Bear Bear', 'Panda Bear', 'Red Panda', 'Bear Bear', 'Bear Bear']\n",
    "# first thought - let's use a for loop and just say for value in list if value is what we want to remove, remove it\n",
    "print(animals)\n",
    "for a in animals:\n",
    "    if a == 'Bear Bear':\n",
    "        animals.remove('Bear Bear')\n",
    "print(animals)\n",
    "# this does not work because of for loop auto-incrementing"
   ]
  },
  {
   "cell_type": "code",
   "execution_count": 68,
   "metadata": {},
   "outputs": [
    {
     "name": "stdout",
     "output_type": "stream",
     "text": [
      "['Tiger Shark', 'Polar Bear', 'Grizzly Bear', 'Bear Bear', 'Bear Bear', 'Panda Bear', 'Red Panda', 'Bear Bear', 'Bear Bear']\n",
      "['Tiger Shark', 'Polar Bear', 'Grizzly Bear', 'Panda Bear', 'Red Panda']\n"
     ]
    }
   ],
   "source": [
    "animals = ['Tiger Shark', 'Polar Bear', 'Grizzly Bear', 'Bear Bear', 'Bear Bear', 'Panda Bear', 'Red Panda', 'Bear Bear', 'Bear Bear']\n",
    "print(animals)\n",
    "\n",
    "i = 0 # pointer variable\n",
    "while i < len(animals):\n",
    "    if animals[i] == 'Bear Bear':\n",
    "        animals.pop(i)\n",
    "    else:\n",
    "        i += 1\n",
    "\n",
    "print(animals)"
   ]
  },
  {
   "cell_type": "markdown",
   "metadata": {},
   "source": [
    "### List Exercise <br>\n",
    "<p>Remove all duplicates<br><b>Extra: Create a program that will remove any duplicates from a given list</b></p>"
   ]
  },
  {
   "cell_type": "code",
   "execution_count": 73,
   "metadata": {},
   "outputs": [
    {
     "name": "stdout",
     "output_type": "stream",
     "text": [
      "['connor', 'bob', 'evan', 'max', 2, 3, 4, 'kevin']\n",
      "['Tiger Shark', 'Polar Bear', 'Grizzly Bear', 'Bear Bear', 'Panda Bear', 'Red Panda']\n"
     ]
    }
   ],
   "source": [
    "names = ['connor', 'connor', 'bob', 'connor', 'evan', 'max', 'evan', 2, 2, 2, 3, 3, 4, 'bob', 'kevin']\n",
    "# Hint 1: You will need an append\n",
    "# Hint 2: Using an empty list will make life easier\n",
    "\n",
    "\n",
    "names_dup = []\n",
    "\n",
    "for x in names:\n",
    "    if x not in names_dup:\n",
    "        names_dup.append(x)\n",
    "print(names_dup)\n",
    "\n",
    "def removeDupes(a_list):\n",
    "    answer = []\n",
    "    for value in a_list:\n",
    "        if value not in answer:\n",
    "            answer.append(value)\n",
    "    return answer\n",
    "\n",
    "animals = ['Tiger Shark', 'Polar Bear', 'Grizzly Bear', 'Bear Bear', 'Bear Bear', 'Panda Bear', 'Red Panda', 'Bear Bear', 'Bear Bear']\n",
    "animals_no_dupes = removeDupes(animals)\n",
    "print(animals_no_dupes)"
   ]
  },
  {
   "cell_type": "code",
   "execution_count": 71,
   "metadata": {},
   "outputs": [
    {
     "data": {
      "text/plain": [
       "[2, 3, 4, 'max', 'bob', 'evan', 'kevin', 'connor']"
      ]
     },
     "execution_count": 71,
     "metadata": {},
     "output_type": "execute_result"
    }
   ],
   "source": [
    "names = list(set(names))\n",
    "names"
   ]
  },
  {
   "cell_type": "markdown",
   "metadata": {},
   "source": [
    "### List Comprehensions <br>\n",
    "<p>Creating a quickly generated list to work with<br>*result*  = [*transform*    *iteration*         *filter*     ]</p>"
   ]
  },
  {
   "cell_type": "markdown",
   "metadata": {},
   "source": [
    "##### In a list comprehension we have a few pieces:\n",
    "1. Then we have a transform for the variable\n",
    "2. The first is the counter/ variable - IN this the variable is x\n",
    "3. The finale part of a list comp is called the condition\n",
    "\n",
    "```python\n",
    "    [transform, variable, condition]\n",
    "```"
   ]
  },
  {
   "cell_type": "code",
   "execution_count": 78,
   "metadata": {},
   "outputs": [
    {
     "name": "stdout",
     "output_type": "stream",
     "text": [
      "[2, 3, 4, 5, 6, 7, 8, 9, 10, 11, 12, 13, 14]\n",
      "[4, 16, 36, 64, 100, 144, 196]\n",
      "[4, 16, 36, 64, 100, 144, 196]\n"
     ]
    }
   ],
   "source": [
    "# number comprehension\n",
    "nums = list(range(2,15))\n",
    "print(nums)\n",
    "# With a regular for loop\n",
    "squares = []\n",
    "for x in nums:\n",
    "    if x**2 % 2 == 0: # if the square is even\n",
    "        squares.append(x**2) # append the square to the new list\n",
    "print(squares)\n",
    "# IN a list comprehension we have a few pieces:\n",
    "# The first is a transform for the variable\n",
    "# Then we have the counter/ variable - IN this the variable is x\n",
    "# The finale part of a list comp is called the condition\n",
    "#[transform, variable/iteration, condition]\n",
    "\n",
    "squares = [x**2 for x in nums if x**2 % 2 == 0]\n",
    "print(squares)\n"
   ]
  },
  {
   "cell_type": "markdown",
   "metadata": {},
   "source": [
    "There are a few benefits to using List comprehensions. The most obvious would be that we now have shorter code to work with instead of using 3+ lines of code in the for loop variant.\n",
    "\n",
    "Another is an added benefit to memory usage. Since the list's memory is allocated first before adding elements to it, we don't have to resize the list once we add elements to it.\n",
    "\n",
    "Lastly, list comprehensions are considered the \"pythonic\" way to write code by the PEP8 standards (Python Style Guide)"
   ]
  },
  {
   "cell_type": "code",
   "execution_count": 82,
   "metadata": {},
   "outputs": [
    {
     "name": "stdout",
     "output_type": "stream",
     "text": [
      "['f', 'e', 'n', 'n', 'e', 'c', ' ', 'f', 'o', 'x']\n"
     ]
    }
   ],
   "source": [
    "# string comprehension\n",
    "animal = 'FENNEC FOX'\n",
    "letters = [l.lower() for l in animal]\n",
    "print(letters)"
   ]
  },
  {
   "cell_type": "code",
   "execution_count": 83,
   "metadata": {},
   "outputs": [
    {
     "data": {
      "text/plain": [
       "['Phil Foden', 'Joao Cancelo', 'Bernardo Silva']"
      ]
     },
     "execution_count": 83,
     "metadata": {},
     "output_type": "execute_result"
    }
   ],
   "source": [
    "mancity = [['Phil Foden', 47], ['Joao Cancelo', 27], ['Kevin De Bruyne', 17], ['Jack Grealish', 10], ['Bernardo Silva', 21]]\n",
    "\n",
    "# I want just player names with numbers above 20\n",
    "names = [x[0] for x in mancity if x[1] > 20]\n",
    "\n",
    "names"
   ]
  },
  {
   "cell_type": "code",
   "execution_count": null,
   "metadata": {},
   "outputs": [],
   "source": []
  },
  {
   "cell_type": "markdown",
   "metadata": {},
   "source": [
    "### Tuples <br>\n",
    "<p><b>Defined as an immutable list</b></p><br>Seperated by commas using parenthesis"
   ]
  },
  {
   "cell_type": "code",
   "execution_count": 97,
   "metadata": {},
   "outputs": [
    {
     "name": "stdout",
     "output_type": "stream",
     "text": [
      "<class 'tuple'>\n",
      "('Bernardo Silva', 'Riyadh Mahrez', 'Raheem Sterling', 'Phil Foden')\n"
     ]
    }
   ],
   "source": [
    "goalscorers = ('Bernardo Silva', 'Riyadh Mahrez', 'Raheem Sterling', 'Phil Foden')\n",
    "print(type(goalscorers))\n",
    "print(goalscorers)"
   ]
  },
  {
   "cell_type": "markdown",
   "metadata": {},
   "source": [
    "##### sorted()"
   ]
  },
  {
   "cell_type": "code",
   "execution_count": 102,
   "metadata": {},
   "outputs": [
    {
     "name": "stdout",
     "output_type": "stream",
     "text": [
      "['Bernardo Silva', 'Phil Foden', 'Raheem Sterling', 'Riyadh Mahrez'] <class 'list'>\n",
      "('Bernardo Silva', 'Phil Foden', 'Raheem Sterling', 'Riyadh Mahrez')\n"
     ]
    }
   ],
   "source": [
    "# .sort() is not a thing for tuples -> we cannot in-place sort a tuple\n",
    "print(sorted(goalscorers), type(sorted(goalscorers)))\n",
    "\n",
    "# if we wanted to appear to directly sort a tuple\n",
    "    # we can redefine the variable as a new tuple created from a list version of the original tuple\n",
    "goalscorers = tuple(sorted(goalscorers))\n",
    "print(goalscorers)"
   ]
  },
  {
   "cell_type": "markdown",
   "metadata": {},
   "source": [
    "##### Adding values to a Tuple"
   ]
  },
  {
   "cell_type": "code",
   "execution_count": 104,
   "metadata": {},
   "outputs": [
    {
     "name": "stdout",
     "output_type": "stream",
     "text": [
      "('Bernardo Silva', 'Phil Foden', 'Raheem Sterling', 'Riyadh Mahrez')\n",
      "('Bernardo Silva', 'Phil Foden', 'Raheem Sterling', 'Riyadh Mahrez', 'Joao Cancelo')\n"
     ]
    }
   ],
   "source": [
    "# we can't directly but we can\n",
    "    # convert the tuple to a list\n",
    "    # append to the list\n",
    "    # convert back to a tuple\n",
    "print(goalscorers)\n",
    "goalscorers = list(goalscorers)\n",
    "goalscorers.append('Joao Cancelo')\n",
    "goalscorers = tuple(goalscorers)\n",
    "print(goalscorers)"
   ]
  },
  {
   "cell_type": "markdown",
   "metadata": {},
   "source": [
    "## Functions"
   ]
  },
  {
   "cell_type": "markdown",
   "metadata": {},
   "source": [
    "##### User-Defined vs. Built-In Functions"
   ]
  },
  {
   "cell_type": "code",
   "execution_count": 1,
   "metadata": {},
   "outputs": [
    {
     "data": {
      "text/plain": [
       "range(0, 5)"
      ]
     },
     "execution_count": 1,
     "metadata": {},
     "output_type": "execute_result"
    }
   ],
   "source": [
    "# a built-in function in its purest form is a function with code already defined by python\n",
    "    # that is not tied to a specific class or a specific module (aka doesn't require an import)\n",
    "range(5)\n",
    "# remember: don't use the names of built-in functions for your own functions or variables\n",
    "    # you will be overwriting the normal behavior"
   ]
  },
  {
   "cell_type": "code",
   "execution_count": 2,
   "metadata": {},
   "outputs": [
    {
     "data": {
      "text/plain": [
       "'a'"
      ]
     },
     "execution_count": 2,
     "metadata": {},
     "output_type": "execute_result"
    }
   ],
   "source": [
    "# other examples of what we sometimes consider built-ins\n",
    "# are class methods of built-in classes\n",
    "    # strings, lists -> those classes have specific functions that only work for them\n",
    "        # example: str.join() str.split() list.sort()\n",
    "            # class methods - functions tied to a class\n",
    "# imported functions from modules\n",
    "from random import choice\n",
    "choice(['a', 'b', 'c'])"
   ]
  },
  {
   "cell_type": "code",
   "execution_count": 6,
   "metadata": {},
   "outputs": [
    {
     "name": "stdout",
     "output_type": "stream",
     "text": [
      "this function runs the code in its code block\n",
      "function call turns into the return value\n"
     ]
    }
   ],
   "source": [
    "# User-Defined function is at the end of the day the exact same as a built-in, just that we write the code for it\n",
    "# We can make a user-defined function standalone\n",
    "# We can make a user-defined function that is a class method tied to a specific class\n",
    "# We can make a module that we can import to a different file\n",
    "# All of those options are just going to be done by defining a function at a certain location in our code\n",
    "# how do we define a function?\n",
    "def func_name():\n",
    "    # process\n",
    "    print('this function runs the code in its code block')\n",
    "    return 'function call turns into the return value'\n",
    "\n",
    "# function call\n",
    "save_return_val = func_name()\n",
    "print(save_return_val)"
   ]
  },
  {
   "cell_type": "code",
   "execution_count": 61,
   "metadata": {},
   "outputs": [
    {
     "name": "stdout",
     "output_type": "stream",
     "text": [
      "5\n"
     ]
    }
   ],
   "source": [
    "# return vs. print\n",
    "# the whole difference is who we are benefitting\n",
    "# print() is only to help you as the developer\n",
    "    # to the computer, print() does absolutely nothing\n",
    "    # just shows us humans what is happening\n",
    "# return is actively moving data\n",
    "    # if we have a value that exists inside of a function\n",
    "    # it technically does not exist outside of that function unless passed there\n",
    "    # with a return\n",
    "    # more on this idea later when we talk about scope\n",
    "def thing():\n",
    "    x = 5 # x is only defined inside this function\n",
    "    return x\n",
    "\n",
    "outside_x = thing() # if i want to use the value of x outside of the function, I must return x from the function\n",
    "print(outside_x)\n",
    "\n",
    "# unless your function is changing some original piece of data (aka an in-place modification)\n",
    "# it probably needs a return statement"
   ]
  },
  {
   "cell_type": "markdown",
   "metadata": {},
   "source": [
    "##### Accepting Parameters"
   ]
  },
  {
   "cell_type": "code",
   "execution_count": 15,
   "metadata": {},
   "outputs": [
    {
     "name": "stdout",
     "output_type": "stream",
     "text": [
      "12\n",
      "catdog\n"
     ]
    },
    {
     "ename": "TypeError",
     "evalue": "unsupported operand type(s) for +: 'int' and 'str'",
     "output_type": "error",
     "traceback": [
      "\u001b[1;31m---------------------------------------------------------------------------\u001b[0m",
      "\u001b[1;31mTypeError\u001b[0m                                 Traceback (most recent call last)",
      "\u001b[1;32m<ipython-input-15-f85bbd60dbe4>\u001b[0m in \u001b[0;36m<module>\u001b[1;34m\u001b[0m\n\u001b[0;32m     23\u001b[0m \u001b[0mprint\u001b[0m\u001b[1;33m(\u001b[0m\u001b[0maddStuff\u001b[0m\u001b[1;33m(\u001b[0m\u001b[0mA\u001b[0m\u001b[1;33m,\u001b[0m \u001b[0mB\u001b[0m\u001b[1;33m)\u001b[0m\u001b[1;33m)\u001b[0m \u001b[1;31m# we can call a function passing variables as the values of parameters\u001b[0m\u001b[1;33m\u001b[0m\u001b[1;33m\u001b[0m\u001b[0m\n\u001b[0;32m     24\u001b[0m \u001b[0mprint\u001b[0m\u001b[1;33m(\u001b[0m\u001b[0maddStuff\u001b[0m\u001b[1;33m(\u001b[0m\u001b[1;34m'cat'\u001b[0m\u001b[1;33m,\u001b[0m \u001b[1;34m'dog'\u001b[0m\u001b[1;33m)\u001b[0m\u001b[1;33m)\u001b[0m \u001b[1;31m# we can call a function passing literals as the values of parameters\u001b[0m\u001b[1;33m\u001b[0m\u001b[1;33m\u001b[0m\u001b[0m\n\u001b[1;32m---> 25\u001b[1;33m \u001b[0mprint\u001b[0m\u001b[1;33m(\u001b[0m\u001b[0maddStuff\u001b[0m\u001b[1;33m(\u001b[0m\u001b[1;36m5\u001b[0m\u001b[1;33m,\u001b[0m \u001b[1;34m'cat'\u001b[0m\u001b[1;33m)\u001b[0m\u001b[1;33m)\u001b[0m\u001b[1;33m\u001b[0m\u001b[1;33m\u001b[0m\u001b[0m\n\u001b[0m",
      "\u001b[1;32m<ipython-input-15-f85bbd60dbe4>\u001b[0m in \u001b[0;36maddStuff\u001b[1;34m(parameter_A, parameter_B)\u001b[0m\n\u001b[0;32m     16\u001b[0m         \u001b[1;31m# 2 lists\u001b[0m\u001b[1;33m\u001b[0m\u001b[1;33m\u001b[0m\u001b[1;33m\u001b[0m\u001b[0m\n\u001b[0;32m     17\u001b[0m \u001b[1;32mdef\u001b[0m \u001b[0maddStuff\u001b[0m\u001b[1;33m(\u001b[0m\u001b[0mparameter_A\u001b[0m\u001b[1;33m,\u001b[0m \u001b[0mparameter_B\u001b[0m\u001b[1;33m)\u001b[0m\u001b[1;33m:\u001b[0m\u001b[1;33m\u001b[0m\u001b[1;33m\u001b[0m\u001b[0m\n\u001b[1;32m---> 18\u001b[1;33m     \u001b[1;32mreturn\u001b[0m \u001b[0mparameter_A\u001b[0m \u001b[1;33m+\u001b[0m \u001b[0mparameter_B\u001b[0m\u001b[1;33m\u001b[0m\u001b[1;33m\u001b[0m\u001b[0m\n\u001b[0m\u001b[0;32m     19\u001b[0m \u001b[1;33m\u001b[0m\u001b[0m\n\u001b[0;32m     20\u001b[0m \u001b[0mA\u001b[0m \u001b[1;33m=\u001b[0m \u001b[1;36m5\u001b[0m\u001b[1;33m\u001b[0m\u001b[1;33m\u001b[0m\u001b[0m\n",
      "\u001b[1;31mTypeError\u001b[0m: unsupported operand type(s) for +: 'int' and 'str'"
     ]
    }
   ],
   "source": [
    "# aka input to a function\n",
    "# also called arguments\n",
    "# if we have data that exists outside of a function\n",
    "# that we intend to use in the function\n",
    "# we must set up a parameter such that the function can accept input/values from outside\n",
    "\n",
    "# when we define parameters\n",
    "    # we are defining them with the intent of that parameter being any value of a certain datatype\n",
    "\n",
    "# set up parameters when we define the function\n",
    "    # in this scenario - parameter_A and parameter_B are intended to be\n",
    "        # 2 integers or floats\n",
    "        # OR\n",
    "        # 2 strings\n",
    "        # OR\n",
    "        # 2 lists\n",
    "def addStuff(parameter_A, parameter_B):\n",
    "    return parameter_A + parameter_B\n",
    "\n",
    "A = 5\n",
    "B = 7\n",
    "\n",
    "print(addStuff(A, B)) # we can call a function passing variables as the values of parameters\n",
    "print(addStuff('cat', 'dog')) # we can call a function passing literals as the values of parameters\n",
    "print(addStuff(5, 'cat'))"
   ]
  },
  {
   "cell_type": "code",
   "execution_count": 19,
   "metadata": {},
   "outputs": [
    {
     "ename": "TypeError",
     "evalue": "vroom() takes 3 positional arguments but 4 were given",
     "output_type": "error",
     "traceback": [
      "\u001b[1;31m---------------------------------------------------------------------------\u001b[0m",
      "\u001b[1;31mTypeError\u001b[0m                                 Traceback (most recent call last)",
      "\u001b[1;32m<ipython-input-19-965c89b76b67>\u001b[0m in \u001b[0;36m<module>\u001b[1;34m\u001b[0m\n\u001b[0;32m     12\u001b[0m \u001b[1;31m# if the function takes in 3 parameters\u001b[0m\u001b[1;33m\u001b[0m\u001b[1;33m\u001b[0m\u001b[1;33m\u001b[0m\u001b[0m\n\u001b[0;32m     13\u001b[0m \u001b[1;31m# we must provide 3 parameters\u001b[0m\u001b[1;33m\u001b[0m\u001b[1;33m\u001b[0m\u001b[1;33m\u001b[0m\u001b[0m\n\u001b[1;32m---> 14\u001b[1;33m \u001b[0mvroom\u001b[0m\u001b[1;33m(\u001b[0m\u001b[1;34m'Charles LeClerc'\u001b[0m\u001b[1;33m,\u001b[0m \u001b[1;34m'Ferrari'\u001b[0m\u001b[1;33m,\u001b[0m \u001b[1;34m'SF1000'\u001b[0m\u001b[1;33m,\u001b[0m \u001b[1;34m'Speed is Fun'\u001b[0m\u001b[1;33m)\u001b[0m\u001b[1;33m\u001b[0m\u001b[1;33m\u001b[0m\u001b[0m\n\u001b[0m",
      "\u001b[1;31mTypeError\u001b[0m: vroom() takes 3 positional arguments but 4 were given"
     ]
    }
   ],
   "source": [
    "# primary set-up of parameters that we use in python is positional arguments\n",
    "# python knows which value in the function call is for which parameter\n",
    "# based on their position\n",
    "\n",
    "def vroom(p_Driver, p_Team, p_Car):\n",
    "    return f'{p_Driver} drives the {p_Car} for {p_Team}.'\n",
    "\n",
    "vroom('Charles LeClerc', 'Ferarri', 'SF1000')\n",
    "\n",
    "# the values placed in the function call must mirror the parameters in the function definition\n",
    "# and when I say must mirror - I mean MUST mirror\n",
    "# if the function takes in 3 parameters\n",
    "# we must provide 3 parameters\n",
    "\n",
    "# too few -> missing required positional arugments error\n",
    "# too many -> takes X positional arguments but Y were given error\n",
    "vroom('Charles LeClerc', 'Ferrari', 'SF1000', 'Speed is Fun')"
   ]
  },
  {
   "cell_type": "code",
   "execution_count": 23,
   "metadata": {},
   "outputs": [
    {
     "name": "stdout",
     "output_type": "stream",
     "text": [
      "[0, 1, 5, 42, 68]\n",
      "[2, 5, 32, 511, 8131, 9238, 3813151]\n",
      "['bear', 'cat', 'dog', 'fox']\n"
     ]
    }
   ],
   "source": [
    "# My problem gives me information about what parameters I need\n",
    "    # Given two ordered lists of any length and a limit\n",
    "    # return an ordered list of the n smallest elements from the lists where n equals the limit.\n",
    "\n",
    "# Inputs: arr1 <list ordered>, arr2 <list ordered>, n <int>\n",
    "# Output: answer <list ordered with length = n>\n",
    "\n",
    "# after determining input and output, lay out \"skeleton code\" for my function\n",
    "def mergeLists(arr1, arr2, n):\n",
    "    answer = arr1+arr2\n",
    "    answer.sort()\n",
    "    answer = answer[:n]\n",
    "    return answer\n",
    "\n",
    "print(mergeLists([0, 1, 5, 7312, 9421], [42, 68, 231], 5))\n",
    "print(mergeLists([5, 32, 511, 9238], [2, 8131, 3813151], 7))\n",
    "print(mergeLists(['cat', 'dog'], ['bear', 'fox', 'zebra'], 4))"
   ]
  },
  {
   "cell_type": "markdown",
   "metadata": {},
   "source": [
    "##### Default Parameters"
   ]
  },
  {
   "cell_type": "code",
   "execution_count": 30,
   "metadata": {},
   "outputs": [
    {
     "name": "stdout",
     "output_type": "stream",
     "text": [
      "This is Sir Henry James of Pailey. They are a black and white English Springer Spaniel with four paws.\n",
      "This is Sir Wesley Charles of Nottingham. They are a black and white English Springer Spaniel with four paws.\n",
      "This is Balto. They are a grey and white Siberian Husky with four paws.\n",
      "This is Rex. They are a yellow Yellow Lab with two paws.\n"
     ]
    }
   ],
   "source": [
    "# so setting a default parameter is essentially\n",
    "    # just doing some variable definition/assignment in the def line of the function definition\n",
    "# a default parameter/argument must come after all non-default parameters\n",
    "def dog(name, breed, color='white', paws='four'):\n",
    "    return f'This is {name}. They are a {color} {breed} with {paws} paws.'\n",
    "\n",
    "print(dog('Sir Henry James of Pailey', 'English Springer Spaniel', 'black and white'))\n",
    "print(dog('Sir Wesley Charles of Nottingham', 'English Springer Spaniel', 'black and white'))\n",
    "print(dog('Balto', 'Siberian Husky', 'grey and white'))\n",
    "print(dog('Rex', 'Yellow Lab', 'yellow', 'two'))"
   ]
  },
  {
   "cell_type": "markdown",
   "metadata": {},
   "source": [
    "##### Making an Argument Optional"
   ]
  },
  {
   "cell_type": "code",
   "execution_count": 32,
   "metadata": {},
   "outputs": [
    {
     "name": "stdout",
     "output_type": "stream",
     "text": [
      "This is Sir Henry James of Pailey. They are a black and white English Springer Spaniel.\n",
      "This is Sir Wesley Charles of Nottingham. They are a black and white English Springer Spaniel.\n",
      "This is Balto. They are a grey and white Siberian Husky.\n",
      "This is Rex. They are a yellow Yellow Lab. They only have two paws :\"(\n"
     ]
    }
   ],
   "source": [
    "# not really any different than a default parameter\n",
    "# we're just setting up the default so that it appears to have no effect\n",
    "# for example with sorted()\n",
    "# the default value of reverse is false\n",
    "# so in the code for the sorted() function there is a conditional that says\n",
    "    # if reverse:\n",
    "        # do some stuff to reverse sorting order\n",
    "\n",
    "# lets say we wanted to take the dog function above and make paws truly optional\n",
    "def dog(name, breed, color='white', paws=None):\n",
    "    if paws:\n",
    "        return f'This is {name}. They are a {color} {breed}. They only have {paws} paws :\"('\n",
    "    return f'This is {name}. They are a {color} {breed}.'\n",
    "\n",
    "print(dog('Sir Henry James of Pailey', 'English Springer Spaniel', 'black and white'))\n",
    "print(dog('Sir Wesley Charles of Nottingham', 'English Springer Spaniel', 'black and white'))\n",
    "print(dog('Balto', 'Siberian Husky', 'grey and white'))\n",
    "\n",
    "print(dog('Rex', 'Yellow Lab', 'yellow', 'two'))"
   ]
  },
  {
   "cell_type": "markdown",
   "metadata": {},
   "source": [
    "##### Keyword Arguments"
   ]
  },
  {
   "cell_type": "code",
   "execution_count": 36,
   "metadata": {},
   "outputs": [
    {
     "name": "stdout",
     "output_type": "stream",
     "text": [
      "This is Rex. They are a white Samoyed. They only have two paws :\"(\n",
      "This is Cloud. They are a white Samoyed. They only have four paws :\"(\n"
     ]
    }
   ],
   "source": [
    "def dog(name, breed, color='white', paws=None):\n",
    "    if paws:\n",
    "        return f'This is {name}. They are a {color} {breed}. They only have {paws} paws :\"('\n",
    "    return f'This is {name}. They are a {color} {breed}.'\n",
    "\n",
    "print(dog('Rex', 'Samoyed', paws='two')) # we're using the default for color but not for paws by using a keyword argument\n",
    "\n",
    "# if we wanted we could use all keyword arguments\n",
    "# keyword arguments don't need to be in a specific position if not using any positional arguments\n",
    "print(dog(paws='four', breed='Samoyed', color='white', name='Cloud'))"
   ]
  },
  {
   "cell_type": "markdown",
   "metadata": {},
   "source": [
    "# Creating a start, stop, step function"
   ]
  },
  {
   "cell_type": "code",
   "execution_count": 57,
   "metadata": {},
   "outputs": [
    {
     "data": {
      "text/plain": [
       "[10, 9, 8, 7, 6, 5]"
      ]
     },
     "execution_count": 57,
     "metadata": {},
     "output_type": "execute_result"
    }
   ],
   "source": [
    "# built-in range() accepts 1-3 arguments\n",
    "# 3 parameters\n",
    "# input: start=0 <int>, stop <int>, step=1 <int>\n",
    "# output: a_list <list of ints>\n",
    "\n",
    "def myRange(start, stop=None, step=1):\n",
    "    # I want to generate a list of numbers\n",
    "    # beginning with the start value\n",
    "    # ending before the stop value\n",
    "    # incrementing by our step value\n",
    "    if not stop:\n",
    "        stop = start\n",
    "        start = 0  \n",
    "    output = []\n",
    "    if step > 0:\n",
    "        while start < stop:\n",
    "            output.append(start)\n",
    "            start += step\n",
    "    elif step < 0:\n",
    "        while start > stop:\n",
    "            output.append(start)\n",
    "            start += step\n",
    "    return output\n",
    "\n",
    "myRange(10, 4, -1)"
   ]
  },
  {
   "cell_type": "markdown",
   "metadata": {},
   "source": [
    "##### Returning Values"
   ]
  },
  {
   "cell_type": "code",
   "execution_count": 66,
   "metadata": {},
   "outputs": [
    {
     "name": "stdout",
     "output_type": "stream",
     "text": [
      "[5, 10] <class 'list'>\n"
     ]
    }
   ],
   "source": [
    "# return passes back a single piece of data\n",
    "    # that piece of data can be a collection\n",
    "        # aka a tuple/list/dictionary/set that contains more than one piece of data\n",
    "        \n",
    "# to some degree we can define a value/collection within our return statement - i.e. creating a list here\n",
    "def thing():\n",
    "    x = 5 # x is only defined inside this function\n",
    "    y = 10\n",
    "    return [x, y]\n",
    "\n",
    "outside_x = thing() # if i want to use the value of x outside of the function, I must return x from the function\n",
    "print(outside_x, type(outside_x))"
   ]
  },
  {
   "cell_type": "code",
   "execution_count": 71,
   "metadata": {},
   "outputs": [
    {
     "name": "stdout",
     "output_type": "stream",
     "text": [
      "842 <class 'int'>\n",
      "720 <class 'int'>\n",
      "-2 <class 'int'>\n"
     ]
    }
   ],
   "source": [
    "# conditional return\n",
    "# I can set up an abbreviated conditional structure to return one of two options in the return statement\n",
    "\n",
    "def returnGreater(x, y):\n",
    "    if x > y:\n",
    "        return x\n",
    "    else:\n",
    "        return y\n",
    "    \n",
    "# return value if condition else other value\n",
    "def returnLarger(x, y):\n",
    "    return x if x>y else y\n",
    "\n",
    "big = returnGreater(7, 842)\n",
    "big2 = returnLarger(8, 720)\n",
    "big3 = returnGreater(-50, -2)\n",
    "# if i want to use the value of x outside of the function, I must return x from the function\n",
    "print(big, type(big))\n",
    "print(big2, type(big2))\n",
    "print(big3, type(big3))"
   ]
  },
  {
   "cell_type": "markdown",
   "metadata": {},
   "source": [
    "##### *args"
   ]
  },
  {
   "cell_type": "code",
   "execution_count": 79,
   "metadata": {},
   "outputs": [
    {
     "data": {
      "text/plain": [
       "67134"
      ]
     },
     "execution_count": 79,
     "metadata": {},
     "output_type": "execute_result"
    }
   ],
   "source": [
    "# i want to create a function to sum any number of integers\n",
    "# this could be a + b, or a + b + c, or a + b + c + d\n",
    "# aka my number of inputs is variable\n",
    "\n",
    "# to use *args - name a parameter *____\n",
    "def intSum(*numbers):\n",
    "    total = 0\n",
    "    for x in numbers:\n",
    "        total += x\n",
    "    return total\n",
    "    \n",
    "# pass however many single arguments you want into the function call\n",
    "# or pass a list\n",
    "intSum(50, 70, 310, 502, 3105, 63097)"
   ]
  },
  {
   "cell_type": "code",
   "execution_count": null,
   "metadata": {},
   "outputs": [],
   "source": [
    "# we can use *args alongside positional and keyword arugments if we want\n",
    "# however a note on that idea - the order must be positional args -> default/keyword args -> *args\n",
    "\n",
    "def some_function(*args, p1, p2, p3=True): # bad\n",
    "    pass\n",
    "\n",
    "def some_good_function(p1, p2, p3=True, *args): # good\n",
    "    pass"
   ]
  },
  {
   "cell_type": "code",
   "execution_count": null,
   "metadata": {},
   "outputs": [],
   "source": [
    "# **kwargs\n",
    "# used similar to *args when you want to provide a variable/arbitrary number of keyword arguments\n",
    "# usually done in the form of a dictionary\n",
    "# more on **kwargs tomorrow"
   ]
  },
  {
   "cell_type": "markdown",
   "metadata": {},
   "source": [
    "##### Docstring"
   ]
  },
  {
   "cell_type": "code",
   "execution_count": 86,
   "metadata": {},
   "outputs": [
    {
     "name": "stdout",
     "output_type": "stream",
     "text": [
      "Help on function returnGreater in module __main__:\n",
      "\n",
      "returnGreater(x, y)\n",
      "    Accepts two integers x and y. Returns the larger of the two integers.\n",
      "\n",
      "Help on built-in function sorted in module builtins:\n",
      "\n",
      "sorted(iterable, /, *, key=None, reverse=False)\n",
      "    Return a new list containing all items from the iterable in ascending order.\n",
      "    \n",
      "    A custom key function can be supplied to customize the sort order, and the\n",
      "    reverse flag can be set to request the result in descending order.\n",
      "\n"
     ]
    }
   ],
   "source": [
    "# a way to include a description/built-in documentation on a UDF (user-defined function)\n",
    "# the docstring will be accessible if help() or ? is used on the function\n",
    "def returnGreater(x, y):\n",
    "    \"\"\"\n",
    "    Accepts two integers x and y. Returns the larger of the two integers.\n",
    "    \"\"\"\n",
    "    if x > y:\n",
    "        return x\n",
    "    else:\n",
    "        return y\n",
    "    \n",
    "help(returnGreater)\n",
    "help(sorted)"
   ]
  },
  {
   "cell_type": "markdown",
   "metadata": {},
   "source": [
    "##### Using a User Function in a Loop"
   ]
  },
  {
   "cell_type": "code",
   "execution_count": 72,
   "metadata": {},
   "outputs": [
    {
     "name": "stdout",
     "output_type": "stream",
     "text": [
      "Hello, Patrick!\n",
      "Hello, Lamont!\n",
      "Hello, Amir!\n",
      "Hello, Brandt!\n",
      "Hello, Elif!\n",
      "Hello, Kyle!\n",
      "Hello, Tiger!\n",
      "Hello, Tach!\n",
      "Hello, Cameron!\n",
      "Hello, Komal!\n"
     ]
    }
   ],
   "source": [
    "def hello(name):\n",
    "    return f'Hello, {name.title()}!'\n",
    "\n",
    "students = ['Patrick', 'Lamont', 'Amir', 'Brandt', 'Elif', 'Kyle', 'Tiger', 'Tach', 'Cameron', 'Komal']\n",
    "# the input for hello() is intended to be a string\n",
    "# students is a list of strings\n",
    "# I can loop through students\n",
    "# and call hello on each string in students\n",
    "for s in students:\n",
    "    print(hello(s))"
   ]
  },
  {
   "cell_type": "code",
   "execution_count": 73,
   "metadata": {},
   "outputs": [
    {
     "name": "stdout",
     "output_type": "stream",
     "text": [
      "[0, 1, 2, 3, 4, 5, 6, 7, 8, 9, 10, 11, 12, 13, 14, 15, 16, 17, 18, 19, 20, 21, 22, 23, 24, 25, 26, 27, 28, 29, 30, 31, 32, 33, 34, 35, 36, 37, 38, 39, 40, 41, 42, 43, 44, 45, 46, 47, 48, 49, 50, 51, 52, 53, 54, 55, 56, 57, 58, 59, 60, 61, 62, 63, 64, 65, 66, 67, 68, 69, 70, 71]\n",
      "[0, 1, 2, 3, 4, 5, 6, 7, 8, 9, 10, 11]\n",
      "[0, 1, 2, 3, 4, 5, 6, 7, 8, 9, 10, 11, 12, 13, 14, 15, 16, 17, 18, 19, 20, 21, 22, 23, 24, 25, 26, 27, 28, 29, 30, 31, 32, 33, 34, 35, 36, 37, 38, 39, 40, 41, 42, 43, 44]\n",
      "[0, 1]\n",
      "[0, 1, 2, 3, 4, 5, 6, 7, 8, 9, 10, 11, 12, 13, 14, 15, 16, 17, 18, 19, 20, 21, 22, 23, 24, 25, 26, 27, 28, 29, 30, 31, 32, 33, 34, 35, 36, 37, 38, 39, 40, 41, 42, 43, 44, 45, 46, 47, 48, 49, 50, 51, 52, 53, 54, 55, 56, 57, 58, 59, 60, 61, 62, 63, 64, 65, 66, 67, 68, 69, 70, 71, 72, 73, 74, 75, 76, 77, 78, 79, 80, 81, 82, 83, 84, 85, 86, 87, 88, 89, 90, 91, 92, 93, 94, 95, 96, 97, 98, 99, 100, 101, 102, 103, 104, 105, 106, 107, 108, 109, 110, 111, 112, 113, 114, 115, 116, 117, 118, 119, 120, 121, 122, 123, 124, 125, 126, 127, 128, 129, 130, 131, 132, 133, 134, 135, 136, 137, 138, 139, 140, 141, 142, 143, 144, 145, 146, 147, 148, 149, 150, 151, 152, 153, 154, 155, 156, 157, 158, 159, 160, 161, 162, 163, 164, 165, 166, 167, 168, 169, 170, 171, 172, 173, 174, 175, 176, 177, 178, 179, 180, 181, 182, 183, 184, 185, 186, 187, 188, 189, 190, 191, 192, 193, 194, 195, 196, 197, 198, 199, 200, 201, 202, 203, 204, 205, 206, 207, 208, 209, 210, 211, 212, 213, 214, 215, 216, 217, 218, 219, 220, 221, 222, 223, 224, 225, 226, 227, 228, 229, 230, 231, 232, 233, 234, 235, 236, 237, 238, 239, 240, 241, 242, 243, 244, 245, 246, 247, 248, 249, 250, 251, 252, 253, 254, 255, 256, 257, 258, 259, 260, 261, 262, 263, 264, 265, 266, 267, 268, 269, 270, 271, 272, 273, 274, 275, 276, 277, 278, 279, 280, 281, 282, 283, 284, 285, 286, 287, 288, 289, 290, 291, 292, 293, 294, 295, 296, 297, 298, 299, 300]\n",
      "[0, 1, 2, 3, 4, 5, 6, 7, 8, 9, 10, 11, 12, 13, 14, 15, 16, 17, 18, 19, 20, 21, 22, 23, 24, 25, 26, 27, 28, 29, 30, 31, 32, 33, 34, 35, 36, 37, 38, 39, 40, 41, 42, 43, 44, 45, 46, 47, 48, 49]\n"
     ]
    }
   ],
   "source": [
    "\n",
    "stop_values = [72, 12, 45, 2, 301, 50]\n",
    "\n",
    "for val in stop_values:\n",
    "    print(myRange(val))"
   ]
  },
  {
   "cell_type": "markdown",
   "metadata": {},
   "source": [
    "## Function Exercise <br>\n",
    "<p>Write a function that loops through a list of first_names and a list of last_names, combines the two and return a list of full_names</p>"
   ]
  },
  {
   "cell_type": "code",
   "execution_count": 101,
   "metadata": {},
   "outputs": [
    {
     "name": "stdout",
     "output_type": "stream",
     "text": [
      "['John Smith', 'Evan Smith', 'Jordan Williams', 'Max Bell']\n",
      "['Phil Foden', 'Kyle Walker', 'Ederson Moraes', 'Bernardo Silva', 'Kevin De Bruyne']\n"
     ]
    }
   ],
   "source": [
    "first_name = ['John', 'Evan', 'Jordan', 'Max']\n",
    "last_name = ['Smith', 'Smith', 'Williams', 'Bell']\n",
    "\n",
    "# Input: fnames <list of strings>, lnames <list of strings>\n",
    "# Output: ['John Smith', 'Evan Smith', 'Jordan Williams', 'Max Bell'] - new list of strings\n",
    "\n",
    "def full_names(fnames, lnames):\n",
    "    names = []\n",
    "    for i in range(len(fnames)):\n",
    "        names.append(fnames[i] + ' ' + lnames[i])\n",
    "    return names\n",
    "\n",
    "# I can access the related names by using their same index number in their different lists\n",
    "#print(first_name[3])\n",
    "#print(last_name[3])\n",
    "\n",
    "# I need to take two strings and turn them into a single string separated by a space\n",
    "# string concatenation\n",
    "#print('a' + ' ' + 'b')\n",
    "\n",
    "# add a string to a list\n",
    "# list.append(string)\n",
    "\n",
    "exercise_answer = full_names(first_name, last_name)\n",
    "print(exercise_answer)\n",
    "other_names = full_names(['Phil', 'Kyle', 'Ederson', 'Bernardo', 'Kevin'], ['Foden', 'Walker', 'Moraes', 'Silva', 'De Bruyne'])\n",
    "print(other_names)"
   ]
  },
  {
   "cell_type": "markdown",
   "metadata": {},
   "source": [
    "## Scope <br>\n",
    "<p>Scope refers to the ability to access variables, different types of scope include:<br>a) Global<br>b) Function (local)<br>c) Class (local)</p>"
   ]
  },
  {
   "cell_type": "code",
   "execution_count": 102,
   "metadata": {},
   "outputs": [
    {
     "name": "stdout",
     "output_type": "stream",
     "text": [
      "7\n",
      "5\n"
     ]
    }
   ],
   "source": [
    "# a global scope variable is defined at the global level aka outside of any class or function\n",
    "# it is therefore accessible \"globally\" aka anywhere in our code\n",
    "x = 5\n",
    "\n",
    "def thing():\n",
    "    y = x+2\n",
    "    print(y)\n",
    "    print(x)\n",
    "\n",
    "thing()"
   ]
  },
  {
   "cell_type": "code",
   "execution_count": 105,
   "metadata": {},
   "outputs": [
    {
     "name": "stdout",
     "output_type": "stream",
     "text": [
      "7\n",
      "5\n"
     ]
    },
    {
     "ename": "NameError",
     "evalue": "name 'a' is not defined",
     "output_type": "error",
     "traceback": [
      "\u001b[1;31m---------------------------------------------------------------------------\u001b[0m",
      "\u001b[1;31mNameError\u001b[0m                                 Traceback (most recent call last)",
      "\u001b[1;32m<ipython-input-105-af596e1e44bb>\u001b[0m in \u001b[0;36m<module>\u001b[1;34m\u001b[0m\n\u001b[0;32m     11\u001b[0m \u001b[1;33m\u001b[0m\u001b[0m\n\u001b[0;32m     12\u001b[0m \u001b[0mthing2\u001b[0m\u001b[1;33m(\u001b[0m\u001b[1;33m)\u001b[0m\u001b[1;33m\u001b[0m\u001b[1;33m\u001b[0m\u001b[0m\n\u001b[1;32m---> 13\u001b[1;33m \u001b[0mprint\u001b[0m\u001b[1;33m(\u001b[0m\u001b[0ma\u001b[0m\u001b[1;33m)\u001b[0m\u001b[1;33m\u001b[0m\u001b[1;33m\u001b[0m\u001b[0m\n\u001b[0m",
      "\u001b[1;31mNameError\u001b[0m: name 'a' is not defined"
     ]
    }
   ],
   "source": [
    "# local scope to a function is when a variable (or another function) is defined within a function\n",
    "# unless returned, a locally scoped variable can only be accessed inside of its scope\n",
    "    # aka inside of the function or class it was defined\n",
    "\n",
    "def thing2():\n",
    "    a = 5\n",
    "    b = a+2\n",
    "    print(b)\n",
    "    print(a)\n",
    "    \n",
    "thing2()\n",
    "print(a)"
   ]
  },
  {
   "cell_type": "code",
   "execution_count": 108,
   "metadata": {},
   "outputs": [
    {
     "name": "stdout",
     "output_type": "stream",
     "text": [
      "Fennec Fox\n"
     ]
    },
    {
     "ename": "NameError",
     "evalue": "name 'bear' is not defined",
     "output_type": "error",
     "traceback": [
      "\u001b[1;31m---------------------------------------------------------------------------\u001b[0m",
      "\u001b[1;31mNameError\u001b[0m                                 Traceback (most recent call last)",
      "\u001b[1;32m<ipython-input-108-bdc67b4ed878>\u001b[0m in \u001b[0;36m<module>\u001b[1;34m\u001b[0m\n\u001b[0;32m      9\u001b[0m     \u001b[0mprint\u001b[0m\u001b[1;33m(\u001b[0m\u001b[0mbear\u001b[0m\u001b[1;33m)\u001b[0m\u001b[1;33m\u001b[0m\u001b[1;33m\u001b[0m\u001b[0m\n\u001b[0;32m     10\u001b[0m \u001b[1;33m\u001b[0m\u001b[0m\n\u001b[1;32m---> 11\u001b[1;33m \u001b[0mouterfunc\u001b[0m\u001b[1;33m(\u001b[0m\u001b[1;33m)\u001b[0m\u001b[1;33m\u001b[0m\u001b[1;33m\u001b[0m\u001b[0m\n\u001b[0m\u001b[0;32m     12\u001b[0m \u001b[1;31m# fox is accessible from inside of innerfunc because fox is defined \"more globally\"/at the same level of encapsulation\u001b[0m\u001b[1;33m\u001b[0m\u001b[1;33m\u001b[0m\u001b[1;33m\u001b[0m\u001b[0m\n\u001b[0;32m     13\u001b[0m     \u001b[1;31m# as innerfunc\u001b[0m\u001b[1;33m\u001b[0m\u001b[1;33m\u001b[0m\u001b[1;33m\u001b[0m\u001b[0m\n",
      "\u001b[1;32m<ipython-input-108-bdc67b4ed878>\u001b[0m in \u001b[0;36mouterfunc\u001b[1;34m()\u001b[0m\n\u001b[0;32m      7\u001b[0m         \u001b[0mprint\u001b[0m\u001b[1;33m(\u001b[0m\u001b[0mfox\u001b[0m\u001b[1;33m)\u001b[0m\u001b[1;33m\u001b[0m\u001b[1;33m\u001b[0m\u001b[0m\n\u001b[0;32m      8\u001b[0m     \u001b[0minnerfunc\u001b[0m\u001b[1;33m(\u001b[0m\u001b[1;33m)\u001b[0m\u001b[1;33m\u001b[0m\u001b[1;33m\u001b[0m\u001b[0m\n\u001b[1;32m----> 9\u001b[1;33m     \u001b[0mprint\u001b[0m\u001b[1;33m(\u001b[0m\u001b[0mbear\u001b[0m\u001b[1;33m)\u001b[0m\u001b[1;33m\u001b[0m\u001b[1;33m\u001b[0m\u001b[0m\n\u001b[0m\u001b[0;32m     10\u001b[0m \u001b[1;33m\u001b[0m\u001b[0m\n\u001b[0;32m     11\u001b[0m \u001b[0mouterfunc\u001b[0m\u001b[1;33m(\u001b[0m\u001b[1;33m)\u001b[0m\u001b[1;33m\u001b[0m\u001b[1;33m\u001b[0m\u001b[0m\n",
      "\u001b[1;31mNameError\u001b[0m: name 'bear' is not defined"
     ]
    }
   ],
   "source": [
    "# *extra bonus material - closures - a closure is a function in python defined within another function\n",
    "\n",
    "def outerfunc():\n",
    "    fox = 'Fennec Fox'\n",
    "    def innerfunc():\n",
    "        bear = 'Panda'\n",
    "        print(fox)\n",
    "    innerfunc()\n",
    "    print(bear)\n",
    "\n",
    "outerfunc()\n",
    "# fox is accessible from inside of innerfunc because fox is defined \"more globally\"/at the same level of encapsulation\n",
    "    # as innerfunc\n",
    "\n",
    "# bear is not accessible from outerfunc\n",
    "# bear has local scope to innerfunc"
   ]
  },
  {
   "cell_type": "markdown",
   "metadata": {},
   "source": [
    "# Exercises"
   ]
  },
  {
   "cell_type": "markdown",
   "metadata": {},
   "source": [
    "## Exercise 1 <br>\n",
    "<p>Given a list as a parameter,write a function that returns a list of numbers that are less than ten</b></i></p><br>\n",
    "<p> For example: Say your input parameter to the function is [1,11,14,5,8,9]...Your output should [1,5,8,9]</p>"
   ]
  },
  {
   "cell_type": "code",
   "execution_count": null,
   "metadata": {},
   "outputs": [],
   "source": [
    "# Use the following list - [1,11,14,5,8,9]\n",
    "\n",
    "l_1 = [1,11,14,5,8,9]\n"
   ]
  },
  {
   "cell_type": "markdown",
   "metadata": {},
   "source": [
    "## Exercise 2 <br>\n",
    "<p>Write a function that takes in two lists and returns the two lists merged together and sorted<br>\n",
    "<b><i>Hint: You can use the .sort() method</i></b></p>"
   ]
  },
  {
   "cell_type": "code",
   "execution_count": 110,
   "metadata": {},
   "outputs": [],
   "source": [
    "l_1 = [1,2,3,4,5,6]\n",
    "l_2 = [3,4,5,6,7,8,10]\n",
    "\n",
    "# should work for any two lists of consistent datatype\n",
    "\n",
    "# if you want an extra challenge that will involve the creation of your own approach to sorting\n",
    "# go for it and make this work for any two lists even if they have mixed datatypes"
   ]
  }
 ],
 "metadata": {
  "kernelspec": {
   "display_name": "Python 3",
   "language": "python",
   "name": "python3"
  },
  "language_info": {
   "codemirror_mode": {
    "name": "ipython",
    "version": 3
   },
   "file_extension": ".py",
   "mimetype": "text/x-python",
   "name": "python",
   "nbconvert_exporter": "python",
   "pygments_lexer": "ipython3",
   "version": "3.8.8"
  }
 },
 "nbformat": 4,
 "nbformat_minor": 2
}
