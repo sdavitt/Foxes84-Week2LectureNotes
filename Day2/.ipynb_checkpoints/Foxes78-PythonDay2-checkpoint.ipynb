{
 "cells": [
  {
   "cell_type": "markdown",
   "metadata": {},
   "source": [
    "# Functions, Scoping, Data Collections 1 & List Comprehensions"
   ]
  },
  {
   "cell_type": "markdown",
   "metadata": {},
   "source": [
    "## Tasks Today:\n",
    "\n",
    "<i>Monday Additions (or, and ... if statements)</i>\n",
    "\n",
    "1) String Manipulation <br>\n",
    " &nbsp;&nbsp;&nbsp;&nbsp; a) strip() <br>\n",
    " &nbsp;&nbsp;&nbsp;&nbsp; b) title() <br>\n",
    "2) Working With Lists <br>\n",
    " &nbsp;&nbsp;&nbsp;&nbsp; a) min() <br>\n",
    " &nbsp;&nbsp;&nbsp;&nbsp; b) max() <br>\n",
    " &nbsp;&nbsp;&nbsp;&nbsp; c) sum() <br>\n",
    " &nbsp;&nbsp;&nbsp;&nbsp; d) sort() <br>\n",
    " &nbsp;&nbsp;&nbsp;&nbsp; e) Copying a List <br>\n",
    " &nbsp;&nbsp;&nbsp;&nbsp; f) 'in' keyword <br>\n",
    " &nbsp;&nbsp;&nbsp;&nbsp; g) 'not in' keyword <br>\n",
    " &nbsp;&nbsp;&nbsp;&nbsp; i) Checking an Empty List <br>\n",
    " &nbsp;&nbsp;&nbsp;&nbsp; j) Removing Instances with a Loop <br>\n",
    "3) List Comprehensions <br>\n",
    "4) Tuples <br>\n",
    " &nbsp;&nbsp;&nbsp;&nbsp; a) sorted() <br>\n",
    "5) Functions <br>\n",
    " &nbsp;&nbsp;&nbsp;&nbsp; a) User-Defined vs. Built-In Functions <br>\n",
    " &nbsp;&nbsp;&nbsp;&nbsp; b) Accepting Parameters <br>\n",
    " &nbsp;&nbsp;&nbsp;&nbsp; c) Default Parameters <br>\n",
    " &nbsp;&nbsp;&nbsp;&nbsp; d) Making an Argument Optional <br>\n",
    " &nbsp;&nbsp;&nbsp;&nbsp; e) Keyword Arguments <br>\n",
    " &nbsp;&nbsp;&nbsp;&nbsp; f) Returning Values <br>\n",
    " &nbsp;&nbsp;&nbsp;&nbsp; g) *args <br>\n",
    " &nbsp;&nbsp;&nbsp;&nbsp; h) Docstring <br>\n",
    " &nbsp;&nbsp;&nbsp;&nbsp; i) Using a User Function in a Loop <br>\n",
    "6) Scope"
   ]
  },
  {
   "cell_type": "markdown",
   "metadata": {},
   "source": [
    "### String Manipulation"
   ]
  },
  {
   "cell_type": "code",
   "execution_count": 2,
   "metadata": {},
   "outputs": [
    {
     "data": {
      "text/plain": [
       "'   Joao Cancelo                  '"
      ]
     },
     "execution_count": 2,
     "metadata": {},
     "output_type": "execute_result"
    }
   ],
   "source": [
    "bizarre_string = '   Joao Cancelo                  '\n",
    "bizarre_string"
   ]
  },
  {
   "cell_type": "markdown",
   "metadata": {},
   "source": [
    "##### .lstrip()"
   ]
  },
  {
   "cell_type": "code",
   "execution_count": 3,
   "metadata": {},
   "outputs": [
    {
     "data": {
      "text/plain": [
       "'Joao Cancelo                  '"
      ]
     },
     "execution_count": 3,
     "metadata": {},
     "output_type": "execute_result"
    }
   ],
   "source": [
    "# string.lstrip()\n",
    "bizarre_string.lstrip()"
   ]
  },
  {
   "cell_type": "markdown",
   "metadata": {},
   "source": [
    "##### .rstrip()"
   ]
  },
  {
   "cell_type": "code",
   "execution_count": 4,
   "metadata": {},
   "outputs": [
    {
     "data": {
      "text/plain": [
       "'   Joao Cancelo'"
      ]
     },
     "execution_count": 4,
     "metadata": {},
     "output_type": "execute_result"
    }
   ],
   "source": [
    "# string.rstrip()\n",
    "bizarre_string.rstrip()"
   ]
  },
  {
   "cell_type": "markdown",
   "metadata": {},
   "source": [
    "##### .strip()"
   ]
  },
  {
   "cell_type": "code",
   "execution_count": 5,
   "metadata": {},
   "outputs": [
    {
     "data": {
      "text/plain": [
       "'Joao Cancelo'"
      ]
     },
     "execution_count": 5,
     "metadata": {},
     "output_type": "execute_result"
    }
   ],
   "source": [
    "# string.strip()\n",
    "bizarre_string.strip()"
   ]
  },
  {
   "cell_type": "code",
   "execution_count": 10,
   "metadata": {},
   "outputs": [
    {
     "data": {
      "text/plain": [
       "'JOAO CANCELO'"
      ]
     },
     "execution_count": 10,
     "metadata": {},
     "output_type": "execute_result"
    }
   ],
   "source": [
    "bizarre_string = bizarre_string.strip().upper()\n",
    "bizarre_string"
   ]
  },
  {
   "cell_type": "markdown",
   "metadata": {},
   "source": [
    "##### .title()"
   ]
  },
  {
   "cell_type": "code",
   "execution_count": 11,
   "metadata": {},
   "outputs": [
    {
     "data": {
      "text/plain": [
       "'Joao Cancelo'"
      ]
     },
     "execution_count": 11,
     "metadata": {},
     "output_type": "execute_result"
    }
   ],
   "source": [
    "# string.title()\n",
    "bizarre_string.title()"
   ]
  },
  {
   "cell_type": "markdown",
   "metadata": {},
   "source": [
    "### String Exercise <br>\n",
    "<p>Strip all white space and capitalize every name in the list given</p>"
   ]
  },
  {
   "cell_type": "code",
   "execution_count": 32,
   "metadata": {},
   "outputs": [
    {
     "name": "stdout",
     "output_type": "stream",
     "text": [
      "['Connor', 'Max', 'Evan', 'Jordan']\n"
     ]
    }
   ],
   "source": [
    "names = ['    coNNor', 'max', ' EVan ', 'JORDAN']\n",
    "# HINT: You will need to use a for loop for iteration\n",
    "\n",
    "# redefine the value at each index of this list\n",
    "    # this means our loop needs to be an index loop\n",
    "for i in range(len(names)):\n",
    "    names[i] = names[i].title().strip()\n",
    "\n",
    "print(names)"
   ]
  },
  {
   "cell_type": "code",
   "execution_count": 21,
   "metadata": {},
   "outputs": [
    {
     "data": {
      "text/plain": [
       "['Connor', 'Max', 'Evan', 'Jordan']"
      ]
     },
     "execution_count": 21,
     "metadata": {},
     "output_type": "execute_result"
    }
   ],
   "source": [
    "# create a new list with the modified values\n",
    "names2=[]\n",
    "for name in names:\n",
    "    names2.append(name.strip().title())\n",
    "    \n",
    "names2\n",
    "\n",
    "# this looks like a great list comprehension candidate"
   ]
  },
  {
   "cell_type": "code",
   "execution_count": 84,
   "metadata": {},
   "outputs": [
    {
     "name": "stdout",
     "output_type": "stream",
     "text": [
      "['Connor', 'Max', 'Evan', 'Jordan']\n"
     ]
    }
   ],
   "source": [
    "names = ['    coNNor', 'max', ' EVan ', 'JORDAN']\n",
    "fixed = [name.strip().title() for name in names]\n",
    "print(fixed)"
   ]
  },
  {
   "cell_type": "code",
   "execution_count": 13,
   "metadata": {},
   "outputs": [
    {
     "data": {
      "text/plain": [
       "'Kyle'"
      ]
     },
     "execution_count": 13,
     "metadata": {},
     "output_type": "execute_result"
    }
   ],
   "source": [
    "from random import choice\n",
    "choice(['Tach', 'Tiger', 'Komal', 'Kyle', 'Cameron', 'Brandt', 'Elif', 'Lamont', 'Patrick', 'Amir'])"
   ]
  },
  {
   "cell_type": "code",
   "execution_count": 8,
   "metadata": {},
   "outputs": [],
   "source": [
    "# We've been working with strings, now we'll be working a lot with lists\n",
    "# How do I convert a string to a list of words? A list of characters?\n",
    "lineup = 'Ederson Laporte Dias Walker Cancelo DeBruyne Rodri Sterling Foden Grealish Silva'"
   ]
  },
  {
   "cell_type": "code",
   "execution_count": 9,
   "metadata": {},
   "outputs": [
    {
     "name": "stdout",
     "output_type": "stream",
     "text": [
      "['Ederson', 'Laporte', 'Dias', 'Walker', 'Cancelo', 'DeBruyne', 'Rodri', 'Sterling', 'Foden', 'Grealish', 'Silva']\n",
      "['Ederson Laporte ', 'ias Walker Cancelo ', 'eBruyne Rodri Sterling Foden Grealish Silva']\n"
     ]
    }
   ],
   "source": [
    "# str.split() method\n",
    "# this will split the string on whitespace - essentially giving us a list of words from the original string\n",
    "# optional parameter of a separator\n",
    "newlist = lineup.split()\n",
    "print(newlist)\n",
    "\n",
    "strangelist = lineup.split('D')\n",
    "print(strangelist)"
   ]
  },
  {
   "cell_type": "code",
   "execution_count": 42,
   "metadata": {},
   "outputs": [
    {
     "name": "stdout",
     "output_type": "stream",
     "text": [
      "['F', 'e', 'n', 'n', 'e', 'c', ' ', 'F', 'o', 'x']\n"
     ]
    }
   ],
   "source": [
    "animal = 'Fennec Fox'\n",
    "# I want a list of the letters here\n",
    "# list()\n",
    "animal = list(animal)\n",
    "print(animal)"
   ]
  },
  {
   "cell_type": "markdown",
   "metadata": {},
   "source": [
    "### Working With Lists"
   ]
  },
  {
   "cell_type": "code",
   "execution_count": 24,
   "metadata": {},
   "outputs": [
    {
     "name": "stdout",
     "output_type": "stream",
     "text": [
      "[0, 3, 6, 9, 12, 15, 18, 21, 24, 27, 30, 33, 36, 39, 42, 45, 48, 51, 54, 57, 60, 63, 66, 69, 72, 75, 78, 81, 84, 87, 90, 93, 96, 99]\n"
     ]
    }
   ],
   "source": [
    "nums = list(range(0, 101, 3))\n",
    "print(nums)\n",
    "letters = ['a', 'b', 'C', 'z', 'X']"
   ]
  },
  {
   "cell_type": "markdown",
   "metadata": {},
   "source": [
    "##### min()"
   ]
  },
  {
   "cell_type": "code",
   "execution_count": 25,
   "metadata": {},
   "outputs": [
    {
     "data": {
      "text/plain": [
       "'C'"
      ]
     },
     "execution_count": 25,
     "metadata": {},
     "output_type": "execute_result"
    }
   ],
   "source": [
    "# min(list)\n",
    "# works exactly as you might expect for integers/numerics\n",
    "# for strings - numbers < uppercase < lowercase (generally alphabetic order)\n",
    "min(nums)\n",
    "min(letters)"
   ]
  },
  {
   "cell_type": "markdown",
   "metadata": {},
   "source": [
    "##### max()"
   ]
  },
  {
   "cell_type": "code",
   "execution_count": 18,
   "metadata": {},
   "outputs": [
    {
     "data": {
      "text/plain": [
       "99"
      ]
     },
     "execution_count": 18,
     "metadata": {},
     "output_type": "execute_result"
    }
   ],
   "source": [
    "# max(list)\n",
    "max(nums)"
   ]
  },
  {
   "cell_type": "markdown",
   "metadata": {},
   "source": [
    "##### sum()"
   ]
  },
  {
   "cell_type": "code",
   "execution_count": 21,
   "metadata": {},
   "outputs": [
    {
     "data": {
      "text/plain": [
       "1683"
      ]
     },
     "execution_count": 21,
     "metadata": {},
     "output_type": "execute_result"
    }
   ],
   "source": [
    "# sum(list)\n",
    "sum(nums)"
   ]
  },
  {
   "cell_type": "markdown",
   "metadata": {},
   "source": [
    "##### sorted()"
   ]
  },
  {
   "cell_type": "code",
   "execution_count": 34,
   "metadata": {},
   "outputs": [
    {
     "name": "stdout",
     "output_type": "stream",
     "text": [
      "['C', 'X', 'a', 'b', 'z']\n",
      "['z', 'b', 'a', 'X', 'C']\n",
      "['C', 'X', 'a', 'b', 'z']\n"
     ]
    }
   ],
   "source": [
    "# sorted(list)\n",
    "# default - alphabetical order where numbers come before uppercase comes before lowercase\n",
    "print(letters)\n",
    "sorted_letters = sorted(letters, reverse=True)\n",
    "print(sorted_letters)\n",
    "print(letters)\n"
   ]
  },
  {
   "cell_type": "markdown",
   "metadata": {},
   "source": [
    "##### .sort() <br>\n",
    "<p>Difference between sort and sorted, is that sorted doesn't change original list it returns a copy, while .sort changes the original list</p>"
   ]
  },
  {
   "cell_type": "code",
   "execution_count": 33,
   "metadata": {},
   "outputs": [
    {
     "name": "stdout",
     "output_type": "stream",
     "text": [
      "['a', 'b', 'z', 'X', 'C']\n",
      "None\n",
      "['C', 'X', 'a', 'b', 'z']\n"
     ]
    }
   ],
   "source": [
    "# list.sort()\n",
    "letters = ['a', 'b', 'z', 'X', 'C']\n",
    "print(letters)\n",
    "sorted_letters = letters.sort()\n",
    "print(sorted_letters)\n",
    "print(letters)\n",
    "\n",
    "# use sorted when you don't want to alter original list, use .sort() when you want to alter original list"
   ]
  },
  {
   "cell_type": "code",
   "execution_count": 38,
   "metadata": {},
   "outputs": [
    {
     "data": {
      "text/plain": [
       "[['Jack Grealish', 10],\n",
       " ['Kevin De Bruyne', 17],\n",
       " ['Bernardo Silva', 21],\n",
       " ['Joao Cancelo', 27],\n",
       " ['Phil Foden', 47]]"
      ]
     },
     "execution_count": 38,
     "metadata": {},
     "output_type": "execute_result"
    }
   ],
   "source": [
    "# change the key parameter to change how you sort - note: don't worry about the lambda function now - more on those later\n",
    "mancity = [['Phil Foden', 47], ['Joao Cancelo', 27], ['Kevin De Bruyne', 17], ['Jack Grealish', 10], ['Bernardo Silva', 21]]\n",
    "mancity.sort(key=lambda x: x[1])\n",
    "mancity"
   ]
  },
  {
   "cell_type": "markdown",
   "metadata": {},
   "source": [
    "##### Copying a List"
   ]
  },
  {
   "cell_type": "code",
   "execution_count": 44,
   "metadata": {},
   "outputs": [
    {
     "name": "stdout",
     "output_type": "stream",
     "text": [
      "[['Phil Foden', 47], ['Joao Cancelo', 27], ['Kevin De Bruyne', 17], ['Jack Grealish', 10], ['Bernardo Silva', 21]]\n",
      "[['Jack Grealish', 10], ['Kevin De Bruyne', 17], ['Bernardo Silva', 21], ['Joao Cancelo', 27], ['Phil Foden', 47]]\n"
     ]
    }
   ],
   "source": [
    "# [:] copies a list, doesn't alter original\n",
    "# technically list slicing the entire list\n",
    "mancity = [['Phil Foden', 47], ['Joao Cancelo', 27], ['Kevin De Bruyne', 17], ['Jack Grealish', 10], ['Bernardo Silva', 21]]\n",
    "copy = mancity[:]\n",
    "copy.sort(key=lambda x:x[1])\n",
    "print(mancity)\n",
    "print(copy)"
   ]
  },
  {
   "cell_type": "markdown",
   "metadata": {},
   "source": [
    "##### 'in' keyword"
   ]
  },
  {
   "cell_type": "code",
   "execution_count": 46,
   "metadata": {},
   "outputs": [
    {
     "name": "stdout",
     "output_type": "stream",
     "text": [
      "['C', 'X', 'a', 'b', 'z']\n",
      "membership tests are useful\n"
     ]
    }
   ],
   "source": [
    "# membership tests\n",
    "print(letters)\n",
    "if 'X' in letters:\n",
    "    print('membership tests are useful')"
   ]
  },
  {
   "cell_type": "markdown",
   "metadata": {},
   "source": [
    "##### 'not in' keyword"
   ]
  },
  {
   "cell_type": "code",
   "execution_count": 47,
   "metadata": {},
   "outputs": [
    {
     "name": "stdout",
     "output_type": "stream",
     "text": [
      "orange is not a letter\n"
     ]
    }
   ],
   "source": [
    "if 'orange' not in letters:\n",
    "    print('orange is not a letter')"
   ]
  },
  {
   "cell_type": "code",
   "execution_count": 53,
   "metadata": {},
   "outputs": [
    {
     "name": "stdout",
     "output_type": "stream",
     "text": [
      "this is essentially a membership test just written out with our own code\n"
     ]
    }
   ],
   "source": [
    "# how can I determine if a player name is in the mancity list of lists?\n",
    "# use a for loop and a conditional\n",
    "for player in mancity:\n",
    "    if player[0] == 'Phil Foden':\n",
    "        print('this is essentially a membership test just written out with our own code')"
   ]
  },
  {
   "cell_type": "code",
   "execution_count": 56,
   "metadata": {},
   "outputs": [
    {
     "name": "stdout",
     "output_type": "stream",
     "text": [
      "Joao Cancelo is a player on your team.\n"
     ]
    }
   ],
   "source": [
    "def playerTest(team, name):\n",
    "    for player in team:\n",
    "        if player[0] == name:\n",
    "            print(f'{name} is a player on your team.')\n",
    "            \n",
    "playerTest([['Ederson Moraes', 1], ['Kyle Walker', 2], ['Raheem Sterling', 12], ['Joao Cancelo']], 'Joao Cancelo')"
   ]
  },
  {
   "cell_type": "markdown",
   "metadata": {},
   "source": [
    "##### Checking an Empty List"
   ]
  },
  {
   "cell_type": "code",
   "execution_count": 64,
   "metadata": {},
   "outputs": [
    {
     "name": "stdout",
     "output_type": "stream",
     "text": [
      "an empty list is inherently false\n",
      "emptylist is empty... who would have guessed\n"
     ]
    }
   ],
   "source": [
    "# if l_1: or if l_1 = []\n",
    "\n",
    "emptylist = []\n",
    "if emptylist == []:\n",
    "    print('an empty list is inherently false')\n",
    "\n",
    "if not emptylist:\n",
    "    print('emptylist is empty... who would have guessed')"
   ]
  },
  {
   "cell_type": "markdown",
   "metadata": {},
   "source": [
    "##### Removing Instances with a Loop"
   ]
  },
  {
   "cell_type": "code",
   "execution_count": 65,
   "metadata": {},
   "outputs": [
    {
     "name": "stdout",
     "output_type": "stream",
     "text": [
      "['Tiger Shark', 'Polar Bear', 'Grizzly Bear', 'Bear Bear', 'Bear Bear', 'Panda Bear', 'Red Panda', 'Bear Bear', 'Bear Bear']\n",
      "['Tiger Shark', 'Polar Bear', 'Grizzly Bear', 'Panda Bear', 'Red Panda']\n"
     ]
    }
   ],
   "source": [
    "# while, remove\n",
    "animals = ['Tiger Shark', 'Polar Bear', 'Grizzly Bear', 'Bear Bear', 'Bear Bear', 'Panda Bear', 'Red Panda', 'Bear Bear', 'Bear Bear']\n",
    "# remove all instances of 'Bear Bear'\n",
    "print(animals)\n",
    "\n",
    "while 'Bear Bear' in animals:\n",
    "    animals.remove('Bear Bear')\n",
    "    \n",
    "print(animals)"
   ]
  },
  {
   "cell_type": "code",
   "execution_count": 67,
   "metadata": {
    "scrolled": true
   },
   "outputs": [
    {
     "name": "stdout",
     "output_type": "stream",
     "text": [
      "['Tiger Shark', 'Polar Bear', 'Grizzly Bear', 'Bear Bear', 'Bear Bear', 'Panda Bear', 'Red Panda', 'Bear Bear', 'Bear Bear']\n",
      "['Tiger Shark', 'Polar Bear', 'Grizzly Bear', 'Panda Bear', 'Red Panda', 'Bear Bear', 'Bear Bear']\n"
     ]
    }
   ],
   "source": [
    "animals = ['Tiger Shark', 'Polar Bear', 'Grizzly Bear', 'Bear Bear', 'Bear Bear', 'Panda Bear', 'Red Panda', 'Bear Bear', 'Bear Bear']\n",
    "# first thought - let's use a for loop and just say for value in list if value is what we want to remove, remove it\n",
    "print(animals)\n",
    "for a in animals:\n",
    "    if a == 'Bear Bear':\n",
    "        animals.remove('Bear Bear')\n",
    "print(animals)\n",
    "# this does not work because of for loop auto-incrementing"
   ]
  },
  {
   "cell_type": "code",
   "execution_count": 68,
   "metadata": {},
   "outputs": [
    {
     "name": "stdout",
     "output_type": "stream",
     "text": [
      "['Tiger Shark', 'Polar Bear', 'Grizzly Bear', 'Bear Bear', 'Bear Bear', 'Panda Bear', 'Red Panda', 'Bear Bear', 'Bear Bear']\n",
      "['Tiger Shark', 'Polar Bear', 'Grizzly Bear', 'Panda Bear', 'Red Panda']\n"
     ]
    }
   ],
   "source": [
    "animals = ['Tiger Shark', 'Polar Bear', 'Grizzly Bear', 'Bear Bear', 'Bear Bear', 'Panda Bear', 'Red Panda', 'Bear Bear', 'Bear Bear']\n",
    "print(animals)\n",
    "\n",
    "i = 0 # pointer variable\n",
    "while i < len(animals):\n",
    "    if animals[i] == 'Bear Bear':\n",
    "        animals.pop(i)\n",
    "    else:\n",
    "        i += 1\n",
    "\n",
    "print(animals)"
   ]
  },
  {
   "cell_type": "markdown",
   "metadata": {},
   "source": [
    "### List Exercise <br>\n",
    "<p>Remove all duplicates<br><b>Extra: Create a program that will remove any duplicates from a given list</b></p>"
   ]
  },
  {
   "cell_type": "code",
   "execution_count": 73,
   "metadata": {},
   "outputs": [
    {
     "name": "stdout",
     "output_type": "stream",
     "text": [
      "['connor', 'bob', 'evan', 'max', 2, 3, 4, 'kevin']\n",
      "['Tiger Shark', 'Polar Bear', 'Grizzly Bear', 'Bear Bear', 'Panda Bear', 'Red Panda']\n"
     ]
    }
   ],
   "source": [
    "names = ['connor', 'connor', 'bob', 'connor', 'evan', 'max', 'evan', 2, 2, 2, 3, 3, 4, 'bob', 'kevin']\n",
    "# Hint 1: You will need an append\n",
    "# Hint 2: Using an empty list will make life easier\n",
    "\n",
    "\n",
    "names_dup = []\n",
    "\n",
    "for x in names:\n",
    "    if x not in names_dup:\n",
    "        names_dup.append(x)\n",
    "print(names_dup)\n",
    "\n",
    "def removeDupes(a_list):\n",
    "    answer = []\n",
    "    for value in a_list:\n",
    "        if value not in answer:\n",
    "            answer.append(value)\n",
    "    return answer\n",
    "\n",
    "animals = ['Tiger Shark', 'Polar Bear', 'Grizzly Bear', 'Bear Bear', 'Bear Bear', 'Panda Bear', 'Red Panda', 'Bear Bear', 'Bear Bear']\n",
    "animals_no_dupes = removeDupes(animals)\n",
    "print(animals_no_dupes)"
   ]
  },
  {
   "cell_type": "code",
   "execution_count": 71,
   "metadata": {},
   "outputs": [
    {
     "data": {
      "text/plain": [
       "[2, 3, 4, 'max', 'bob', 'evan', 'kevin', 'connor']"
      ]
     },
     "execution_count": 71,
     "metadata": {},
     "output_type": "execute_result"
    }
   ],
   "source": [
    "names = list(set(names))\n",
    "names"
   ]
  },
  {
   "cell_type": "markdown",
   "metadata": {},
   "source": [
    "### List Comprehensions <br>\n",
    "<p>Creating a quickly generated list to work with<br>*result*  = [*transform*    *iteration*         *filter*     ]</p>"
   ]
  },
  {
   "cell_type": "markdown",
   "metadata": {},
   "source": [
    "##### In a list comprehension we have a few pieces:\n",
    "1. Then we have a transform for the variable\n",
    "2. The first is the counter/ variable - IN this the variable is x\n",
    "3. The finale part of a list comp is called the condition\n",
    "\n",
    "```python\n",
    "    [transform, variable, condition]\n",
    "```"
   ]
  },
  {
   "cell_type": "code",
   "execution_count": 78,
   "metadata": {},
   "outputs": [
    {
     "name": "stdout",
     "output_type": "stream",
     "text": [
      "[2, 3, 4, 5, 6, 7, 8, 9, 10, 11, 12, 13, 14]\n",
      "[4, 16, 36, 64, 100, 144, 196]\n",
      "[4, 16, 36, 64, 100, 144, 196]\n"
     ]
    }
   ],
   "source": [
    "# number comprehension\n",
    "nums = list(range(2,15))\n",
    "print(nums)\n",
    "# With a regular for loop\n",
    "squares = []\n",
    "for x in nums:\n",
    "    if x**2 % 2 == 0: # if the square is even\n",
    "        squares.append(x**2) # append the square to the new list\n",
    "print(squares)\n",
    "# IN a list comprehension we have a few pieces:\n",
    "# The first is a transform for the variable\n",
    "# Then we have the counter/ variable - IN this the variable is x\n",
    "# The finale part of a list comp is called the condition\n",
    "#[transform, variable/iteration, condition]\n",
    "\n",
    "squares = [x**2 for x in nums if x**2 % 2 == 0]\n",
    "print(squares)\n"
   ]
  },
  {
   "cell_type": "markdown",
   "metadata": {},
   "source": [
    "There are a few benefits to using List comprehensions. The most obvious would be that we now have shorter code to work with instead of using 3+ lines of code in the for loop variant.\n",
    "\n",
    "Another is an added benefit to memory usage. Since the list's memory is allocated first before adding elements to it, we don't have to resize the list once we add elements to it.\n",
    "\n",
    "Lastly, list comprehensions are considered the \"pythonic\" way to write code by the PEP8 standards (Python Style Guide)"
   ]
  },
  {
   "cell_type": "code",
   "execution_count": 82,
   "metadata": {},
   "outputs": [
    {
     "name": "stdout",
     "output_type": "stream",
     "text": [
      "['f', 'e', 'n', 'n', 'e', 'c', ' ', 'f', 'o', 'x']\n"
     ]
    }
   ],
   "source": [
    "# string comprehension\n",
    "animal = 'FENNEC FOX'\n",
    "letters = [l.lower() for l in animal]\n",
    "print(letters)"
   ]
  },
  {
   "cell_type": "code",
   "execution_count": 83,
   "metadata": {},
   "outputs": [
    {
     "data": {
      "text/plain": [
       "['Phil Foden', 'Joao Cancelo', 'Bernardo Silva']"
      ]
     },
     "execution_count": 83,
     "metadata": {},
     "output_type": "execute_result"
    }
   ],
   "source": [
    "mancity = [['Phil Foden', 47], ['Joao Cancelo', 27], ['Kevin De Bruyne', 17], ['Jack Grealish', 10], ['Bernardo Silva', 21]]\n",
    "\n",
    "# I want just player names with numbers above 20\n",
    "names = [x[0] for x in mancity if x[1] > 20]\n",
    "\n",
    "names"
   ]
  },
  {
   "cell_type": "code",
   "execution_count": null,
   "metadata": {},
   "outputs": [],
   "source": []
  },
  {
   "cell_type": "markdown",
   "metadata": {},
   "source": [
    "### Tuples <br>\n",
    "<p><b>Defined as an immutable list</b></p><br>Seperated by commas using parenthesis"
   ]
  },
  {
   "cell_type": "code",
   "execution_count": 97,
   "metadata": {},
   "outputs": [
    {
     "name": "stdout",
     "output_type": "stream",
     "text": [
      "<class 'tuple'>\n",
      "('Bernardo Silva', 'Riyadh Mahrez', 'Raheem Sterling', 'Phil Foden')\n"
     ]
    }
   ],
   "source": [
    "goalscorers = ('Bernardo Silva', 'Riyadh Mahrez', 'Raheem Sterling', 'Phil Foden')\n",
    "print(type(goalscorers))\n",
    "print(goalscorers)"
   ]
  },
  {
   "cell_type": "markdown",
   "metadata": {},
   "source": [
    "##### sorted()"
   ]
  },
  {
   "cell_type": "code",
   "execution_count": 102,
   "metadata": {},
   "outputs": [
    {
     "name": "stdout",
     "output_type": "stream",
     "text": [
      "['Bernardo Silva', 'Phil Foden', 'Raheem Sterling', 'Riyadh Mahrez'] <class 'list'>\n",
      "('Bernardo Silva', 'Phil Foden', 'Raheem Sterling', 'Riyadh Mahrez')\n"
     ]
    }
   ],
   "source": [
    "# .sort() is not a thing for tuples -> we cannot in-place sort a tuple\n",
    "print(sorted(goalscorers), type(sorted(goalscorers)))\n",
    "\n",
    "# if we wanted to appear to directly sort a tuple\n",
    "    # we can redefine the variable as a new tuple created from a list version of the original tuple\n",
    "goalscorers = tuple(sorted(goalscorers))\n",
    "print(goalscorers)"
   ]
  },
  {
   "cell_type": "markdown",
   "metadata": {},
   "source": [
    "##### Adding values to a Tuple"
   ]
  },
  {
   "cell_type": "code",
   "execution_count": 104,
   "metadata": {},
   "outputs": [
    {
     "name": "stdout",
     "output_type": "stream",
     "text": [
      "('Bernardo Silva', 'Phil Foden', 'Raheem Sterling', 'Riyadh Mahrez')\n",
      "('Bernardo Silva', 'Phil Foden', 'Raheem Sterling', 'Riyadh Mahrez', 'Joao Cancelo')\n"
     ]
    }
   ],
   "source": [
    "# we can't directly but we can\n",
    "    # convert the tuple to a list\n",
    "    # append to the list\n",
    "    # convert back to a tuple\n",
    "print(goalscorers)\n",
    "goalscorers = list(goalscorers)\n",
    "goalscorers.append('Joao Cancelo')\n",
    "goalscorers = tuple(goalscorers)\n",
    "print(goalscorers)"
   ]
  },
  {
   "cell_type": "markdown",
   "metadata": {},
   "source": [
    "## Functions"
   ]
  },
  {
   "cell_type": "markdown",
   "metadata": {},
   "source": [
    "##### User-Defined vs. Built-In Functions"
   ]
  },
  {
   "cell_type": "code",
   "execution_count": null,
   "metadata": {},
   "outputs": [],
   "source": []
  },
  {
   "cell_type": "markdown",
   "metadata": {},
   "source": [
    "##### Accepting Parameters"
   ]
  },
  {
   "cell_type": "code",
   "execution_count": null,
   "metadata": {},
   "outputs": [],
   "source": []
  },
  {
   "cell_type": "markdown",
   "metadata": {},
   "source": [
    "##### Default Parameters"
   ]
  },
  {
   "cell_type": "code",
   "execution_count": null,
   "metadata": {},
   "outputs": [],
   "source": []
  },
  {
   "cell_type": "markdown",
   "metadata": {},
   "source": [
    "##### Making an Argument Optional"
   ]
  },
  {
   "cell_type": "code",
   "execution_count": null,
   "metadata": {},
   "outputs": [],
   "source": []
  },
  {
   "cell_type": "markdown",
   "metadata": {},
   "source": [
    "##### Keyword Arguments"
   ]
  },
  {
   "cell_type": "code",
   "execution_count": null,
   "metadata": {},
   "outputs": [],
   "source": [
    "# last_name='Max', first_name='Smith' in the function call\n",
    "\n",
    "# see above"
   ]
  },
  {
   "cell_type": "markdown",
   "metadata": {},
   "source": [
    "# Creating a start, stop, step function"
   ]
  },
  {
   "cell_type": "code",
   "execution_count": null,
   "metadata": {},
   "outputs": [],
   "source": []
  },
  {
   "cell_type": "markdown",
   "metadata": {},
   "source": [
    "##### Returning Values"
   ]
  },
  {
   "cell_type": "code",
   "execution_count": null,
   "metadata": {},
   "outputs": [],
   "source": []
  },
  {
   "cell_type": "markdown",
   "metadata": {},
   "source": [
    "##### *args"
   ]
  },
  {
   "cell_type": "code",
   "execution_count": null,
   "metadata": {},
   "outputs": [],
   "source": []
  },
  {
   "cell_type": "markdown",
   "metadata": {},
   "source": [
    "##### Docstring"
   ]
  },
  {
   "cell_type": "code",
   "execution_count": null,
   "metadata": {},
   "outputs": [],
   "source": []
  },
  {
   "cell_type": "markdown",
   "metadata": {},
   "source": [
    "##### Using a User Function in a Loop"
   ]
  },
  {
   "cell_type": "code",
   "execution_count": null,
   "metadata": {},
   "outputs": [],
   "source": []
  },
  {
   "cell_type": "markdown",
   "metadata": {},
   "source": [
    "## Function Exercise <br>\n",
    "<p>Write a function that loops through a list of first_names and a list of last_names, combines the two and return a list of full_names</p>"
   ]
  },
  {
   "cell_type": "code",
   "execution_count": null,
   "metadata": {},
   "outputs": [],
   "source": [
    "first_name = ['John', 'Evan', 'Jordan', 'Max']\n",
    "last_name = ['Smith', 'Smith', 'Williams', 'Bell']\n",
    "\n",
    "# Output: ['John Smith', 'Evan Smith', 'Jordan Williams', 'Max Bell']\n"
   ]
  },
  {
   "cell_type": "markdown",
   "metadata": {},
   "source": [
    "## Scope <br>\n",
    "<p>Scope refers to the ability to access variables, different types of scope include:<br>a) Global<br>b) Function (local)<br>c) Class (local)</p>"
   ]
  },
  {
   "cell_type": "code",
   "execution_count": null,
   "metadata": {},
   "outputs": [],
   "source": []
  },
  {
   "cell_type": "markdown",
   "metadata": {},
   "source": [
    "# Exercises"
   ]
  },
  {
   "cell_type": "markdown",
   "metadata": {},
   "source": [
    "## Exercise 1 <br>\n",
    "<p>Given a list as a parameter,write a function that returns a list of numbers that are less than ten</b></i></p><br>\n",
    "<p> For example: Say your input parameter to the function is [1,11,14,5,8,9]...Your output should [1,5,8,9]</p>"
   ]
  },
  {
   "cell_type": "code",
   "execution_count": null,
   "metadata": {},
   "outputs": [],
   "source": [
    "# Use the following list - [1,11,14,5,8,9]\n",
    "\n",
    "l_1 = [1,11,14,5,8,9]\n"
   ]
  },
  {
   "cell_type": "markdown",
   "metadata": {},
   "source": [
    "## Exercise 2 <br>\n",
    "<p>Write a function that takes in two lists and returns the two lists merged together and sorted<br>\n",
    "<b><i>Hint: You can use the .sort() method</i></b></p>"
   ]
  },
  {
   "cell_type": "code",
   "execution_count": null,
   "metadata": {},
   "outputs": [],
   "source": [
    "l_1 = [1,2,3,4,5,6]\n",
    "l_2 = [3,4,5,6,7,8,10]\n",
    "\n"
   ]
  }
 ],
 "metadata": {
  "kernelspec": {
   "display_name": "Python 3",
   "language": "python",
   "name": "python3"
  },
  "language_info": {
   "codemirror_mode": {
    "name": "ipython",
    "version": 3
   },
   "file_extension": ".py",
   "mimetype": "text/x-python",
   "name": "python",
   "nbconvert_exporter": "python",
   "pygments_lexer": "ipython3",
   "version": "3.8.8"
  }
 },
 "nbformat": 4,
 "nbformat_minor": 2
}
